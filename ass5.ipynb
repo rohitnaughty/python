{
 "cells": [
  {
   "cell_type": "markdown",
   "id": "a6750a89-a62c-4a6d-b0ae-53c7211530f1",
   "metadata": {},
   "source": [
    "Write a Python Program to Find LCM?"
   ]
  },
  {
   "cell_type": "code",
   "execution_count": 5,
   "id": "ae09a29c-b540-4a97-8d14-1ae553285bf7",
   "metadata": {},
   "outputs": [
    {
     "name": "stdin",
     "output_type": "stream",
     "text": [
      "enter first no 4\n",
      "enter second no 2\n"
     ]
    },
    {
     "name": "stdout",
     "output_type": "stream",
     "text": [
      "lcm= 4\n"
     ]
    }
   ],
   "source": [
    "x= int(input(\"enter first no\"))\n",
    "y=int(input(\"enter second no\"))\n",
    "if x>y:\n",
    "    greater=x\n",
    "else:\n",
    "    greater=y\n",
    "if ((greater %x==0)and (greater%y==0)):\n",
    "        lcm=greater\n",
    "        \n",
    "else:\n",
    "    lcm=x*y\n",
    "print(\"lcm=\",lcm)"
   ]
  },
  {
   "cell_type": "markdown",
   "id": "ba70fc13-111e-4bdb-a3a5-762162572177",
   "metadata": {},
   "source": [
    "2. Write a Python Program to Find HCF?"
   ]
  },
  {
   "cell_type": "code",
   "execution_count": 2,
   "id": "c94a22fe-1ecb-4ff6-ab92-119d0eecf75e",
   "metadata": {},
   "outputs": [
    {
     "name": "stdin",
     "output_type": "stream",
     "text": [
      "enter 1st no 544545\n",
      "enter 2nd no 2\n"
     ]
    },
    {
     "name": "stdout",
     "output_type": "stream",
     "text": [
      "The Hcf is  1\n"
     ]
    }
   ],
   "source": [
    "def compute_hcf(x,y):\n",
    "    if x>y:\n",
    "        smaller=y\n",
    "    else:\n",
    "        smaller=x\n",
    "    for i in range(1,smaller+1):\n",
    "        if((x%i==0)and(y%i==0)):\n",
    "            hcf=i\n",
    "    return hcf\n",
    "n1=int(input(\"enter 1st no\"))\n",
    "n2=int(input(\"enter 2nd no\"))\n",
    "print(\"The Hcf is \",compute_hcf(n1,n2))\n"
   ]
  },
  {
   "cell_type": "markdown",
   "id": "28df6ff1-f912-4855-a6e7-5420132fe069",
   "metadata": {},
   "source": [
    "3. Write a Python Program to Convert Decimal to Binary, Octal and Hexadecimal?"
   ]
  },
  {
   "cell_type": "code",
   "execution_count": 4,
   "id": "cdc3f153-a57f-4552-80f1-1395c8d58524",
   "metadata": {},
   "outputs": [
    {
     "name": "stdin",
     "output_type": "stream",
     "text": [
      "enter a decimal 20\n"
     ]
    },
    {
     "name": "stdout",
     "output_type": "stream",
     "text": [
      "the decimal value of  20 is\n",
      "0b10100 in binary\n",
      "0o24 is octal\n",
      "0x14 in hexadecimal\n"
     ]
    }
   ],
   "source": [
    "dec=int(input(\"enter a decimal\"))\n",
    "print(\"the decimal value of \",dec,\"is\")\n",
    "print(bin(dec),\"in binary\")\n",
    "print(oct(dec),\"is octal\")\n",
    "print(hex(dec),\"in hexadecimal\")\n"
   ]
  },
  {
   "cell_type": "markdown",
   "id": "324f4b06-f004-40ac-875a-8c2797abb5f0",
   "metadata": {},
   "source": [
    "4. Write a Python Program To Find ASCII value of a character?"
   ]
  },
  {
   "cell_type": "code",
   "execution_count": null,
   "id": "14b66428-ad38-4dd4-a283-212d751e95de",
   "metadata": {},
   "outputs": [],
   "source": [
    "char=str(input(\"enter a character\"))\n",
    "if len(char)==1:\n",
    "    \n",
    "    print(\"The ASCII value of character is \",ord(char))\n",
    "else:print(\"invalid charactor\")"
   ]
  },
  {
   "cell_type": "markdown",
   "id": "3aa5df5c-246f-4fd7-9cdf-48352852daf2",
   "metadata": {},
   "source": [
    "5. Write a Python Program to Make a Simple Calculator with 4 basic mathematical operations?"
   ]
  },
  {
   "cell_type": "code",
   "execution_count": 16,
   "id": "169add7d-62d0-4e02-b28b-739ed04c75cb",
   "metadata": {},
   "outputs": [
    {
     "name": "stdin",
     "output_type": "stream",
     "text": [
      "enter operator[+,-,*,/ are avilable] *\n",
      "enter a 1st no 22\n",
      "enter a 2nd no 1\n"
     ]
    },
    {
     "name": "stdout",
     "output_type": "stream",
     "text": [
      "multiplication of two no is  22\n"
     ]
    }
   ],
   "source": [
    "operator=input(\"enter operator[+,-,*,/ are avilable]\")\n",
    "no1=int(input(\"enter a 1st no\"))\n",
    "no2=int(input(\"enter a 2nd no\"))\n",
    "                \n",
    "    \n",
    "if operator==\"+\":\n",
    "                   print(\"addition of two no is \",(no1+no2))\n",
    "elif operator==\"-\":\n",
    "                   print(\"subtration of two no is \",(no1-no2))\n",
    "elif operator==\"*\":\n",
    "                   print(\"multiplication of two no is \",(no1*no2))\n",
    "elif operator==\"/\": \n",
    "                   print(\"division of two no is \",(no1/no2))\n",
    "else:print(\"invalid operator\")                "
   ]
  },
  {
   "cell_type": "code",
   "execution_count": null,
   "id": "2bd36e54-4f20-4540-b0f9-aae3a942d223",
   "metadata": {},
   "outputs": [],
   "source": []
  },
  {
   "cell_type": "code",
   "execution_count": null,
   "id": "7455ec63-077c-4c1f-9375-9597de694485",
   "metadata": {},
   "outputs": [],
   "source": []
  },
  {
   "cell_type": "code",
   "execution_count": null,
   "id": "15ac7ddb-295c-4a7e-97fd-3b4e101e6840",
   "metadata": {},
   "outputs": [],
   "source": []
  }
 ],
 "metadata": {
  "kernelspec": {
   "display_name": "Python 3 (ipykernel)",
   "language": "python",
   "name": "python3"
  },
  "language_info": {
   "codemirror_mode": {
    "name": "ipython",
    "version": 3
   },
   "file_extension": ".py",
   "mimetype": "text/x-python",
   "name": "python",
   "nbconvert_exporter": "python",
   "pygments_lexer": "ipython3",
   "version": "3.9.12"
  }
 },
 "nbformat": 4,
 "nbformat_minor": 5
}
