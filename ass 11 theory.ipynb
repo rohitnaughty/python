{
 "cells": [
  {
   "cell_type": "markdown",
   "id": "ae3a91c3-f5c9-4f7c-afa3-52369e2fdceb",
   "metadata": {},
   "source": [
    "1. Create an assert statement that throws an AssertionError if the variable spam is a negative\n",
    "integer.\n"
   ]
  },
  {
   "cell_type": "markdown",
   "id": "12439b6f-a96f-49d5-aac3-af5907fd0286",
   "metadata": {},
   "source": [
    "The assert statement is used to continue the execute if the given condition evaluate to false ,then it raise the AssertionError exception with the specified error message.\n"
   ]
  },
  {
   "cell_type": "code",
   "execution_count": null,
   "id": "301b8933-8f29-43d8-a980-359db5584a44",
   "metadata": {},
   "outputs": [],
   "source": [
    "import pyinputplus as pyip\n",
    "\n",
    "spam=pyip.inputNum(\"Enter a positive number :\")\n",
    "assert spam>0\n",
    "print(spam,'is a positive number')"
   ]
  },
  {
   "cell_type": "markdown",
   "id": "7a5161e0-a6f5-45b1-b9e8-187104704492",
   "metadata": {},
   "source": [
    "2. Write an assert statement that triggers an AssertionError if the variables eggs and bacon contain\n",
    "strings that are the same as each other, even if their cases are different (that is, \"hello\" and \"hello\" are\n",
    "considered the same, and \"goodbye\" and \"GOODbye\" are also considered the same).\n"
   ]
  },
  {
   "cell_type": "code",
   "execution_count": 1,
   "id": "f46ffa09-f06b-4cb2-a046-24dbae68f41d",
   "metadata": {},
   "outputs": [
    {
     "ename": "AssertionError",
     "evalue": "",
     "output_type": "error",
     "traceback": [
      "\u001b[0;31m---------------------------------------------------------------------------\u001b[0m",
      "\u001b[0;31mAssertionError\u001b[0m                            Traceback (most recent call last)",
      "Input \u001b[0;32mIn [1]\u001b[0m, in \u001b[0;36m<cell line: 4>\u001b[0;34m()\u001b[0m\n\u001b[1;32m      1\u001b[0m eggs \u001b[38;5;241m=\u001b[39m\u001b[38;5;124m\"\u001b[39m\u001b[38;5;124mHello\u001b[39m\u001b[38;5;124m\"\u001b[39m\n\u001b[1;32m      2\u001b[0m bacon\u001b[38;5;241m=\u001b[39m\u001b[38;5;124m\"\u001b[39m\u001b[38;5;124mhello\u001b[39m\u001b[38;5;124m\"\u001b[39m\n\u001b[0;32m----> 4\u001b[0m \u001b[38;5;28;01massert\u001b[39;00m eggs\u001b[38;5;241m.\u001b[39mlower() \u001b[38;5;241m!=\u001b[39mbacon\u001b[38;5;241m.\u001b[39mlower() \u001b[38;5;129;01mor\u001b[39;00m eggs\u001b[38;5;241m.\u001b[39mupper() \u001b[38;5;241m!=\u001b[39mbacon\u001b[38;5;241m.\u001b[39mupper()\n\u001b[1;32m      5\u001b[0m \u001b[38;5;28mprint\u001b[39m(\u001b[38;5;124m\"\u001b[39m\u001b[38;5;124mThe eggs and bacon variable are not the same!  \u001b[39m\u001b[38;5;124m\"\u001b[39m)\n",
      "\u001b[0;31mAssertionError\u001b[0m: "
     ]
    }
   ],
   "source": [
    "eggs =\"Hello\"\n",
    "bacon=\"hello\"\n",
    "\n",
    "assert eggs.lower() !=bacon.lower() or eggs.upper() !=bacon.upper()\n",
    "print(\"The eggs and bacon variable are not the same!  \")"
   ]
  },
  {
   "cell_type": "markdown",
   "id": "ab0bd9e4-3cd0-4e02-97de-14c969470407",
   "metadata": {},
   "source": [
    "3. Create an assert statement that throws an AssertionError every time.\n"
   ]
  },
  {
   "cell_type": "markdown",
   "id": "5ae66b83-27f9-4ac7-be9c-56ea1838054e",
   "metadata": {},
   "source": [
    "assert False ->this always triggers an exception "
   ]
  },
  {
   "cell_type": "markdown",
   "id": "512299d3-37de-4342-be6a-75c6c676d954",
   "metadata": {},
   "source": [
    "4. What are the two lines that must be present in your software in order to call logging.debug()?\n"
   ]
  },
  {
   "cell_type": "markdown",
   "id": "539ac058-e6a6-46d1-8237-6385776764ed",
   "metadata": {},
   "source": [
    "To be able to call logging.debug(), we must have these two lines at the start of your program:\n",
    "    "
   ]
  },
  {
   "cell_type": "code",
   "execution_count": null,
   "id": "199d8518-ef11-4a0e-9e6f-2c4c57471764",
   "metadata": {},
   "outputs": [],
   "source": [
    "import logging\n",
    "logging.basicConfig(level=logging.DEBUG,format=' %(asctime)s - %(levelname)s - %(message)s')\n",
    "import logging as lg \n",
    "lg.basicConfig(level=lg.DEBUG,format=' %(asctime)s - %(levelname)s - %(message)s')"
   ]
  },
  {
   "cell_type": "markdown",
   "id": "001e9569-ee68-436d-9d07-a14a434eb263",
   "metadata": {},
   "source": [
    "5. What are the two lines that your program must have in order to have logging.debug() send a\n",
    "logging message to a file named programLog.txt?\n"
   ]
  },
  {
   "cell_type": "code",
   "execution_count": 5,
   "id": "53ace580-75f2-4eb4-8656-aecbfdfc3808",
   "metadata": {},
   "outputs": [],
   "source": [
    "import logging as lg\n",
    "lg.basicConfig(filename=\"programLog.txt\",level=lg.DEBUG,format=\"%(asctime)s - %(levelname)s - %(message)s\")"
   ]
  },
  {
   "cell_type": "markdown",
   "id": "3ad82264-62ba-484b-a732-215baee9bab5",
   "metadata": {},
   "source": [
    "6. What are the five levels of logging?\n"
   ]
  },
  {
   "cell_type": "raw",
   "id": "5f024068-614f-46cf-b677-02c291f0c33c",
   "metadata": {},
   "source": [
    "\"\"\"Five level of loggings are DEBUG,INFO,WARNING,ERROR and CRITICAL\n",
    "logging.debug() ->variable's state and small detail\n",
    "logging.info() ->general events , confirm a program is working \n",
    "logging.warning() -> potential problem to work on in the future  \n",
    "logging.error() -record an error that cause program to fail to do something \n",
    "logging.critical() -fatal error that has caused\"\"\""
   ]
  },
  {
   "cell_type": "markdown",
   "id": "b126d803-c51e-4c22-8709-831713f1e28b",
   "metadata": {},
   "source": [
    "7. What line of code would you add to your software to disable all logging messages?\n"
   ]
  },
  {
   "cell_type": "raw",
   "id": "6874cf0c-9696-4b20-a40f-c4bc56001e2b",
   "metadata": {},
   "source": [
    "logging.disable(level)->Disable all logging calls of severity \"level\" and below. set level=logging.CRITICAL\n",
    "since CRITICAL being the  highest level,every other level logggings will be disabled.\n"
   ]
  },
  {
   "cell_type": "code",
   "execution_count": 4,
   "id": "11e5251a-c13b-42c9-928f-851c74566c30",
   "metadata": {},
   "outputs": [],
   "source": [
    "import logging as lg\n",
    "lg.disable(lg.CRITICAL)"
   ]
  },
  {
   "cell_type": "code",
   "execution_count": null,
   "id": "f1493884-e053-41b9-bdb1-15edf4665967",
   "metadata": {},
   "outputs": [],
   "source": [
    "8.Why is using logging messages better than using print() to display the same message?\n"
   ]
  },
  {
   "cell_type": "raw",
   "id": "cd00d104-388e-43f5-8722-189226392022",
   "metadata": {},
   "source": [
    "You can disable logging messages without removing the logging fuction calls .\n",
    "You can selectively disable lower level logging messages.\n",
    "tou can create logging messages. logging messages provided a timestamp."
   ]
  },
  {
   "cell_type": "code",
   "execution_count": null,
   "id": "a255de9d-4988-48fc-87e3-c7b0eb1643c7",
   "metadata": {},
   "outputs": [],
   "source": [
    "9. What are the differences between the Step Over, Step In, and Step Out buttons in the debugger?\n"
   ]
  },
  {
   "cell_type": "raw",
   "id": "530acbc4-2eed-4aad-9478-0a892f81de81",
   "metadata": {},
   "source": [
    "The step in button will move the debugger into a function call.\n",
    "The over button will quickely execute the function call without stepping into it.\n",
    "The out button will quickly execute the rest of the code until it steps out of the function it currently is in."
   ]
  },
  {
   "cell_type": "code",
   "execution_count": null,
   "id": "01788b03-a1b4-4030-8a8e-247901fde4f2",
   "metadata": {},
   "outputs": [],
   "source": [
    "10.After you click Continue, when will the debugger stop ?\n"
   ]
  },
  {
   "cell_type": "code",
   "execution_count": null,
   "id": "1be7d695-117a-46bc-a7fa-15e6909fb1cf",
   "metadata": {},
   "outputs": [],
   "source": [
    "It will stops at next breakpoint, if there are no further breakpoints program will be fully  executed."
   ]
  },
  {
   "cell_type": "code",
   "execution_count": null,
   "id": "e004893c-6038-4959-add8-d9cef8133e99",
   "metadata": {},
   "outputs": [],
   "source": [
    "11. What is the concept of a breakpoint?"
   ]
  },
  {
   "cell_type": "code",
   "execution_count": null,
   "id": "0c5d7a4a-dc6d-4f59-bd8c-1af6546d43f6",
   "metadata": {},
   "outputs": [],
   "source": []
  },
  {
   "cell_type": "code",
   "execution_count": null,
   "id": "4652662b-9181-41d6-9fea-200e214801c0",
   "metadata": {},
   "outputs": [],
   "source": []
  },
  {
   "cell_type": "code",
   "execution_count": null,
   "id": "40663738-ad8d-48cc-9b0e-5a089fd872f3",
   "metadata": {},
   "outputs": [],
   "source": []
  },
  {
   "cell_type": "code",
   "execution_count": null,
   "id": "40366a7f-291e-47de-8f8c-e5fbd7b2674f",
   "metadata": {},
   "outputs": [],
   "source": []
  },
  {
   "cell_type": "code",
   "execution_count": null,
   "id": "39be2c25-7471-45a5-8971-78ee329479ca",
   "metadata": {},
   "outputs": [],
   "source": []
  },
  {
   "cell_type": "code",
   "execution_count": null,
   "id": "64a3821c-6656-4890-be13-9f39c268361a",
   "metadata": {},
   "outputs": [],
   "source": []
  },
  {
   "cell_type": "code",
   "execution_count": null,
   "id": "215d7951-9856-43a0-9573-600605db4502",
   "metadata": {},
   "outputs": [],
   "source": []
  },
  {
   "cell_type": "code",
   "execution_count": null,
   "id": "82cf775a-6f0a-4254-91fb-dc7ddacf1b37",
   "metadata": {},
   "outputs": [],
   "source": []
  },
  {
   "cell_type": "code",
   "execution_count": null,
   "id": "255730ab-d32c-4d04-9a7d-b7ef1a6ecaad",
   "metadata": {},
   "outputs": [],
   "source": []
  },
  {
   "cell_type": "code",
   "execution_count": null,
   "id": "4a3caa2c-76bc-4da6-8597-c7002ba89ced",
   "metadata": {},
   "outputs": [],
   "source": []
  },
  {
   "cell_type": "code",
   "execution_count": null,
   "id": "95ba1260-4a36-4338-8151-cabf8fb974dd",
   "metadata": {},
   "outputs": [],
   "source": []
  },
  {
   "cell_type": "code",
   "execution_count": null,
   "id": "64189138-2c23-48ef-98d5-b160a70e04c9",
   "metadata": {},
   "outputs": [],
   "source": []
  },
  {
   "cell_type": "code",
   "execution_count": null,
   "id": "0bce3078-6b76-4fea-a608-1fb3892bf12e",
   "metadata": {},
   "outputs": [],
   "source": []
  },
  {
   "cell_type": "code",
   "execution_count": null,
   "id": "d6f9b29e-0993-4d0e-b466-98bc6637fb88",
   "metadata": {},
   "outputs": [],
   "source": []
  },
  {
   "cell_type": "code",
   "execution_count": null,
   "id": "9bdebb2f-2f50-4006-9911-190e548fd3d4",
   "metadata": {},
   "outputs": [],
   "source": []
  },
  {
   "cell_type": "code",
   "execution_count": null,
   "id": "ea0c4ac4-b3e1-4a2a-be79-b4458de90a95",
   "metadata": {},
   "outputs": [],
   "source": []
  },
  {
   "cell_type": "code",
   "execution_count": null,
   "id": "06d1ae45-345b-4f37-9fa2-33b4ecd5cc6c",
   "metadata": {},
   "outputs": [],
   "source": []
  },
  {
   "cell_type": "code",
   "execution_count": null,
   "id": "4013036c-8d90-4ac7-bbf3-b4d8d7397a7e",
   "metadata": {},
   "outputs": [],
   "source": []
  },
  {
   "cell_type": "code",
   "execution_count": null,
   "id": "ace0b5ad-a9c3-497e-8e13-e46aa79053d8",
   "metadata": {},
   "outputs": [],
   "source": []
  }
 ],
 "metadata": {
  "kernelspec": {
   "display_name": "Python 3 (ipykernel)",
   "language": "python",
   "name": "python3"
  },
  "language_info": {
   "codemirror_mode": {
    "name": "ipython",
    "version": 3
   },
   "file_extension": ".py",
   "mimetype": "text/x-python",
   "name": "python",
   "nbconvert_exporter": "python",
   "pygments_lexer": "ipython3",
   "version": "3.9.12"
  }
 },
 "nbformat": 4,
 "nbformat_minor": 5
}
