{
 "cells": [
  {
   "cell_type": "raw",
   "id": "1705568c-34a2-4720-a3be-6310bc9ac740",
   "metadata": {},
   "source": [
    "1. What does an empty dictionary's code look like?"
   ]
  },
  {
   "cell_type": "raw",
   "id": "b26ad17b-921b-47b4-bf43-87d697080c45",
   "metadata": {},
   "source": [
    "dictonary looks like {} \n"
   ]
  },
  {
   "cell_type": "raw",
   "id": "554053ab-388f-44fd-84a5-4388262af92e",
   "metadata": {},
   "source": [
    "2. What is the value of a dictionary value with the key \"foo\" and the value 42?"
   ]
  },
  {
   "cell_type": "raw",
   "id": "2f5fd7e9-2522-4df9-af24-baf3849625b2",
   "metadata": {},
   "source": [
    "{\"foo\":42}"
   ]
  },
  {
   "cell_type": "raw",
   "id": "b6938aa0-b8b8-42a3-93ac-a11f729fe8ac",
   "metadata": {},
   "source": [
    "3. What is the most significant distinction between a dictionary and a list?"
   ]
  },
  {
   "cell_type": "raw",
   "id": "03b833fb-e418-4821-8903-078b4efef676",
   "metadata": {},
   "source": [
    "A list refers to acollection of various index values pairs \n",
    "A dictionary refers to a structure of various pairs of keys and values"
   ]
  },
  {
   "cell_type": "raw",
   "id": "6f868e45-f422-4c59-9404-cb63d995b2b1",
   "metadata": {},
   "source": [
    "4. What happens if you try to access spam[\"foo\"] if spam is {\"bar\": 100}?"
   ]
  },
  {
   "cell_type": "code",
   "execution_count": 4,
   "id": "a1b7f833-a795-498f-8e56-63dac688b623",
   "metadata": {},
   "outputs": [
    {
     "ename": "KeyError",
     "evalue": "'foo'",
     "output_type": "error",
     "traceback": [
      "\u001b[0;31m---------------------------------------------------------------------------\u001b[0m",
      "\u001b[0;31mKeyError\u001b[0m                                  Traceback (most recent call last)",
      "Input \u001b[0;32mIn [4]\u001b[0m, in \u001b[0;36m<cell line: 2>\u001b[0;34m()\u001b[0m\n\u001b[1;32m      1\u001b[0m spam\u001b[38;5;241m=\u001b[39m{\u001b[38;5;124m\"\u001b[39m\u001b[38;5;124mbar\u001b[39m\u001b[38;5;124m\"\u001b[39m:\u001b[38;5;241m100\u001b[39m}\n\u001b[0;32m----> 2\u001b[0m \u001b[43mspam\u001b[49m\u001b[43m[\u001b[49m\u001b[38;5;124;43m\"\u001b[39;49m\u001b[38;5;124;43mfoo\u001b[39;49m\u001b[38;5;124;43m\"\u001b[39;49m\u001b[43m]\u001b[49m\n",
      "\u001b[0;31mKeyError\u001b[0m: 'foo'"
     ]
    }
   ],
   "source": [
    "spam={\"bar\":100}\n",
    "spam[\"foo\"]"
   ]
  },
  {
   "cell_type": "raw",
   "id": "c65eb92f-a927-4d5c-85a4-dd83cf0c38f0",
   "metadata": {},
   "source": [
    "It will give us key error because foo is not present in dictonary"
   ]
  },
  {
   "cell_type": "raw",
   "id": "983a5fea-1bf0-4db8-827c-0c9e46ead664",
   "metadata": {},
   "source": [
    "5. If a dictionary is stored in spam, what is the difference between the expressions \"cat\" in spam and\n",
    "\"cat\" in spam.keys()?"
   ]
  },
  {
   "cell_type": "raw",
   "id": "fd598970-24e2-43fd-b093-e20378309f3d",
   "metadata": {},
   "source": [
    "There is no difference. The in operator check a value exists as a key in the dictionary . \"cat\" in spam checks whether  there is a \"cat\" key in the dictionary , while \"cat \" in spam. values() checks whether  there is a value \"cat\" for one of the keys in spam \n"
   ]
  },
  {
   "cell_type": "raw",
   "id": "810ee77d-10c1-485b-a237-7e7b74ab466c",
   "metadata": {},
   "source": [
    "7. What is a shortcut for the following code?\n",
    "if\"color\" not in spam:\n",
    "spam[\"color\"] = \"black\"\n"
   ]
  },
  {
   "cell_type": "raw",
   "id": "d9806c17-28eb-4bdb-be93-89a5577988e0",
   "metadata": {},
   "source": [
    "spam.setdefault('color', 'black')"
   ]
  },
  {
   "cell_type": "raw",
   "id": "02609bfa-4c61-4db3-8edf-982ca5ceeef5",
   "metadata": {},
   "source": [
    "8. How do you \"pretty print\" dictionary values using which module and function?"
   ]
  },
  {
   "cell_type": "raw",
   "id": "00004752-7a66-4b38-b449-b04b03c05d1e",
   "metadata": {},
   "source": [
    "Pretty print means to represent something in a more readable formate or style.\n",
    "1.pprint() module in python \n",
    "2.within a json module,there is a function called dump()\n",
    "3.dump() function of yaml module"
   ]
  },
  {
   "cell_type": "code",
   "execution_count": null,
   "id": "c11c903a-0299-4843-9815-eb4b0ee19f94",
   "metadata": {},
   "outputs": [],
   "source": []
  }
 ],
 "metadata": {
  "kernelspec": {
   "display_name": "Python 3 (ipykernel)",
   "language": "python",
   "name": "python3"
  },
  "language_info": {
   "codemirror_mode": {
    "name": "ipython",
    "version": 3
   },
   "file_extension": ".py",
   "mimetype": "text/x-python",
   "name": "python",
   "nbconvert_exporter": "python",
   "pygments_lexer": "ipython3",
   "version": "3.9.12"
  }
 },
 "nbformat": 4,
 "nbformat_minor": 5
}
