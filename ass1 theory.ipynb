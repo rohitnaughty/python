{
 "cells": [
  {
   "cell_type": "raw",
   "id": "2afe9822-2619-4ef3-9d1e-06e17e57b5b6",
   "metadata": {},
   "source": [
    "1.In the below elements which of them  are values or an expresion ?\n",
    "eg :-values can be integer or strings and expressions will be mathematical operators.\n",
    "(*)  - operator\n",
    "('hello')  -value\n",
    "(-87.8)  - value\n",
    "(-) -operator\n",
    "(+) -opeator\n",
    "(6) -value\n"
   ]
  },
  {
   "cell_type": "raw",
   "id": "1f0d08b2-9cc9-47d2-bd02-190c327b90e1",
   "metadata": {},
   "source": [
    "2. What is the difference between string and variable?"
   ]
  },
  {
   "cell_type": "raw",
   "id": "16727ff4-ad64-40d1-bee0-46540084e809",
   "metadata": {},
   "source": [
    "Variables are symbols that are use to store data in a program . You can think of them as an empty box that you fill with some data or  value , srtings are data , so we can use them to fill up a variable."
   ]
  },
  {
   "cell_type": "raw",
   "id": "34c00b08-b0ed-4178-85fd-3264eeac6ae9",
   "metadata": {},
   "source": [
    "3. Describe three different data types."
   ]
  },
  {
   "cell_type": "raw",
   "id": "12b76b1f-5f32-45ce-9c5e-be07c35ee5e2",
   "metadata": {},
   "source": [
    "A data type, in programming ,is classification that specifies which type of value a variable has\n",
    "and what type of mathematical, relational or logical operations can be applied to it without causing an error.\n",
    "Types of data type is as following:\n",
    "1-integer type(classify whole no's cn be negative )\n",
    "2-string type (classify text)\n",
    "3- boolean type(Representing logical values)\n",
    "etc"
   ]
  },
  {
   "cell_type": "raw",
   "id": "753c7347-68af-481b-a881-c2ab3ad8fdc4",
   "metadata": {},
   "source": [
    "4. What is an expression made up of? What do all expressions do?"
   ]
  },
  {
   "cell_type": "raw",
   "id": "3c82db42-5dad-4b62-ba54-1fd99600884d",
   "metadata": {},
   "source": [
    "An expression is a construction made up of variables , operrator,and method invocations.which are constructed according to the syntax of the language, that evaluates to a single values. "
   ]
  },
  {
   "cell_type": "raw",
   "id": "37d6b79a-0057-40f7-8256-0ecc231825b4",
   "metadata": {},
   "source": [
    "5. This assignment statements, like spam = 10. What is the difference between an\n",
    "expression and a statement?"
   ]
  },
  {
   "cell_type": "raw",
   "id": "70080635-e3a1-450b-8bbf-e766d50dae26",
   "metadata": {},
   "source": [
    "An expresion evaluates to a single value.A statement does not"
   ]
  },
  {
   "cell_type": "raw",
   "id": "098512d4-10da-438d-aae1-885d9376526a",
   "metadata": {},
   "source": [
    "6. After running the following code, what does the variable bacon contain?\n",
    "bacon = 22\n",
    "bacon + 1"
   ]
  },
  {
   "cell_type": "raw",
   "id": "fad28342-fbb9-4b09-b5ba-dc23213047c5",
   "metadata": {},
   "source": [
    "The bacon variable is set to 20. The bacon +1 expression does not reassign the value  in baccon"
   ]
  },
  {
   "cell_type": "raw",
   "id": "6de0b50c-e8cd-4d5d-87a6-f1cd7c6000bf",
   "metadata": {},
   "source": [
    "7. What should the values of the following two terms be?\n",
    "'spam'+'spamspam'='spamspamspam'\n",
    "'spam'*3='spamspamspam'\n"
   ]
  },
  {
   "cell_type": "raw",
   "id": "6bc5ce1b-af09-490d-892c-8921f9302052",
   "metadata": {},
   "source": [
    "8. Why is eggs a valid variable name while 100 is invalid?"
   ]
  },
  {
   "cell_type": "raw",
   "id": "cd8e3baa-0604-48f7-9812-d837277569e3",
   "metadata": {},
   "source": [
    "Variables name can not begin with  a number\n"
   ]
  },
  {
   "cell_type": "raw",
   "id": "5b8b25ab-fd3b-47d2-8851-4c469ae01b14",
   "metadata": {},
   "source": [
    "9. What three functions can be used to get the integer, floating-point number, or string\n",
    "version of a value?"
   ]
  },
  {
   "cell_type": "raw",
   "id": "3c078d26-3bf2-478e-8c57-61c1989d712b",
   "metadata": {},
   "source": [
    "int(),float(),str() respectively used to integer, floating-point number, or string\n",
    "version of a value"
   ]
  },
  {
   "cell_type": "raw",
   "id": "d4306d4a-0bb1-4936-84f8-b157234cb88e",
   "metadata": {},
   "source": [
    "10. Why does this expression cause an error? How can you fix it?\n",
    "'i have eaten '+90+'burritos'"
   ]
  },
  {
   "cell_type": "raw",
   "id": "a9a90941-4f98-4126-ae41-cc7ecd901aed",
   "metadata": {},
   "source": [
    "By defining 90 as string using \" \"\n",
    "'i have eaten '+'90'+'burritos'"
   ]
  },
  {
   "cell_type": "code",
   "execution_count": null,
   "id": "cdf3b291-11ca-470d-b44a-94deb128757f",
   "metadata": {},
   "outputs": [],
   "source": []
  }
 ],
 "metadata": {
  "kernelspec": {
   "display_name": "Python 3 (ipykernel)",
   "language": "python",
   "name": "python3"
  },
  "language_info": {
   "codemirror_mode": {
    "name": "ipython",
    "version": 3
   },
   "file_extension": ".py",
   "mimetype": "text/x-python",
   "name": "python",
   "nbconvert_exporter": "python",
   "pygments_lexer": "ipython3",
   "version": "3.9.12"
  }
 },
 "nbformat": 4,
 "nbformat_minor": 5
}
