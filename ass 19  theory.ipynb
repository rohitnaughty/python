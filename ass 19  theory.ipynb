{
 "cells": [
  {
   "cell_type": "markdown",
   "id": "5ee546c1-c02c-40e5-9868-3cf5e05f4c23",
   "metadata": {},
   "source": [
    "1. Make a class called Thing with no contents and print it. Then, create an object called example\n",
    "from this class and also print it. Are the printed values the same or different?\n"
   ]
  },
  {
   "cell_type": "raw",
   "id": "92f44e8b-0574-40a9-ad20-0aafa4a99719",
   "metadata": {},
   "source": [
    "Printed values are not came, it prints, class and objects details.\n"
   ]
  },
  {
   "cell_type": "code",
   "execution_count": 1,
   "id": "987228a4-51a6-4017-b681-11ed58a0cf8b",
   "metadata": {},
   "outputs": [],
   "source": [
    "class Things :\n",
    "    pass\n",
    "\n",
    " "
   ]
  },
  {
   "cell_type": "code",
   "execution_count": 2,
   "id": "c62eb271-eee0-4a7c-a48c-98447b3b25b3",
   "metadata": {},
   "outputs": [
    {
     "name": "stdout",
     "output_type": "stream",
     "text": [
      "<class '__main__.Things'>\n"
     ]
    }
   ],
   "source": [
    "print(Things)\n",
    " "
   ]
  },
  {
   "cell_type": "code",
   "execution_count": 3,
   "id": "22b008a2-00e1-40c7-b2b8-1e19ac605965",
   "metadata": {},
   "outputs": [
    {
     "name": "stdout",
     "output_type": "stream",
     "text": [
      "<__main__.Things object at 0x7efd37f98ac0>\n"
     ]
    }
   ],
   "source": [
    "example=Things()\n",
    "print(example)"
   ]
  },
  {
   "cell_type": "code",
   "execution_count": null,
   "id": "2473dfb5-7cca-4e0b-8416-141a40ca7aac",
   "metadata": {},
   "outputs": [],
   "source": [
    "2. Create a new class called Thing2 and add the value \"abc\" to the letters class attribute. Letters\n",
    "should be printed.\n"
   ]
  },
  {
   "cell_type": "code",
   "execution_count": 4,
   "id": "1a212f2c-76a5-412a-aa4c-d97ce5c91bf4",
   "metadata": {},
   "outputs": [
    {
     "data": {
      "text/plain": [
       "'abc'"
      ]
     },
     "execution_count": 4,
     "metadata": {},
     "output_type": "execute_result"
    }
   ],
   "source": [
    "class Thing2:\n",
    "    letters=\"abc\"\n",
    "Thing2.letters"
   ]
  },
  {
   "cell_type": "code",
   "execution_count": null,
   "id": "2837245f-3a67-4c48-9e06-619374448fa0",
   "metadata": {},
   "outputs": [],
   "source": [
    "3. Make yet another class called, of course, Thing3. This time, assign the value \"xyz\" to an instance\n",
    "(object) attribute called letters. Print letters. Do you need to make an object from the class to do\n",
    "this?\n"
   ]
  },
  {
   "cell_type": "code",
   "execution_count": 5,
   "id": "662651d5-cc26-4453-821f-7959e9bf8134",
   "metadata": {},
   "outputs": [
    {
     "name": "stdout",
     "output_type": "stream",
     "text": [
      "xyz\n"
     ]
    }
   ],
   "source": [
    "class Thing3:\n",
    "    def __init__(self,letter):\n",
    "        self.letter=letter\n",
    "    def letters(self):\n",
    "        print(self.letter)\n",
    "Thing3(\"xyz\").letters()"
   ]
  },
  {
   "cell_type": "code",
   "execution_count": null,
   "id": "3f7fb2aa-b1c3-4838-9bfc-9b63d987228f",
   "metadata": {},
   "outputs": [],
   "source": [
    "4. Create an Element class with the instance attributes name, symbol, and number. Create a class\n",
    "object with the values \"Hydrogen,\" \"H,\" and 1.\n"
   ]
  },
  {
   "cell_type": "code",
   "execution_count": 6,
   "id": "0b31fabc-86c5-4cb5-b158-878f7a8bf145",
   "metadata": {},
   "outputs": [],
   "source": [
    "class Element:\n",
    "    def __init__(self,name,symbol,number):\n",
    "        self.name=name\n",
    "        self.symbol=symbol\n",
    "        self.number=number\n",
    "    def printThem(self):\n",
    "        print(self.name,self.symbol,self.number)\n",
    "        \n",
    "        "
   ]
  },
  {
   "cell_type": "code",
   "execution_count": 7,
   "id": "482e1046-8665-42c6-a6bc-d918f5e3f850",
   "metadata": {},
   "outputs": [
    {
     "data": {
      "text/plain": [
       "'Hydrogen'"
      ]
     },
     "execution_count": 7,
     "metadata": {},
     "output_type": "execute_result"
    }
   ],
   "source": [
    "obj=Element(\"Hydrogen\",\"H\",1)\n",
    "obj.name"
   ]
  },
  {
   "cell_type": "code",
   "execution_count": null,
   "id": "c07f3512-f79d-4607-b8d5-9ff96c1332bb",
   "metadata": {},
   "outputs": [],
   "source": [
    "5. Make a dictionary with these keys and values: \"name\";: \"Hydrogen\", \"symbol\":\"H\",\"number\": 1. Then,\n",
    "create an object called hydrogen from class Element using this dictionary.\n"
   ]
  },
  {
   "cell_type": "code",
   "execution_count": 8,
   "id": "15679e5e-3d3c-4b32-8bfe-520fb120f9b9",
   "metadata": {},
   "outputs": [
    {
     "data": {
      "text/plain": [
       "'H'"
      ]
     },
     "execution_count": 8,
     "metadata": {},
     "output_type": "execute_result"
    }
   ],
   "source": [
    "dict={\"name\":\"Hydrogen\",\"symbol\":\"H\",\"number\":1}\n",
    "hydrogen =Element(**dict)\n",
    "hydrogen.symbol"
   ]
  },
  {
   "cell_type": "code",
   "execution_count": null,
   "id": "0b477b8c-e120-4745-b7f5-48ea062e462e",
   "metadata": {},
   "outputs": [],
   "source": [
    "6. For the Element class, define a method called dump() that prints the values of the object’s\n",
    "attributes (name, symbol, and number). Create the hydrogen object from this new definition and\n",
    "use dump() to print its attributes.\n"
   ]
  },
  {
   "cell_type": "code",
   "execution_count": 9,
   "id": "8ec8d9ef-1649-4c47-84df-39537c1a6751",
   "metadata": {},
   "outputs": [],
   "source": [
    "class Element:\n",
    "    def __init__(self,name,symbol,number):\n",
    "        self.name=name\n",
    "        self.symbol=symbol\n",
    "        self.number=number\n",
    "    def dump(self):\n",
    "        print(self.name,self.symbol,self.number)\n",
    "    "
   ]
  },
  {
   "cell_type": "code",
   "execution_count": 10,
   "id": "0dfe9013-0784-4287-8721-3fe2246c61dc",
   "metadata": {},
   "outputs": [
    {
     "name": "stdout",
     "output_type": "stream",
     "text": [
      "Hydrogen H 1\n"
     ]
    }
   ],
   "source": [
    "hydrogen=Element(\"Hydrogen\",\"H\",1)\n",
    "hydrogen.dump()"
   ]
  },
  {
   "cell_type": "code",
   "execution_count": null,
   "id": "4cb3c0ed-270c-42f5-ae4a-db6e7fd8f1bc",
   "metadata": {},
   "outputs": [],
   "source": [
    "7. Call print(hydrogen). In the definition of Element, change the name of method dump to __str__,\n",
    "create a new hydrogen object, and call print(hydrogen) again.\n"
   ]
  },
  {
   "cell_type": "code",
   "execution_count": 11,
   "id": "1651839d-fb5e-4fc9-8c8f-81ffaeeaa2b4",
   "metadata": {},
   "outputs": [],
   "source": [
    "class Element():\n",
    "    def __init__(self,name,symbol,number):\n",
    "        self.name=name\n",
    "        self.symbol=symbol\n",
    "        self.number=number\n",
    "    def __str__(self):\n",
    "        return(\"name=%s,symbol=%s,number=%s\"%(self.name,self.symbol,self.number))\n",
    "    \n",
    "   "
   ]
  },
  {
   "cell_type": "code",
   "execution_count": 19,
   "id": "16f67ca1-f36a-4f0b-a45d-51e0f102d441",
   "metadata": {},
   "outputs": [
    {
     "name": "stdout",
     "output_type": "stream",
     "text": [
      "name=Hydrogen,symbol=H,number=1\n"
     ]
    }
   ],
   "source": [
    "hydrogen=Element(\"Hydrogen\",\"H\",1)\n",
    "print(hydrogen)"
   ]
  },
  {
   "cell_type": "code",
   "execution_count": null,
   "id": "b9d60aeb-0984-45d8-bbe2-19a2f528ff69",
   "metadata": {},
   "outputs": [],
   "source": [
    "8. Modify Element to make the attributes name, symbol, and number private. Define a getter\n",
    "property for each to return its value."
   ]
  },
  {
   "cell_type": "code",
   "execution_count": 8,
   "id": "9d82f584-0632-42c0-875a-60875abd280d",
   "metadata": {},
   "outputs": [],
   "source": [
    "class Element():\n",
    "    def __init__(self,name,symbol,number):\n",
    "        self.name=name\n",
    "        self.symbol=symbol\n",
    "        self.number=number\n",
    "    @property\n",
    "    def name(self):\n",
    "        return(self.__name)\n",
    "    @property\n",
    "    def symbol(self):\n",
    "        return (self.__symbol)\n",
    "    @property\n",
    "    def number(self):\n",
    "        return(self.__number)\n"
   ]
  },
  {
   "cell_type": "code",
   "execution_count": 12,
   "id": "e3a3a079-3c1f-464e-95b3-f8620ec0d1da",
   "metadata": {},
   "outputs": [
    {
     "data": {
      "text/plain": [
       "'Hydrogen'"
      ]
     },
     "execution_count": 12,
     "metadata": {},
     "output_type": "execute_result"
    }
   ],
   "source": [
    "hydrogen=Element(\"Hydrogen\",\"H\",1)\n",
    "hydrogen.name"
   ]
  },
  {
   "cell_type": "markdown",
   "id": "d5c99230-cbc0-40c5-be6c-57d82f9a3151",
   "metadata": {},
   "source": [
    "9. Define three classes: Bear, Rabbit, and Octothorpe. For each, define only one method: eats(). This\n",
    "should return \"berries\" (Bear), \"clover\" (Rabbit), or \"campers\" (Octothorpe). Create one object from\n",
    "each and print what it eats.\n"
   ]
  },
  {
   "cell_type": "code",
   "execution_count": 13,
   "id": "750899e8-6acc-4f52-8a74-4da447e50be8",
   "metadata": {},
   "outputs": [],
   "source": [
    "class Bear:\n",
    "    def eats():\n",
    "        print(\"berries\")\n",
    "class Rabbit:\n",
    "    def eats():\n",
    "        print(\"clover\")\n",
    "class Octothorpe:\n",
    "    def eats():\n",
    "        print(\"campers\")\n",
    "        "
   ]
  },
  {
   "cell_type": "code",
   "execution_count": 12,
   "id": "0d00a3da-c0db-4ee2-b4ee-bca36927b946",
   "metadata": {},
   "outputs": [
    {
     "name": "stdout",
     "output_type": "stream",
     "text": [
      "berries\n"
     ]
    }
   ],
   "source": [
    "Bear.eats()"
   ]
  },
  {
   "cell_type": "code",
   "execution_count": 14,
   "id": "9ebbb2c6-fe82-4e85-a800-0910d5416db2",
   "metadata": {},
   "outputs": [
    {
     "name": "stdout",
     "output_type": "stream",
     "text": [
      "clover\n"
     ]
    }
   ],
   "source": [
    "Rabbit.eats()"
   ]
  },
  {
   "cell_type": "code",
   "execution_count": 15,
   "id": "3e7fb501-03d1-4e04-aa76-e030023f4946",
   "metadata": {},
   "outputs": [
    {
     "name": "stdout",
     "output_type": "stream",
     "text": [
      "campers\n"
     ]
    }
   ],
   "source": [
    "Octothorpe.eats()"
   ]
  },
  {
   "cell_type": "markdown",
   "id": "c6359c0f-b0a7-4ba7-a7d4-1760199d6036",
   "metadata": {},
   "source": [
    "10. Define these classes: Laser, Claw, and SmartPhone. Each has only one method: does(). This\n",
    "returns \"disintegrate\" (Laser),\"crush\" (Claw), or \"ring\" (SmartPhone). Then, define the class Robot that\n",
    "has one instance (object) of each of these. Define a does() method for the Robot that prints what its\n",
    "component objects do."
   ]
  },
  {
   "cell_type": "code",
   "execution_count": 16,
   "id": "083d5399-52ac-469a-8d51-37ae3ca780b5",
   "metadata": {},
   "outputs": [
    {
     "data": {
      "text/plain": [
       "'Laser is  disintegrate,Claw is crush,Smartphone is ring'"
      ]
     },
     "execution_count": 16,
     "metadata": {},
     "output_type": "execute_result"
    }
   ],
   "source": [
    "class Leser:\n",
    "    def does(self):\n",
    "        return(\"disintegrate\")\n",
    "class Claw:\n",
    "    def does(self):\n",
    "        return(\"crush\")\n",
    "class SmartPhone:\n",
    "    def does(self):\n",
    "        return (\"ring\")\n",
    "class Robot:\n",
    "    def __init__(self):\n",
    "        self.leser=Leser()\n",
    "        self.claw=Claw()\n",
    "        self.smartphone=SmartPhone()\n",
    "    def does(self):\n",
    "        return(\"Laser is  %s,Claw is %s,Smartphone is %s\" %(self.leser.does(),self.claw.does(),self.smartphone.does()))\n",
    "robo=Robot()\n",
    "robo.does()\n",
    "\n",
    "    "
   ]
  },
  {
   "cell_type": "code",
   "execution_count": null,
   "id": "4d8a20c4-482e-4882-b445-4fc875f17018",
   "metadata": {},
   "outputs": [],
   "source": []
  }
 ],
 "metadata": {
  "kernelspec": {
   "display_name": "Python 3 (ipykernel)",
   "language": "python",
   "name": "python3"
  },
  "language_info": {
   "codemirror_mode": {
    "name": "ipython",
    "version": 3
   },
   "file_extension": ".py",
   "mimetype": "text/x-python",
   "name": "python",
   "nbconvert_exporter": "python",
   "pygments_lexer": "ipython3",
   "version": "3.9.12"
  }
 },
 "nbformat": 4,
 "nbformat_minor": 5
}
