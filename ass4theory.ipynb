{
 "cells": [
  {
   "cell_type": "raw",
   "id": "073cbd8b-c2a4-4796-908b-9ab49e396cff",
   "metadata": {},
   "source": [
    "1. What exactly is []?"
   ]
  },
  {
   "cell_type": "raw",
   "id": "7b86fb68-0891-4664-9ae0-d60d6ea4b952",
   "metadata": {},
   "source": [
    "list\n"
   ]
  },
  {
   "cell_type": "raw",
   "id": "5a58386e-9b9d-46f0-a916-f284800d36d2",
   "metadata": {},
   "source": [
    "2. In a list of values stored in a variable called spam, how would you assign the value \"hello\" as the\n",
    "third value? (Assume [2, 4, 6, 8, 10] are in spam.)"
   ]
  },
  {
   "cell_type": "code",
   "execution_count": 1,
   "id": "e1755ef8-61c7-4402-8bb8-0acf8e300b6c",
   "metadata": {},
   "outputs": [
    {
     "data": {
      "text/plain": [
       "[2, 4, 'hello', 8, 10]"
      ]
     },
     "execution_count": 1,
     "metadata": {},
     "output_type": "execute_result"
    }
   ],
   "source": [
    "spam=[2, 4, 6, 8, 10]\n",
    "spam[2]=\"hello\"\n",
    "spam"
   ]
  },
  {
   "cell_type": "raw",
   "id": "a9013f65-78b6-4680-9508-61b03c844ef8",
   "metadata": {},
   "source": [
    "Lets pretend the spam includes the list ['a', 'b','c','d'] for the next three queries."
   ]
  },
  {
   "cell_type": "raw",
   "id": "3a095210-8f89-4341-ab37-042b25fc1761",
   "metadata": {},
   "source": [
    "3. What is the value of spam[int(int(3 * 2) / 11)]?"
   ]
  },
  {
   "cell_type": "code",
   "execution_count": 2,
   "id": "e97818fc-7e75-403a-b308-5d5da8cac472",
   "metadata": {},
   "outputs": [
    {
     "data": {
      "text/plain": [
       "'a'"
      ]
     },
     "execution_count": 2,
     "metadata": {},
     "output_type": "execute_result"
    }
   ],
   "source": [
    "spam= ['a', 'b','c','d'] \n",
    "spam[int(int(3 * 2) / 11)]\n"
   ]
  },
  {
   "cell_type": "raw",
   "id": "9f9f5c97-a417-4201-923c-338c5f35b9ba",
   "metadata": {},
   "source": [
    "4. What is the value of spam[-1]?"
   ]
  },
  {
   "cell_type": "code",
   "execution_count": 3,
   "id": "dddea0ba-3e97-4d3d-9b56-0b9cc90b5362",
   "metadata": {},
   "outputs": [
    {
     "data": {
      "text/plain": [
       "'d'"
      ]
     },
     "execution_count": 3,
     "metadata": {},
     "output_type": "execute_result"
    }
   ],
   "source": [
    "spam[-1]\n"
   ]
  },
  {
   "cell_type": "raw",
   "id": "b1c8654f-8585-492c-bf53-4b01b1a950c1",
   "metadata": {},
   "source": [
    "5. What is the value of spam[:2]?"
   ]
  },
  {
   "cell_type": "code",
   "execution_count": 4,
   "id": "9e07347c-96b1-446c-a384-9609fcd0c2f9",
   "metadata": {},
   "outputs": [
    {
     "data": {
      "text/plain": [
       "['a', 'b']"
      ]
     },
     "execution_count": 4,
     "metadata": {},
     "output_type": "execute_result"
    }
   ],
   "source": [
    " spam[:2]"
   ]
  },
  {
   "cell_type": "raw",
   "id": "2ed2ed96-0018-497e-a85e-007e4e02f8c7",
   "metadata": {},
   "source": [
    "Let's pretend bacon has the list [3.14, 'cat' 11, 'cat,' True] for the next three questions.\n"
   ]
  },
  {
   "cell_type": "raw",
   "id": "e7ca6a2d-2787-4033-af4a-3500b1ad5ce1",
   "metadata": {},
   "source": [
    "6. What is the value of bacon.index('cat')?"
   ]
  },
  {
   "cell_type": "code",
   "execution_count": 7,
   "id": "123fc9b9-5c90-4fd3-b6c0-455a2fbf5d85",
   "metadata": {},
   "outputs": [
    {
     "data": {
      "text/plain": [
       "1"
      ]
     },
     "execution_count": 7,
     "metadata": {},
     "output_type": "execute_result"
    }
   ],
   "source": [
    "bacon=[3.14, 'cat', 11, 'cat', True]\n",
    "bacon.index('cat')"
   ]
  },
  {
   "cell_type": "raw",
   "id": "90eeb7bd-dc6d-455d-a4e5-c2d8828ca2b6",
   "metadata": {},
   "source": [
    "7. How does bacon.append(99) change the look of the list value in bacon?"
   ]
  },
  {
   "cell_type": "code",
   "execution_count": 15,
   "id": "6b4ca456-5fbb-4540-b026-286f80f1a926",
   "metadata": {},
   "outputs": [
    {
     "data": {
      "text/plain": [
       "[3.14, 'cat', 11, 'cat', True, 99]"
      ]
     },
     "execution_count": 15,
     "metadata": {},
     "output_type": "execute_result"
    }
   ],
   "source": [
    "bacon.append(99) \n",
    "bacon"
   ]
  },
  {
   "cell_type": "raw",
   "id": "d2795f39-baff-4ec0-a433-3c476f7ba996",
   "metadata": {},
   "source": [
    "8. How does bacon.remove(\"cat\") change the look of the list in bacon?"
   ]
  },
  {
   "cell_type": "code",
   "execution_count": 16,
   "id": "24524061-0a64-4c1a-ba03-7996ce2d0a19",
   "metadata": {},
   "outputs": [],
   "source": [
    "bacon.remove(\"cat\")"
   ]
  },
  {
   "cell_type": "code",
   "execution_count": 17,
   "id": "05e120fb-09f1-4be9-bb28-99f3d459787b",
   "metadata": {},
   "outputs": [
    {
     "data": {
      "text/plain": [
       "[3.14, 11, 'cat', True, 99]"
      ]
     },
     "execution_count": 17,
     "metadata": {},
     "output_type": "execute_result"
    }
   ],
   "source": [
    "bacon"
   ]
  },
  {
   "cell_type": "raw",
   "id": "2fb97df5-3a8c-455c-9559-98d90e3cc05c",
   "metadata": {},
   "source": [
    "9. What are the list concatenation and list replication operators?"
   ]
  },
  {
   "cell_type": "raw",
   "id": "fa8e16e3-f048-42ae-90fe-13d9c5b5a27c",
   "metadata": {},
   "source": [
    "(*) is a list replication operator, (+) is alist concatenation"
   ]
  },
  {
   "cell_type": "raw",
   "id": "976fee3e-1ca9-417d-a8b8-c504be021785",
   "metadata": {},
   "source": [
    "10. What is difference between the list methods append() and insert()?"
   ]
  },
  {
   "cell_type": "raw",
   "id": "6e7e230b-2ab3-48a3-be5c-fdaf97e83e43",
   "metadata": {},
   "source": [
    "append() function appends object to the end of list\n",
    "insert() function insert object before index"
   ]
  },
  {
   "cell_type": "raw",
   "id": "2b2e6714-1e91-4325-b9c0-ec46abe9b0de",
   "metadata": {},
   "source": [
    "11. What are the two methods for removing items from a list?"
   ]
  },
  {
   "cell_type": "raw",
   "id": "05b36983-4057-4068-9cc3-a49be9ef0ce1",
   "metadata": {},
   "source": [
    "pop() and remove() are two functions use to  remove  item from the list"
   ]
  },
  {
   "cell_type": "raw",
   "id": "1d2f89ae-2392-4996-9934-6a2637f041e2",
   "metadata": {},
   "source": [
    "12. Describe how list values and string values are identical."
   ]
  },
  {
   "cell_type": "raw",
   "id": "f0f5332c-be2f-4473-acae-33bccd421be6",
   "metadata": {},
   "source": [
    "There are following identical properties that string and list values have:\n",
    "    1.both can pass to len() function\n",
    "    2.have indexs and slices\n",
    "    3.can be use in form of loops \n",
    "    4.can concatinate and replicate\n",
    "    5.can be use in the (in) and (in not) operators\n",
    "    "
   ]
  },
  {
   "cell_type": "raw",
   "id": "308192d7-9653-4636-9876-d78389b2d8f4",
   "metadata": {},
   "source": [
    "13. What's the difference between tuples and lists?"
   ]
  },
  {
   "cell_type": "raw",
   "id": "0f4edefb-9b0d-44b9-b456-70095a5a8722",
   "metadata": {},
   "source": [
    "Lists are mutable\n",
    "tuples are not mutable"
   ]
  },
  {
   "cell_type": "raw",
   "id": "6246ffc2-2d0d-41a0-b27b-5de7fe0405b3",
   "metadata": {},
   "source": [
    "14.How do you type a tuple value that only contains the integer 42?"
   ]
  },
  {
   "cell_type": "code",
   "execution_count": 26,
   "id": "91d70413-124c-4318-b356-cf1cc333622b",
   "metadata": {},
   "outputs": [
    {
     "data": {
      "text/plain": [
       "(42,)"
      ]
     },
     "execution_count": 26,
     "metadata": {},
     "output_type": "execute_result"
    }
   ],
   "source": [
    "tuple=(42,)\n",
    "tuple"
   ]
  },
  {
   "cell_type": "code",
   "execution_count": 27,
   "id": "2822c729-6c74-41bb-81d2-6d48a3806e70",
   "metadata": {},
   "outputs": [
    {
     "data": {
      "text/plain": [
       "tuple"
      ]
     },
     "execution_count": 27,
     "metadata": {},
     "output_type": "execute_result"
    }
   ],
   "source": [
    "type(tuple)"
   ]
  },
  {
   "cell_type": "raw",
   "id": "b7f9b1e3-d260-46c7-a84b-d0cb30bdab68",
   "metadata": {},
   "source": [
    "15. How do you get a list value's tuple form? How do you get a tuple value's list form?"
   ]
  },
  {
   "cell_type": "code",
   "execution_count": 1,
   "id": "5aae9565-fb80-4f08-b33e-417744f74280",
   "metadata": {},
   "outputs": [
    {
     "data": {
      "text/plain": [
       "(1, 2)"
      ]
     },
     "execution_count": 1,
     "metadata": {},
     "output_type": "execute_result"
    }
   ],
   "source": [
    "List=[1,2]\n",
    "Tuple=tuple(List)\n",
    "Tuple"
   ]
  },
  {
   "cell_type": "code",
   "execution_count": 3,
   "id": "df6eb2e2-cb22-44d6-b3ab-ebcfc7d682c8",
   "metadata": {},
   "outputs": [
    {
     "data": {
      "text/plain": [
       "(1, 2, 3)"
      ]
     },
     "execution_count": 3,
     "metadata": {},
     "output_type": "execute_result"
    }
   ],
   "source": [
    "Tuple=(1,2,3)\n",
    "List=tuple(Tuple)\n",
    "List"
   ]
  },
  {
   "cell_type": "raw",
   "id": "327b5f7c-ff95-4555-8b40-15a3c2b8ef56",
   "metadata": {},
   "source": [
    "16. Variables that \"contain\" list values are not necessarily lists themselves. Instead, what do they\n",
    "contain?"
   ]
  },
  {
   "cell_type": "raw",
   "id": "f023b101-26a0-49b0-988b-c5f6e925163c",
   "metadata": {},
   "source": [
    "They have referance values of list"
   ]
  },
  {
   "cell_type": "raw",
   "id": "209dfd8f-54ef-4cd7-b12f-e6980a702a4a",
   "metadata": {},
   "source": [
    "17. How do you distinguish between copy.copy() and copy.deepcopy()?"
   ]
  },
  {
   "cell_type": "code",
   "execution_count": null,
   "id": "404d0862-8aba-4722-82df-9d32edd1dc0f",
   "metadata": {},
   "outputs": [],
   "source": [
    "The copy.copy() function will do a shallow copy os a list,\n",
    "The copy.deepcopy() function will do a "
   ]
  },
  {
   "cell_type": "code",
   "execution_count": null,
   "id": "f4a022f0-004b-4254-8712-1c85b4cfa85c",
   "metadata": {},
   "outputs": [],
   "source": []
  },
  {
   "cell_type": "code",
   "execution_count": null,
   "id": "3249f7de-e305-4c27-b95e-6f1f276b6b50",
   "metadata": {},
   "outputs": [],
   "source": []
  }
 ],
 "metadata": {
  "kernelspec": {
   "display_name": "Python 3 (ipykernel)",
   "language": "python",
   "name": "python3"
  },
  "language_info": {
   "codemirror_mode": {
    "name": "ipython",
    "version": 3
   },
   "file_extension": ".py",
   "mimetype": "text/x-python",
   "name": "python",
   "nbconvert_exporter": "python",
   "pygments_lexer": "ipython3",
   "version": "3.9.12"
  }
 },
 "nbformat": 4,
 "nbformat_minor": 5
}
