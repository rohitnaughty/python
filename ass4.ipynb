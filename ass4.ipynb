{
 "cells": [
  {
   "cell_type": "markdown",
   "id": "4d0a410e-f796-4368-874f-2fcc389feb09",
   "metadata": {},
   "source": [
    "1. Write a Python Program to Find the Factorial of a Number?"
   ]
  },
  {
   "cell_type": "code",
   "execution_count": 4,
   "id": "f15c01d8-5e77-49e6-bc05-e951121dc441",
   "metadata": {},
   "outputs": [
    {
     "name": "stdin",
     "output_type": "stream",
     "text": [
      "enter a no  5\n"
     ]
    },
    {
     "name": "stdout",
     "output_type": "stream",
     "text": [
      "factors are [1, 5]\n"
     ]
    }
   ],
   "source": [
    "num=int(input(\"enter a no \"))\n",
    "l=[]\n",
    "for i in range(1,num+1):\n",
    "    if num%i==0:\n",
    "        l.append(i)\n",
    "print(\"factors are\",l)\n",
    "        \n",
    "    "
   ]
  },
  {
   "cell_type": "markdown",
   "id": "4ff9ae17-13f1-4768-a1ab-8600dba27f86",
   "metadata": {},
   "source": [
    "2. Write a Python Program to Display the multiplication Table?"
   ]
  },
  {
   "cell_type": "code",
   "execution_count": 7,
   "id": "f879497c-2fc9-46b5-908e-5831389272e9",
   "metadata": {},
   "outputs": [
    {
     "name": "stdin",
     "output_type": "stream",
     "text": [
      "enter a no 2\n"
     ]
    },
    {
     "name": "stdout",
     "output_type": "stream",
     "text": [
      "2  X 1  = 2\n",
      "2  X 2  = 4\n",
      "2  X 3  = 6\n",
      "2  X 4  = 8\n",
      "2  X 5  = 10\n",
      "2  X 6  = 12\n",
      "2  X 7  = 14\n",
      "2  X 8  = 16\n",
      "2  X 9  = 18\n",
      "2  X 10  = 20\n"
     ]
    }
   ],
   "source": [
    "num=int(input(\"enter a no\"))\n",
    "for i in range (1,11):\n",
    "    print(num,\" X\",i,\" =\",num*i)\n",
    "    "
   ]
  },
  {
   "cell_type": "markdown",
   "id": "a313418d-c85e-467b-ace8-48b220e0b84a",
   "metadata": {},
   "source": [
    "3. Write a Python Program to Print the Fibonacci sequence?"
   ]
  },
  {
   "cell_type": "code",
   "execution_count": 6,
   "id": "71c345a9-7efd-486e-8b92-4af341fce6a8",
   "metadata": {},
   "outputs": [
    {
     "name": "stdin",
     "output_type": "stream",
     "text": [
      "enter many terms u want to print? 5\n"
     ]
    },
    {
     "name": "stdout",
     "output_type": "stream",
     "text": [
      "fibonacci sequence of a no is  \n",
      "0\n",
      "1\n",
      "1\n",
      "2\n",
      "3\n"
     ]
    }
   ],
   "source": [
    "n=int(input(\"enter many terms u want to print?\"))\n",
    "n1=0\n",
    "n2=1\n",
    "count=0\n",
    "if n<=0:\n",
    "    print(\"please enter positive integer\")\n",
    "elif n==1:\n",
    "    print(\"the fibonacci sequence of the no is upto\",n)\n",
    "    print(n1)\n",
    "    \n",
    "else:\n",
    "    print(\"fibonacci sequence of a no is  \")\n",
    "    while count<n:\n",
    "        print(n1)\n",
    "        nth=n1+n2\n",
    "        n1=n2\n",
    "        n2=nth\n",
    "        count+=1\n",
    "        \n"
   ]
  },
  {
   "cell_type": "markdown",
   "id": "770e7df2-c815-4d93-8a2f-bbdfeaffb09d",
   "metadata": {},
   "source": [
    "4. Write a Python Program to Check Armstrong Number?"
   ]
  },
  {
   "cell_type": "code",
   "execution_count": 7,
   "id": "299c63cf-1b1d-4d80-9904-860f910b2aac",
   "metadata": {},
   "outputs": [
    {
     "name": "stdin",
     "output_type": "stream",
     "text": [
      "enter a no 153\n"
     ]
    },
    {
     "name": "stdout",
     "output_type": "stream",
     "text": [
      "153  is an armstrong no\n"
     ]
    }
   ],
   "source": [
    "num=int(input(\"enter a no\"))\n",
    "order=len(str(num))\n",
    "sum=0\n",
    "temp= num\n",
    "while temp >0:\n",
    "    digit =temp% 10\n",
    "    sum+=digit**order\n",
    "    temp//=10\n",
    "if num==sum:\n",
    "    print (num,\" is an armstrong no\")\n",
    "else:\n",
    "    print(num,\"is not an armstrong\")"
   ]
  },
  {
   "cell_type": "markdown",
   "id": "aecb1b90-7050-43f4-9768-619d673d2e94",
   "metadata": {},
   "source": [
    "5. Write a Python Program to Find Armstrong Number in an Interval?"
   ]
  },
  {
   "cell_type": "code",
   "execution_count": 13,
   "id": "ba8ff157-14d0-4c86-9406-4b1a68d121b7",
   "metadata": {},
   "outputs": [
    {
     "name": "stdin",
     "output_type": "stream",
     "text": [
      "enter a lower limit 100\n",
      "enter upper limit  1000000\n"
     ]
    },
    {
     "name": "stdout",
     "output_type": "stream",
     "text": [
      "153  is an armstrong no\n",
      "370  is an armstrong no\n",
      "371  is an armstrong no\n",
      "407  is an armstrong no\n",
      "1634  is an armstrong no\n",
      "8208  is an armstrong no\n",
      "9474  is an armstrong no\n",
      "54748  is an armstrong no\n",
      "92727  is an armstrong no\n",
      "93084  is an armstrong no\n",
      "548834  is an armstrong no\n"
     ]
    }
   ],
   "source": [
    "l=int(input(\"enter a lower limit\"))\n",
    "u=int(input(\"enter upper limit \"))\n",
    "for num in range(l,u+1):\n",
    "    \n",
    "    order=len(str(num))\n",
    "    sum=0\n",
    "    temp= num \n",
    "    while temp >0:\n",
    "        \n",
    "        digit =temp% 10\n",
    "        sum+=digit**order\n",
    "        temp//=10\n",
    "    if num==sum:\n",
    "        print (num,\" is an armstrong no\")\n",
    "    \n"
   ]
  },
  {
   "cell_type": "code",
   "execution_count": null,
   "id": "cabe51dd-03ab-4af0-b326-07ab190f57ab",
   "metadata": {},
   "outputs": [],
   "source": []
  },
  {
   "cell_type": "code",
   "execution_count": null,
   "id": "cd7f5179-e834-4ac8-a3c5-e08d0aaa5e3c",
   "metadata": {},
   "outputs": [],
   "source": []
  },
  {
   "cell_type": "code",
   "execution_count": null,
   "id": "514afd9a-ba1b-40a3-8fd3-6f98e100ed17",
   "metadata": {},
   "outputs": [],
   "source": []
  }
 ],
 "metadata": {
  "kernelspec": {
   "display_name": "Python 3 (ipykernel)",
   "language": "python",
   "name": "python3"
  },
  "language_info": {
   "codemirror_mode": {
    "name": "ipython",
    "version": 3
   },
   "file_extension": ".py",
   "mimetype": "text/x-python",
   "name": "python",
   "nbconvert_exporter": "python",
   "pygments_lexer": "ipython3",
   "version": "3.9.12"
  }
 },
 "nbformat": 4,
 "nbformat_minor": 5
}
