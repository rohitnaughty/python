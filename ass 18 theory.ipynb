{
 "cells": [
  {
   "cell_type": "markdown",
   "id": "0a8f869a-6e76-4406-aca9-b026215c12ab",
   "metadata": {},
   "source": [
    "1. Create a zoo.py file first. Define the hours() function, which prints the string \"Open 9-5 daily\".\n",
    "Then, use the interactive interpreter to import the zoo module and call its hours() function.\n"
   ]
  },
  {
   "cell_type": "code",
   "execution_count": 3,
   "id": "51ed4477-8db6-44fb-9f1a-7ce2f6ee2374",
   "metadata": {},
   "outputs": [],
   "source": [
    "import zoo"
   ]
  },
  {
   "cell_type": "code",
   "execution_count": 4,
   "id": "2a8c7a70-e8b5-4e2c-86c9-34b319eb0a7b",
   "metadata": {},
   "outputs": [
    {
     "data": {
      "text/plain": [
       "'Open 9-5 daily'"
      ]
     },
     "execution_count": 4,
     "metadata": {},
     "output_type": "execute_result"
    }
   ],
   "source": [
    "zoo.hours()"
   ]
  },
  {
   "cell_type": "markdown",
   "id": "d5890d5f-e535-417b-86c8-5de1e062b6f4",
   "metadata": {},
   "source": [
    "2. In the interactive interpreter, import the zoo module as menagerie and call its hours() function.\n"
   ]
  },
  {
   "cell_type": "code",
   "execution_count": 5,
   "id": "88657de5-db65-45e8-b47b-ed34bc3df816",
   "metadata": {},
   "outputs": [
    {
     "data": {
      "text/plain": [
       "'Open 9-5 daily'"
      ]
     },
     "execution_count": 5,
     "metadata": {},
     "output_type": "execute_result"
    }
   ],
   "source": [
    "import zoo as menagerie\n",
    "menagerie.hours()"
   ]
  },
  {
   "cell_type": "markdown",
   "id": "0a500220-8729-4594-875d-0b214d41354b",
   "metadata": {},
   "source": [
    "3. Using the interpreter, explicitly import and call the hours() function from zoo.\n"
   ]
  },
  {
   "cell_type": "code",
   "execution_count": 7,
   "id": "16dbcbea-2241-44ad-842b-2eaa463b91d2",
   "metadata": {},
   "outputs": [
    {
     "data": {
      "text/plain": [
       "'Open 9-5 daily'"
      ]
     },
     "execution_count": 7,
     "metadata": {},
     "output_type": "execute_result"
    }
   ],
   "source": [
    "from zoo import hours\n",
    "hours()"
   ]
  },
  {
   "cell_type": "markdown",
   "id": "26356028-26f6-450a-89f9-ec0b608a80d2",
   "metadata": {},
   "source": [
    "4. Import the hours() function as info and call it.\n"
   ]
  },
  {
   "cell_type": "code",
   "execution_count": 9,
   "id": "e5cba99f-b5ba-48c1-bace-152fa11224e6",
   "metadata": {},
   "outputs": [
    {
     "data": {
      "text/plain": [
       "<function zoo.hours()>"
      ]
     },
     "execution_count": 9,
     "metadata": {},
     "output_type": "execute_result"
    }
   ],
   "source": [
    "from zoo import hours as info \n",
    "info"
   ]
  },
  {
   "cell_type": "markdown",
   "id": "a040a5b7-c371-489d-9a37-97f0093daa12",
   "metadata": {},
   "source": [
    "5. Create a plain dictionary with the key-value pairs\"a\": 1,\"b\": 2, and \"c\": 3, and print it out.\n"
   ]
  },
  {
   "cell_type": "code",
   "execution_count": 11,
   "id": "8d81e968-e5b6-4786-896c-654c21d01ed9",
   "metadata": {},
   "outputs": [
    {
     "data": {
      "text/plain": [
       "{'a': 1, 'b': 2, 'c': 3}"
      ]
     },
     "execution_count": 11,
     "metadata": {},
     "output_type": "execute_result"
    }
   ],
   "source": [
    "plain ={\"a\":1,\"b\":2,\"c\":3}\n",
    "plain"
   ]
  },
  {
   "cell_type": "markdown",
   "id": "62a2a2a2-c336-4ccd-9d2e-e3338e5ec83a",
   "metadata": {},
   "source": [
    "6.Make an OrderedDict called fancy from the same pairs listed in 5 and print it. Did it print in the\n",
    "same order as plain?\n"
   ]
  },
  {
   "cell_type": "raw",
   "id": "0caff567-782d-42b9-89e8-96f101455c38",
   "metadata": {},
   "source": [
    "yes"
   ]
  },
  {
   "cell_type": "code",
   "execution_count": 12,
   "id": "eb74e25b-ec67-47ab-913c-331689841299",
   "metadata": {},
   "outputs": [
    {
     "data": {
      "text/plain": [
       "OrderedDict([('a', 1), ('b', 2), ('c', 3)])"
      ]
     },
     "execution_count": 12,
     "metadata": {},
     "output_type": "execute_result"
    }
   ],
   "source": [
    "from collections import OrderedDict\n",
    "fancy =OrderedDict([(\"a\",1),(\"b\",2),(\"c\",3)])\n",
    "fancy"
   ]
  },
  {
   "cell_type": "markdown",
   "id": "c1b4f436-d6cd-4a01-aa90-0f42dee995a9",
   "metadata": {},
   "source": [
    "7. Make a default dictionary called dict_of_lists and pass it the argument list. Make the list\n",
    "dict_of_lists[\"a\"] and append the value \"something for a\" to it in one assignment. Print\n",
    "dict_of_lists[\"a\"]."
   ]
  },
  {
   "cell_type": "code",
   "execution_count": 13,
   "id": "cf6ec6ad-d976-4520-a18b-7a9bb2907206",
   "metadata": {},
   "outputs": [
    {
     "data": {
      "text/plain": [
       "['somethink for a']"
      ]
     },
     "execution_count": 13,
     "metadata": {},
     "output_type": "execute_result"
    }
   ],
   "source": [
    "from collections import defaultdict\n",
    "dict_of_lists=defaultdict(list)\n",
    "dict_of_lists[\"a\"].append(\"somethink for a\")\n",
    "dict_of_lists[\"a\"]"
   ]
  },
  {
   "cell_type": "code",
   "execution_count": null,
   "id": "d0fc8274-8329-46aa-99d7-718cd716d112",
   "metadata": {},
   "outputs": [],
   "source": []
  },
  {
   "cell_type": "code",
   "execution_count": null,
   "id": "938e20cd-d419-4c92-8872-9a88c9e0d6ae",
   "metadata": {},
   "outputs": [],
   "source": []
  },
  {
   "cell_type": "code",
   "execution_count": null,
   "id": "262cc1e3-2b17-43be-b4ec-722956c7f413",
   "metadata": {},
   "outputs": [],
   "source": []
  }
 ],
 "metadata": {
  "kernelspec": {
   "display_name": "Python 3 (ipykernel)",
   "language": "python",
   "name": "python3"
  },
  "language_info": {
   "codemirror_mode": {
    "name": "ipython",
    "version": 3
   },
   "file_extension": ".py",
   "mimetype": "text/x-python",
   "name": "python",
   "nbconvert_exporter": "python",
   "pygments_lexer": "ipython3",
   "version": "3.9.12"
  }
 },
 "nbformat": 4,
 "nbformat_minor": 5
}
