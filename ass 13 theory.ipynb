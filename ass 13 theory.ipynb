{
 "cells": [
  {
   "cell_type": "markdown",
   "id": "e8019fd0-b204-4f37-a9bf-c9a980597dd0",
   "metadata": {},
   "source": [
    "1. What advantages do Excel spreadsheets have over CSV spreadsheets?\n"
   ]
  },
  {
   "cell_type": "raw",
   "id": "7e6e164b-e6ef-47b0-989b-1ce4e55abee0",
   "metadata": {},
   "source": [
    "Excel advantages over CSV\n",
    "1.It is a binary file that holds information about all the worksheets in a workbook\n",
    "2.An excel not only stores data but ban also do operations on the data \n",
    "3.Files saved in excel cannot be opened or edited bt text editors \n",
    "4.Large files user in much easier in excel for the user end.\n",
    "Also, you have additional functions like selecting individual cells for import,\n",
    "convert dates and time automatically ,reading formulas and their results,filters,sorting,etc\n",
    "5.Apart from text,data can also be sorted in form of charts and graphs\n",
    "6.Excels can connect to external data sources to fetch data.You can use custom add-in in excel to increase \n",
    "its fuctionality.\n",
    "7.Excel allows for reviews of data with detailed tracking and commenting feature \n",
    "8.In excel,spreadsheets can have values of data types other than strings; cells can have different fonts ,size,or color settings; cells can have varying widths and heights; adjacent cells can be merged"
   ]
  },
  {
   "cell_type": "markdown",
   "id": "ee2a5eb0-d6c5-4e08-b104-d4fc47f37cbc",
   "metadata": {},
   "source": [
    "2.What do you pass to csv.reader() and csv.writer() to create reader and writer objects?\n"
   ]
  },
  {
   "cell_type": "raw",
   "id": "fac8d87a-fb44-4df3-9fd0-dae3ee0d204a",
   "metadata": {},
   "source": [
    "we pass  a file object,obtained from a call to open()."
   ]
  },
  {
   "cell_type": "code",
   "execution_count": 4,
   "id": "8189f070-c1d5-4582-b8cd-f28467a27867",
   "metadata": {},
   "outputs": [
    {
     "data": {
      "text/plain": [
       "[]"
      ]
     },
     "execution_count": 4,
     "metadata": {},
     "output_type": "execute_result"
    }
   ],
   "source": [
    "import csv\n",
    "exFile =open('example.tsv')\n",
    "exReader=csv.reader(exFile)\n",
    "exdata=list(exReader)\n",
    "exdata"
   ]
  },
  {
   "cell_type": "markdown",
   "id": "6ec6b2e0-ea23-4a4c-9094-1e526ea38c4a",
   "metadata": {},
   "source": [
    "3. What modes do File objects for reader and writer objects need to be opened in?\n"
   ]
  },
  {
   "cell_type": "raw",
   "id": "00d73a72-c6ed-478b-b429-7c9548982d39",
   "metadata": {},
   "source": [
    "File objects need to be opened in read-binary('rb') for \n",
    "Reader objects are write-binary('wb') for Writer objects"
   ]
  },
  {
   "cell_type": "markdown",
   "id": "5a819681-bb82-4591-8624-49e8f8478311",
   "metadata": {},
   "source": [
    "4. What method takes a list argument and writes it to a CSV file?\n"
   ]
  },
  {
   "cell_type": "code",
   "execution_count": null,
   "id": "6e76f1ad-96d5-412e-9b44-4a79968da71c",
   "metadata": {},
   "outputs": [],
   "source": [
    "The writerrow() method"
   ]
  },
  {
   "cell_type": "code",
   "execution_count": 5,
   "id": "4c02d183-30b4-4889-9a31-e477eb1ff6ff",
   "metadata": {},
   "outputs": [
    {
     "data": {
      "text/plain": [
       "17"
      ]
     },
     "execution_count": 5,
     "metadata": {},
     "output_type": "execute_result"
    }
   ],
   "source": [
    "opFile= open(\"output.csv\",\"w\")\n",
    "opWriter=csv.writer(opFile)\n",
    "csv.writer(opFile).writerow([\"egg\",\"orange\",\"milk\"])"
   ]
  },
  {
   "cell_type": "markdown",
   "id": "801f30ca-9534-49d8-818e-921f19777d1c",
   "metadata": {},
   "source": [
    "5. What do the keyword arguments delimiter and line terminator do?\n"
   ]
  },
  {
   "cell_type": "raw",
   "id": "fccf17bb-6ae6-4a53-84c4-c205366e3960",
   "metadata": {},
   "source": [
    "The delimiter argument changes the string used to separate\n",
    "cells in a rows.\n",
    "The lineterminator argument changes the string used to seperate rows.\n"
   ]
  },
  {
   "cell_type": "code",
   "execution_count": 6,
   "id": "fa2a3a24-1b98-46d8-9cf9-6bfaf6d3bef4",
   "metadata": {},
   "outputs": [],
   "source": [
    "import csv \n",
    "csvFile=open(\"example.tsv\",\"w\",newline=\"\")\n",
    "csvWriter=csv.writer(csvFile,delimiter=\"\\t\",lineterminator=\"\\n\\n\")"
   ]
  },
  {
   "cell_type": "markdown",
   "id": "5304beb2-8669-41c5-86b7-3cbdf32d9f8a",
   "metadata": {},
   "source": [
    "6. What function takes a string of JSON data and returns a Python data structure?\n"
   ]
  },
  {
   "cell_type": "raw",
   "id": "97beb4f1-1e40-4dce-9074-e476adbacdf9",
   "metadata": {},
   "source": [
    "json.loads()"
   ]
  },
  {
   "cell_type": "markdown",
   "id": "fcda30f3-925c-4501-9524-645473fcb96d",
   "metadata": {},
   "source": [
    "7. What function takes a Python data structure and returns a string of JSON data?"
   ]
  },
  {
   "cell_type": "raw",
   "id": "90e60426-cc17-46c8-9330-d77669c4bf69",
   "metadata": {},
   "source": [
    "json.dumps()"
   ]
  },
  {
   "cell_type": "code",
   "execution_count": null,
   "id": "d98f1731-31fd-453a-ab51-de2ce55ac663",
   "metadata": {},
   "outputs": [],
   "source": []
  },
  {
   "cell_type": "code",
   "execution_count": null,
   "id": "a4d46854-861a-4d9f-9b79-1191ad10cafd",
   "metadata": {},
   "outputs": [],
   "source": []
  },
  {
   "cell_type": "code",
   "execution_count": null,
   "id": "6f3b0adb-2cda-40e6-8648-ee92b46d15ac",
   "metadata": {},
   "outputs": [],
   "source": []
  },
  {
   "cell_type": "code",
   "execution_count": null,
   "id": "21c95a2c-7a54-405f-a3dd-d43292e074bb",
   "metadata": {},
   "outputs": [],
   "source": []
  },
  {
   "cell_type": "code",
   "execution_count": null,
   "id": "23f656f2-35aa-4012-a81a-32ac491c52eb",
   "metadata": {},
   "outputs": [],
   "source": []
  },
  {
   "cell_type": "code",
   "execution_count": null,
   "id": "b0111577-6246-45d3-bb05-a181c53057a7",
   "metadata": {},
   "outputs": [],
   "source": []
  },
  {
   "cell_type": "code",
   "execution_count": null,
   "id": "d70ea2c3-87de-4382-8cd7-f7080116a9c1",
   "metadata": {},
   "outputs": [],
   "source": []
  },
  {
   "cell_type": "code",
   "execution_count": null,
   "id": "daaa419d-1693-4c61-8e34-1f329ad6a478",
   "metadata": {},
   "outputs": [],
   "source": []
  },
  {
   "cell_type": "code",
   "execution_count": null,
   "id": "4b9cec37-a3cb-440d-870d-092a5fb5bf54",
   "metadata": {},
   "outputs": [],
   "source": []
  },
  {
   "cell_type": "code",
   "execution_count": null,
   "id": "85fe0d5d-5b64-4186-a81b-80d04b5303f0",
   "metadata": {},
   "outputs": [],
   "source": []
  },
  {
   "cell_type": "code",
   "execution_count": null,
   "id": "6f16a316-69bc-42c2-9572-9bd41d482e82",
   "metadata": {},
   "outputs": [],
   "source": []
  }
 ],
 "metadata": {
  "kernelspec": {
   "display_name": "Python 3 (ipykernel)",
   "language": "python",
   "name": "python3"
  },
  "language_info": {
   "codemirror_mode": {
    "name": "ipython",
    "version": 3
   },
   "file_extension": ".py",
   "mimetype": "text/x-python",
   "name": "python",
   "nbconvert_exporter": "python",
   "pygments_lexer": "ipython3",
   "version": "3.9.12"
  }
 },
 "nbformat": 4,
 "nbformat_minor": 5
}
