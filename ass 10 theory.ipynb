{
 "cells": [
  {
   "cell_type": "markdown",
   "id": "b4888b0e-ec65-4765-be3d-84917af8efb3",
   "metadata": {},
   "source": [
    "1. How do you distinguish between shutil.copy() and shutil.copytree()?\n"
   ]
  },
  {
   "cell_type": "raw",
   "id": "51251503-73cf-4298-988d-d845f2d9ac0b",
   "metadata": {},
   "source": [
    "shutil.copy :Copies a single file\n",
    "shutil.copytree() : will copy an entire folder and every folder and file contained in it "
   ]
  },
  {
   "cell_type": "markdown",
   "id": "b8a09000-2acc-452f-9c9a-61ae609b0ee9",
   "metadata": {},
   "source": [
    "2. What function is used to rename files??\n"
   ]
  },
  {
   "cell_type": "raw",
   "id": "dbb40a16-6f8f-4677-8cfa-dbad50756c61",
   "metadata": {},
   "source": [
    "import os \n",
    "os.rename(\"text.txt\",\"textnew.txt\")"
   ]
  },
  {
   "cell_type": "markdown",
   "id": "487b5d5a-de06-4bae-a002-344385ba37f5",
   "metadata": {},
   "source": [
    "3. What is the difference between the delete functions in the send2trash and shutil modules?\n"
   ]
  },
  {
   "cell_type": "raw",
   "id": "4eb264aa-df98-4cbb-bd40-ef944d1a2fd2",
   "metadata": {},
   "source": [
    "import shutil \n",
    "shutiyl.retree():\n",
    "the module's rmtree() function can be used to delete files or folders. But, this function delete the files\n",
    "permanently.\n",
    "The operation cannot be undone if there were any accidental deletions performed\n",
    "\n",
    "import send2trash \n",
    "send2trash.send2trash(): Using send2trash, we can send files to the trash or recycle bin instead of permanently deleting them .\n",
    "If the directory contains files or other folders,those are deleted.A TrashPermissionError exception is raised,\n",
    "in case a file could not be deleted due to permission error or any other unexpected reason.\n",
    "\n",
    "    "
   ]
  },
  {
   "cell_type": "raw",
   "id": "5ffad9e1-1a31-4948-9bd5-cb1409f36510",
   "metadata": {},
   "source": [
    "import shutil\n",
    "import send2trash\n",
    "shutil.rmtree(\"path\")\n",
    "send2trash.send2trash(\"path\")"
   ]
  },
  {
   "cell_type": "markdown",
   "id": "846d0252-ff90-49a3-9cdd-c084bceedf25",
   "metadata": {},
   "source": [
    "4.ZipFile objects have a close() method just like File objects’ close() method. What ZipFile method is\n",
    "equivalent to File objects’ open() method?\n"
   ]
  },
  {
   "cell_type": "code",
   "execution_count": null,
   "id": "2077f120-8482-41f7-8fab-aaf93c6eb5da",
   "metadata": {},
   "outputs": [],
   "source": [
    "from zipFile import Zipfile \n",
    "with zipFile(file_name, \"r\") as zip: -> this code will open specified zipfile for us . we can zip objext to perform other operation  the zipfile. like zip.read()\n",
    "from zipFile import Zipfile\n",
    "with ZipFile(file_name,\"r\")as zip"
   ]
  },
  {
   "cell_type": "markdown",
   "id": "757dd412-5c3d-4c14-ad33-03c2cb08fb83",
   "metadata": {},
   "source": [
    "5. Create a programme that searches a folder tree for files with a certain file extension (such as .pdf\n",
    "or .jpg). Copy these files from whatever location they are in to a new folder."
   ]
  },
  {
   "cell_type": "code",
   "execution_count": 4,
   "id": "048b6c47-a4da-4f33-9ba6-1df2b0590e71",
   "metadata": {},
   "outputs": [
    {
     "name": "stdout",
     "output_type": "stream",
     "text": [
      "Looking in C:\\Users\\bhanu\\Desktop\\source for files with extensions of .mp4, .pdf, .jpg\n"
     ]
    }
   ],
   "source": [
    "# Write a program that walks through a folder tree \n",
    "# and searches for files with a certain file extension (such as .pdf or .jpg).\n",
    "# Copy these files from whatever location they are in to a new folder.\n",
    "\n",
    "import os, shutil\n",
    "\n",
    "def selectiveCopy(source, extensions, destFolder):\n",
    "    folder = os.path.abspath(source)\n",
    "    destFolder = os.path.abspath(destFolder)\n",
    "    print('Looking in', source, 'for files with extensions of', ', '.join(extensions))\n",
    "    for foldername, subfolders, filenames in os.walk(source):\n",
    "        for filename in filenames:\n",
    "            name, extension = os.path.splitext(filename)\n",
    "            if extension in extensions:\n",
    "                fileAbsPath = foldername + os.path.sep + filename\n",
    "                print('Coping', fileAbsPath, 'to', destFolder)\n",
    "                shutil.copy(fileAbsPath, destFolder)\n",
    "\n",
    "extensions = ['.mp4', '.pdf','.jpg']\n",
    "source = \"C:\\\\Users\\\\bhanu\\\\Desktop\\\\source\"\n",
    "destFolder = \"C:\\\\Users\\\\bhanu\\\\Desktop\\\\dest\"\n",
    "selectiveCopy(source, extensions, destFolder)"
   ]
  },
  {
   "cell_type": "code",
   "execution_count": null,
   "id": "7ecd2570-b0c2-42d2-a4aa-91ee1bc48f2a",
   "metadata": {},
   "outputs": [],
   "source": []
  }
 ],
 "metadata": {
  "kernelspec": {
   "display_name": "Python 3 (ipykernel)",
   "language": "python",
   "name": "python3"
  },
  "language_info": {
   "codemirror_mode": {
    "name": "ipython",
    "version": 3
   },
   "file_extension": ".py",
   "mimetype": "text/x-python",
   "name": "python",
   "nbconvert_exporter": "python",
   "pygments_lexer": "ipython3",
   "version": "3.9.12"
  }
 },
 "nbformat": 4,
 "nbformat_minor": 5
}
