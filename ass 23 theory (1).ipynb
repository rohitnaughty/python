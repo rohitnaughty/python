{
 "cells": [
  {
   "cell_type": "raw",
   "id": "5d213240-792d-47ad-aec2-a845945c3c9f",
   "metadata": {},
   "source": [
    "1. What is the result of the code, and why?\n",
    ">>> def func(a, b=6, c=8):\n",
    "print(a, b, c)\n",
    ">>> func(1, 2)"
   ]
  },
  {
   "cell_type": "code",
   "execution_count": 4,
   "id": "ca609d74-ed55-41ec-9b6b-3694ea5ad91a",
   "metadata": {},
   "outputs": [
    {
     "name": "stdout",
     "output_type": "stream",
     "text": [
      "1 2 8\n"
     ]
    }
   ],
   "source": [
    "def func(a, b=6, c=8):\n",
    "    print(a, b, c)\n",
    "func(1, 2)"
   ]
  },
  {
   "cell_type": "raw",
   "id": "edf31b28-977e-44c8-a57a-6f14cd330d0e",
   "metadata": {},
   "source": [
    "Here values of a and b  are hard coded by user,so the preferance is given to the values given by user and value of c is by default 8.    "
   ]
  },
  {
   "cell_type": "code",
   "execution_count": null,
   "id": "54f5d2e9-5959-4156-8ca0-e118bdd0bbf9",
   "metadata": {},
   "outputs": [],
   "source": [
    "2. What is the result of this code, and why?\n",
    ">>> def func(a, b, c=5):\n",
    "print(a, b, c)\n",
    ">>> func(1, c=3, b=2)"
   ]
  },
  {
   "cell_type": "code",
   "execution_count": 3,
   "id": "9efa9950-1f43-4806-b4d7-5345734aba4e",
   "metadata": {},
   "outputs": [
    {
     "name": "stdout",
     "output_type": "stream",
     "text": [
      "1 2 3\n"
     ]
    }
   ],
   "source": [
    "def func(a, b, c=5):\n",
    "    print(a, b, c)\n",
    "func(1, c=3, b=2)"
   ]
  },
  {
   "cell_type": "raw",
   "id": "56f39364-c597-4060-ae2f-05dcbb2bbd27",
   "metadata": {},
   "source": [
    "Here values of a ,b and c are hardcoded by user so these nos going to be output ,and position doesn't affect our output because we have define b,c values."
   ]
  },
  {
   "cell_type": "code",
   "execution_count": null,
   "id": "33c97bae-8c8d-41a7-a453-b192a1bb65aa",
   "metadata": {},
   "outputs": [],
   "source": [
    "3. How about this code: what is its result, and why?\n",
    ">>> def func(a, *pargs):\n",
    "print(a, pargs)\n",
    ">>> func(1, 2, 3)"
   ]
  },
  {
   "cell_type": "code",
   "execution_count": 5,
   "id": "56d24eb0-8f0b-4f1c-a749-93f58d221553",
   "metadata": {},
   "outputs": [
    {
     "name": "stdout",
     "output_type": "stream",
     "text": [
      "1 (2, 3)\n"
     ]
    }
   ],
   "source": [
    "def func(a, *pargs):\n",
    "    print(a, pargs)\n",
    "func(1, 2, 3)"
   ]
  },
  {
   "cell_type": "code",
   "execution_count": null,
   "id": "a948910f-937c-491b-919f-e38b4be6f49d",
   "metadata": {},
   "outputs": [],
   "source": [
    "Here a=1(hardcoded).*pargs  return as many argument user given as input in form of tuples"
   ]
  },
  {
   "cell_type": "code",
   "execution_count": null,
   "id": "c2cee4bd-b42a-4ef3-a3b1-a309b25a64c8",
   "metadata": {},
   "outputs": [],
   "source": [
    "4. What does this code print, and why?\n",
    ">>> def func(a, **kargs):\n",
    "print(a, kargs)\n",
    ">>> func(a=1, c=3, b=2)"
   ]
  },
  {
   "cell_type": "code",
   "execution_count": 6,
   "id": "c42ecdb7-1f10-460b-9989-6b6d59f9e263",
   "metadata": {},
   "outputs": [
    {
     "name": "stdout",
     "output_type": "stream",
     "text": [
      "1 {'c': 3, 'b': 2}\n"
     ]
    }
   ],
   "source": [
    "def func(a, **kargs):\n",
    "    print(a, kargs)\n",
    "func(a=1, c=3, b=2)"
   ]
  },
  {
   "cell_type": "code",
   "execution_count": null,
   "id": "22cad84f-9e35-4fdd-b774-09095da21d4a",
   "metadata": {},
   "outputs": [],
   "source": [
    "Here a=1.**kargs returns as many argument user given as input in form of dictonary "
   ]
  },
  {
   "cell_type": "code",
   "execution_count": null,
   "id": "1461d1da-be95-44f2-9838-f3ee8cc92cbb",
   "metadata": {},
   "outputs": [],
   "source": [
    "5. What gets printed by this, and explain?\n",
    ">>> def func(a, b, c=8, d=5): print(a, b, c, d)\n",
    ">>> func(1, *(5, 6))"
   ]
  },
  {
   "cell_type": "code",
   "execution_count": null,
   "id": "07855cac-dacb-4596-8ed2-f0d562643f24",
   "metadata": {},
   "outputs": [
    {
     "name": "stdout",
     "output_type": "stream",
     "text": [
      "1 5 6 5\n"
     ]
    }
   ],
   "source": [
    "def func(a, b, c=8, d=5):\n",
    "    print(a, b, c, d)\n",
    "func(1, *(5, 6))"
   ]
  },
  {
   "cell_type": "code",
   "execution_count": null,
   "id": "0566922b-001e-4d8b-9471-0afe7593abdb",
   "metadata": {},
   "outputs": [],
   "source": [
    "Here a=1.User input is given in the form if kargs.So as many variable is present that many times the value passes as kargs input will get printed .so here a=1,b=5,c=6,d=again 5."
   ]
  },
  {
   "cell_type": "code",
   "execution_count": null,
   "id": "3d7de227-1241-42c4-b56f-8f3f173b2a26",
   "metadata": {},
   "outputs": [],
   "source": [
    "6. what is the result of this, and explain?\n",
    ">>> def func(a, b, c): a = 2; b[0] = \"x\"; c[\"a\"] = \"y\"\n",
    ">>> l=1; m=[1]; n={\"a\":0}\n",
    ">>> func(l, m, n)\n",
    ">>> l, m, n"
   ]
  },
  {
   "cell_type": "code",
   "execution_count": 3,
   "id": "13e18585-793e-4ba6-9829-93e91dcd1874",
   "metadata": {
    "tags": []
   },
   "outputs": [],
   "source": [
    "def func(a, b, c):\n",
    "    a = 2; b[0] = \"x\"; c[\"a\"] = \"y\"\n"
   ]
  },
  {
   "cell_type": "code",
   "execution_count": 4,
   "id": "a0a17086-fbee-4904-9069-7fdbbcc1a91a",
   "metadata": {},
   "outputs": [],
   "source": [
    "l=1;m=[1];n={\"a\":0}   \n"
   ]
  },
  {
   "cell_type": "code",
   "execution_count": 5,
   "id": "227b9158-7e02-4fe7-be4a-5995b400bac9",
   "metadata": {},
   "outputs": [],
   "source": [
    "func(l, m, n)"
   ]
  },
  {
   "cell_type": "code",
   "execution_count": 6,
   "id": "a7160ec1-e50d-46d7-8c18-0126c3075e72",
   "metadata": {
    "tags": []
   },
   "outputs": [
    {
     "data": {
      "text/plain": [
       "(1, ['x'], {'a': 'y'})"
      ]
     },
     "execution_count": 6,
     "metadata": {},
     "output_type": "execute_result"
    }
   ],
   "source": [
    "l,m,n"
   ]
  },
  {
   "cell_type": "code",
   "execution_count": null,
   "id": "e855b9f5-7a7d-4b9e-8954-43609444f96d",
   "metadata": {},
   "outputs": [],
   "source": [
    "Here in func(l,m,n) we passed l=1((user input), m is passed as list contain l element i.e \"x\","
   ]
  },
  {
   "cell_type": "code",
   "execution_count": null,
   "id": "716a5cf9-1d82-480e-b3be-c050f27f7c66",
   "metadata": {},
   "outputs": [],
   "source": [
    "\n",
    "Here in func(l,m,n) we passed l=1(user input), m is passed as list contain 1 element i.e 'x', n is passed as dictionary i.e {'a':'y'}"
   ]
  }
 ],
 "metadata": {
  "kernelspec": {
   "display_name": "Python 3 (ipykernel)",
   "language": "python",
   "name": "python3"
  },
  "language_info": {
   "codemirror_mode": {
    "name": "ipython",
    "version": 3
   },
   "file_extension": ".py",
   "mimetype": "text/x-python",
   "name": "python",
   "nbconvert_exporter": "python",
   "pygments_lexer": "ipython3",
   "version": "3.9.12"
  }
 },
 "nbformat": 4,
 "nbformat_minor": 5
}
