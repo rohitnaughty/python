{
 "cells": [
  {
   "cell_type": "code",
   "execution_count": null,
   "id": "5f424101-bfce-40c9-b935-0bfbabb6f9a4",
   "metadata": {},
   "outputs": [],
   "source": [
    "1. To what does a relative path refer?\n"
   ]
  },
  {
   "cell_type": "code",
   "execution_count": null,
   "id": "5b937b06-5b25-42ef-b2ff-604f33c7a98b",
   "metadata": {},
   "outputs": [],
   "source": [
    "The relative path is the path of a file with respect to youur current working directory (PWD)"
   ]
  },
  {
   "cell_type": "code",
   "execution_count": null,
   "id": "73a18a30-ea5e-4273-beb1-beb3a449d999",
   "metadata": {},
   "outputs": [],
   "source": [
    "2. What does an absolute path start with your operating system?\n"
   ]
  },
  {
   "cell_type": "markdown",
   "id": "20ff0e08-bc56-4af0-9014-fe93b684d9c9",
   "metadata": {},
   "source": [
    "An absolute path contains the full set of directories from the root of the file or dictonory. An absolute path start with the root folder ,such as /orC:."
   ]
  },
  {
   "cell_type": "code",
   "execution_count": null,
   "id": "c760de24-68f5-4de7-8a7c-682b3a81f177",
   "metadata": {},
   "outputs": [],
   "source": [
    "3. What do the functions os.getcwd() and os.chdir() do?\n"
   ]
  },
  {
   "cell_type": "markdown",
   "id": "6a423312-9765-45a8-848a-a6c00e361df4",
   "metadata": {},
   "source": [
    "getcwd stands for\"set current working directory \".os.getcwd() returns the absolute path of the directory where python is currently running as a string str.chdir() method in python used to change the current working directory to specified path . It takes only a single argument as new directory path."
   ]
  },
  {
   "cell_type": "markdown",
   "id": "d576475a-aa66-4c29-8902-1b36344c9d8e",
   "metadata": {},
   "source": [
    "4. What are the . and .. folders?\n"
   ]
  },
  {
   "cell_type": "markdown",
   "id": "ed18fab2-145c-4005-af0a-01a8c39f2097",
   "metadata": {},
   "source": [
    "The .is the current directory,while ,,signifies the parent directory."
   ]
  },
  {
   "cell_type": "markdown",
   "id": "6272cfd7-7a90-4890-9248-78b5cd3fd76e",
   "metadata": {},
   "source": [
    "5. In C:\\bacon\\eggs\\spam.txt, which part is the dir name, and which part is the base name?\n"
   ]
  },
  {
   "cell_type": "markdown",
   "id": "c9361135-7de3-4471-8265-7543ce4947a9",
   "metadata": {},
   "source": [
    "The basename is the final rightmost segment of the file path .In the above path base name is spam.txt.os:path.basename() can be used to extract base name from the path .dir name is the folder name in which file exists. In the above path dir name is C:\\bacon\\eggs . os.path.dirname() can be used to extract dir name for path.   "
   ]
  },
  {
   "cell_type": "markdown",
   "id": "4417a73d-7704-41bc-83fc-6d63db5d86aa",
   "metadata": {},
   "source": [
    "6. What are the three “mode” arguments that can be passed to the open() function?\n"
   ]
  },
  {
   "cell_type": "markdown",
   "id": "67f4d3cc-8bc0-44a4-bb8c-7c79778ccba9",
   "metadata": {},
   "source": [
    "mode arguments that can be passed to open () function are:\"r\"Open a file from reading.(default)\"w\"Open a file for writing .Creates a new file if it does not exist or truncates the file if it exists.\"a\"Open for appending at the end of the file without truncating it.Creates a new file if it does not exist.\"+\"Open a file for updating (reading and writing)"
   ]
  },
  {
   "cell_type": "markdown",
   "id": "4090ff50-18b3-44a5-8606-acf48b69bbb9",
   "metadata": {},
   "source": [
    "7. What happens if an existing file is opened in write mode?\n"
   ]
  },
  {
   "cell_type": "markdown",
   "id": "db89163d-efe8-4be6-923f-364eadbab92c",
   "metadata": {},
   "source": [
    "When a existing file is opened in write mode ,contens which were previously present will  ne overwritten by new content passed. "
   ]
  },
  {
   "cell_type": "markdown",
   "id": "3dc45781-a53c-41c4-8dd2-fde89490a6d8",
   "metadata": {},
   "source": [
    "8. How do you tell the difference between read() and readlines()?\n"
   ]
  },
  {
   "cell_type": "code",
   "execution_count": null,
   "id": "97652e77-4872-4325-9381-6ad3609a5bcf",
   "metadata": {},
   "outputs": [],
   "source": [
    "read() reads the entire contents of the file into a string.readline() just reads file till th"
   ]
  },
  {
   "cell_type": "markdown",
   "id": "5cfa2804-aceb-4262-9955-4f7a20fd69b9",
   "metadata": {},
   "source": [
    "9. What data structure does a shelf value resemble?"
   ]
  },
  {
   "cell_type": "markdown",
   "id": "18db7183-05cb-422f-94de-7a116c010910",
   "metadata": {},
   "source": [
    "A shelf value resembles a dictionary  value ; it has keys and values,along with keys() and values() methods that work similarly to the dicionary methords of the same names."
   ]
  },
  {
   "cell_type": "code",
   "execution_count": null,
   "id": "a673560f-7325-4c2e-b930-58d6ced9a0e7",
   "metadata": {},
   "outputs": [],
   "source": []
  }
 ],
 "metadata": {
  "kernelspec": {
   "display_name": "Python 3 (ipykernel)",
   "language": "python",
   "name": "python3"
  },
  "language_info": {
   "codemirror_mode": {
    "name": "ipython",
    "version": 3
   },
   "file_extension": ".py",
   "mimetype": "text/x-python",
   "name": "python",
   "nbconvert_exporter": "python",
   "pygments_lexer": "ipython3",
   "version": "3.9.12"
  }
 },
 "nbformat": 4,
 "nbformat_minor": 5
}
