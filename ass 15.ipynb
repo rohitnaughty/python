{
 "cells": [
  {
   "cell_type": "raw",
   "id": "89e50c45-5aea-47e9-b79c-3e553cb34bbd",
   "metadata": {},
   "source": [
    "Question 1:\n",
    "Please write a program using generator to print the numbers which can be divisible by 5 and\n",
    "7 between 0 and n in comma separated form while n is input by console.\n",
    "Example:\n",
    "If the following n is given as input to the program:\n",
    "100\n",
    "Then, the output of the program should be:\n",
    "0,35,70"
   ]
  },
  {
   "cell_type": "code",
   "execution_count": 6,
   "id": "e6932808-b8f5-47b1-8c5f-c5d34c0e0ad6",
   "metadata": {},
   "outputs": [
    {
     "name": "stdin",
     "output_type": "stream",
     "text": [
      "raw_input() 100\n"
     ]
    },
    {
     "name": "stdout",
     "output_type": "stream",
     "text": [
      "0,35,70\n"
     ]
    }
   ],
   "source": [
    "def NumGenerator(n):\n",
    "    \"\"\"  print the numbers which can be divisible by 5 and\n",
    "7 between 0 and n in comma separated form while n is input by console.\"\"\"\n",
    "    for i in range(n+1):\n",
    "        if i%5==0 and i%7==0:\n",
    "            yield i\n",
    "n=int(input(\"raw_input()\"))\n",
    "values = []\n",
    "for i in NumGenerator(n):\n",
    "    values.append(str(i))\n",
    "\n",
    "print( \",\".join(values))\n"
   ]
  },
  {
   "cell_type": "raw",
   "id": "2be8fa26-34dc-48ad-bbc9-05472ee44bb3",
   "metadata": {},
   "source": [
    "Question 2:\n",
    "Please write a program using generator to print the even numbers between 0 and n in comma\n",
    "separated form while n is input by console.\n",
    "Example:\n",
    "If the following n is given as input to the program:\n",
    "10\n",
    "Then, the output of the program should be:\n",
    "0,2,4,6,8,10"
   ]
  },
  {
   "cell_type": "code",
   "execution_count": 7,
   "id": "54f34719-96b6-4b64-8d8b-219b5dee773c",
   "metadata": {},
   "outputs": [],
   "source": [
    "def NumGenerator(n):\n",
    "    \"\"\" Please write a program using generator to print the even numbers between 0 and n in comma\n",
    "separated form while n is input by console.\"\"\"\n",
    "    \n",
    "    l=[]\n",
    "    for i in range(n+1):\n",
    "        if i%2==0:\n",
    "            l.append(str(i))\n",
    "    return (\",\".join(l))\n",
    "\n",
    "\n"
   ]
  },
  {
   "cell_type": "code",
   "execution_count": 8,
   "id": "bd628d8c-5a53-46c9-95e5-01d09295d42b",
   "metadata": {},
   "outputs": [
    {
     "data": {
      "text/plain": [
       "'0,2,4,6,8,10'"
      ]
     },
     "execution_count": 8,
     "metadata": {},
     "output_type": "execute_result"
    }
   ],
   "source": [
    "NumGenerator(10)"
   ]
  },
  {
   "cell_type": "raw",
   "id": "76950cc1-9a24-4dc5-b200-33ec2f79d478",
   "metadata": {},
   "source": [
    "Question 3:\n",
    "The Fibonacci Sequence is computed based on the following formula:\n",
    "f(n)=0 if n=0\n",
    "f(n)=1 if n=1\n",
    "f(n)=f(n-1)+f(n-2) if n\"1\n",
    "Please write a program using list comprehension to print the Fibonacci Sequence in comma\n",
    "separated form with a given n input by console.\n",
    "Example:\n",
    "If the following n is given as input to the program:\n",
    "7\n",
    "Then, the output of the program should be:\n",
    "0,1,1,2,3,5,8,13"
   ]
  },
  {
   "cell_type": "code",
   "execution_count": 4,
   "id": "2c3dd68f-d6bc-4748-91c5-b834ebcf4961",
   "metadata": {},
   "outputs": [
    {
     "ename": "NameError",
     "evalue": "name 'n' is not defined",
     "output_type": "error",
     "traceback": [
      "\u001b[0;31m---------------------------------------------------------------------------\u001b[0m",
      "\u001b[0;31mNameError\u001b[0m                                 Traceback (most recent call last)",
      "Input \u001b[0;32mIn [4]\u001b[0m, in \u001b[0;36m<cell line: 8>\u001b[0;34m()\u001b[0m\n\u001b[1;32m      5\u001b[0m         \u001b[38;5;28;01mreturn\u001b[39;00m \u001b[38;5;241m0\u001b[39m\n\u001b[1;32m      6\u001b[0m     \u001b[38;5;28;01melse\u001b[39;00m:\u001b[38;5;28;01mreturn\u001b[39;00m f(n\u001b[38;5;241m-\u001b[39m\u001b[38;5;241m1\u001b[39m)\u001b[38;5;241m+\u001b[39mf(n\u001b[38;5;241m-\u001b[39m\u001b[38;5;241m2\u001b[39m)\n\u001b[0;32m----> 8\u001b[0m values\u001b[38;5;241m=\u001b[39m[\u001b[38;5;28mstr\u001b[39m(f(x)) \u001b[38;5;28;01mfor\u001b[39;00m x \u001b[38;5;129;01min\u001b[39;00m \u001b[38;5;28mrange\u001b[39m(\u001b[38;5;241m0\u001b[39m,\u001b[43mn\u001b[49m\u001b[38;5;241m+\u001b[39m\u001b[38;5;241m1\u001b[39m)]\n\u001b[1;32m      9\u001b[0m \u001b[38;5;28mprint\u001b[39m(\u001b[38;5;124m\"\u001b[39m\u001b[38;5;124m,\u001b[39m\u001b[38;5;124m\"\u001b[39m\u001b[38;5;241m.\u001b[39mjoin(values))\n",
      "\u001b[0;31mNameError\u001b[0m: name 'n' is not defined"
     ]
    }
   ],
   "source": [
    "def f(n):\n",
    "    if n==1:\n",
    "        return 1\n",
    "    elif n==0:\n",
    "        return 0\n",
    "    else:return f(n-1)+f(n-2)\n",
    "n=int(input(\"\"))\n",
    "values=[str(f(x)) for x in range(0,n+1)]\n",
    "print(\",\".join(values))"
   ]
  },
  {
   "cell_type": "code",
   "execution_count": null,
   "id": "2aa29ba0-7a74-405f-92ac-3d54881a8f63",
   "metadata": {},
   "outputs": [],
   "source": [
    "def f(n):    \n",
    "    if n == 0: \n",
    "            return 0    \n",
    "    elif n == 1: \n",
    "            return 1\n",
    "    else: \n",
    "            return f(n-1)+f(n-2)\n",
    "n=int(raw_input()) \n",
    "values = [str(f(x)) for x in range(0, n+1)] \n",
    "print \",\".join(values)"
   ]
  },
  {
   "cell_type": "code",
   "execution_count": null,
   "id": "cc53bc59-2c4c-43f5-80f2-5cdf5737347f",
   "metadata": {},
   "outputs": [],
   "source": []
  },
  {
   "cell_type": "code",
   "execution_count": 15,
   "id": "ded45e2c-0e55-4583-8d0c-fe67867559f6",
   "metadata": {},
   "outputs": [
    {
     "name": "stdout",
     "output_type": "stream",
     "text": [
      "[1, 3, 5, 7, 9]\n"
     ]
    }
   ],
   "source": [
    "result=[]\n",
    "n=6\n",
    "l=[result.append(i+(i-1)) for i in range(1,n) ]\n",
    "print(result)"
   ]
  },
  {
   "cell_type": "code",
   "execution_count": null,
   "id": "e5df7a2c-b286-4df7-a2f4-fe3d07ea0ba0",
   "metadata": {},
   "outputs": [],
   "source": [
    "Question 4:\n",
    "Assuming that we have some email addresses in the \"username@companyname.com\" format,\n",
    "please write program to print the user name of a given email address. Both user names and\n",
    "company names are composed of letters only.\n",
    "Example:\n",
    "If the following email address is given as input to the program:\n",
    "john@google.com\n",
    "Then, the output of the program should be:\n",
    "john"
   ]
  },
  {
   "cell_type": "code",
   "execution_count": 16,
   "id": "b8fcde40-001d-4423-ba84-a71c146aa0ee",
   "metadata": {},
   "outputs": [
    {
     "name": "stdout",
     "output_type": "stream",
     "text": [
      "john\n"
     ]
    }
   ],
   "source": [
    "username=\"john@google.com\"\n",
    "output=\"\"\n",
    "for i in username:\n",
    "    if i!=\"@\":\n",
    "        output+=i\n",
    "    else:\n",
    "        break\n",
    "    \n",
    "print(output)\n",
    "    \n",
    "    \n"
   ]
  },
  {
   "cell_type": "raw",
   "id": "7e0c8b24-fa51-48c9-97da-f2d99fe9daaa",
   "metadata": {},
   "source": [
    "Question 5:\n",
    "Define a class named Shape and its subclass Square. The Square class has an init function\n",
    "which takes a length as argument. Both classes have a area function which can print the area\n",
    "of the shape where Shape's area is 0 by default."
   ]
  },
  {
   "cell_type": "code",
   "execution_count": 8,
   "id": "8884d43b-fb02-4578-8993-21b17193e7e7",
   "metadata": {},
   "outputs": [
    {
     "name": "stdout",
     "output_type": "stream",
     "text": [
      "16\n"
     ]
    }
   ],
   "source": [
    "class Shape():\n",
    "    def __init__(self):\n",
    "        pass\n",
    "    def area(self):\n",
    "        return 0\n",
    "class Square(Shape):\n",
    "    def __init__(self,length):\n",
    "        self.length=length\n",
    "    def area(self):\n",
    "        return self.length*self.length\n",
    "rohit=Square(4)\n",
    "print(rohit.area())\n",
    "\n",
    "            \n",
    "        \n",
    "    "
   ]
  },
  {
   "cell_type": "code",
   "execution_count": null,
   "id": "c9943fbe-3db0-424c-ace9-90f98c90682e",
   "metadata": {},
   "outputs": [],
   "source": []
  },
  {
   "cell_type": "code",
   "execution_count": null,
   "id": "ed9ba2c1-c2b3-4eda-9c8e-f739fc6443d1",
   "metadata": {},
   "outputs": [],
   "source": []
  }
 ],
 "metadata": {
  "kernelspec": {
   "display_name": "Python 3 (ipykernel)",
   "language": "python",
   "name": "python3"
  },
  "language_info": {
   "codemirror_mode": {
    "name": "ipython",
    "version": 3
   },
   "file_extension": ".py",
   "mimetype": "text/x-python",
   "name": "python",
   "nbconvert_exporter": "python",
   "pygments_lexer": "ipython3",
   "version": "3.9.12"
  }
 },
 "nbformat": 4,
 "nbformat_minor": 5
}
