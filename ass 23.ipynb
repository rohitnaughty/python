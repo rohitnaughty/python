{
 "cells": [
  {
   "cell_type": "raw",
   "id": "1d9bdce0-ac2e-47cf-9246-94e591ac8ad9",
   "metadata": {},
   "source": [
    "Question 1\n",
    "Create a function that takes a number as an argument and returns True or False depending\n",
    "on whether the number is symmetrical or not. A number is symmetrical when it is the same as\n",
    "its reverse.\n",
    "Examples\n",
    "is_symmetrical(7227) ➞ True\n",
    "is_symmetrical(12567) ➞ False\n",
    "is_symmetrical(44444444) ➞ True\n",
    "is_symmetrical(9939) ➞ False\n",
    "is_symmetrical(1112111) ➞ True"
   ]
  },
  {
   "cell_type": "code",
   "execution_count": 24,
   "id": "10927477-c6bf-46ea-928a-28b2c8fb608d",
   "metadata": {},
   "outputs": [
    {
     "data": {
      "text/plain": [
       "True"
      ]
     },
     "execution_count": 24,
     "metadata": {},
     "output_type": "execute_result"
    }
   ],
   "source": [
    "def is_symetrical(num):\n",
    "    \"\"\" whether the number is symmetrical or not\n",
    "    A number is symmetrical when it is the same as\n",
    "    its reverse.\"\"\"\n",
    "    str_form=str(num)\n",
    "    reverse_str=str_form[::-1]\n",
    "    reverse_no=int(reverse_str)\n",
    "    return num==reverse_no\n",
    "is_symetrical(1112111)"
   ]
  },
  {
   "cell_type": "raw",
   "id": "d0ad38c9-9103-44c9-9c97-f5d659c9caea",
   "metadata": {},
   "source": [
    "Question 2\n",
    "Given a string of numbers separated by a comma and space, return the product of the\n",
    "numbers.\n",
    "Examples\n",
    "multiply_nums(\"2, 3\") ➞ 6\n",
    "multiply_nums(\"1, 2, 3, 4\") ➞ 24\n",
    "multiply_nums(\"54, 75, 453, 0\") ➞ 0\n",
    "multiply_nums(\"10, -2\") ➞ -20"
   ]
  },
  {
   "cell_type": "code",
   "execution_count": 14,
   "id": "9087829f-bfff-4a24-9eb7-6d0ee4ced347",
   "metadata": {},
   "outputs": [
    {
     "data": {
      "text/plain": [
       "-20"
      ]
     },
     "execution_count": 14,
     "metadata": {},
     "output_type": "execute_result"
    }
   ],
   "source": [
    "def multiply_nums(string):\n",
    "    \"\"\" return the product of the\n",
    "numbers \"\"\"\n",
    "    l=string.split(\",\")\n",
    "    outcome=1\n",
    "    for i in l:\n",
    "        outcome*=int(i)\n",
    "    return outcome\n",
    "multiply_nums(\"10, -2\")\n",
    "        "
   ]
  },
  {
   "cell_type": "raw",
   "id": "32eb1e05-5657-42c9-bf66-d525e3fa68d9",
   "metadata": {},
   "source": [
    "Question 3\n",
    "Create a function that squares every digit of a number.\n",
    "Examples\n",
    "square_digits(9119) ➞ 811181\n",
    "square_digits(2483) ➞ 416649\n",
    "square_digits(3212) ➞ 9414\n",
    "Notes\n",
    "The function receives an integer and must return an integer."
   ]
  },
  {
   "cell_type": "code",
   "execution_count": 40,
   "id": "6c830b3a-9eb4-4dfe-8a32-e174ee0a9209",
   "metadata": {},
   "outputs": [],
   "source": [
    "def square_digits(num):\n",
    "    l=[]\n",
    "    m=[]\n",
    "    Result=\"\"\n",
    "    string_form_of_num=str(num)#\"9119\"\n",
    "    # here we converted integer input into string\n",
    "    for i in string_form_of_num:\n",
    "        l.append(int(i)**2)#l=[81,1,1,81]\n",
    "    #we apply square operation in string form of input\n",
    "    for j in l:\n",
    "        m.append(str(j))# m=[\"81\",\"1\",\"1\",\"81\"]\n",
    "    for k in m:\n",
    "        Result+=k\n",
    "    finalresult=int(Result)\n",
    "    return finalre\n",
    "square_digits(9119) \n",
    "    "
   ]
  },
  {
   "cell_type": "code",
   "execution_count": 41,
   "id": "a310f176-3eee-499e-b636-bb5682c3d635",
   "metadata": {},
   "outputs": [
    {
     "data": {
      "text/plain": [
       "'nautiyal'"
      ]
     },
     "execution_count": 41,
     "metadata": {},
     "output_type": "execute_result"
    }
   ],
   "source": []
  },
  {
   "cell_type": "raw",
   "id": "524a613c-2f27-4d9f-999c-673bddaf242d",
   "metadata": {},
   "source": [
    "Question 4\n",
    "Create a function that sorts a list and removes all duplicate items from it.\n",
    "Examples\n",
    "setify([1, 3, 3, 5, 5]) ➞ [1, 3, 5]\n",
    "setify([4, 4, 4, 4]) ➞ [4]\n",
    "setify([5, 7, 8, 9, 10, 15]) ➞ [5, 7, 8, 9, 10, 15]\n",
    "setify([3, 3, 3, 2, 1]) ➞ [1, 2, 3]"
   ]
  },
  {
   "cell_type": "code",
   "execution_count": 16,
   "id": "e6db9225-bbd8-4514-8ab1-d25d27758d8a",
   "metadata": {},
   "outputs": [
    {
     "data": {
      "text/plain": [
       "[5, 7, 8, 9, 10, 15]"
      ]
     },
     "execution_count": 16,
     "metadata": {},
     "output_type": "execute_result"
    }
   ],
   "source": [
    "def setify(l):\n",
    "    \"\"\" sorts a list and removes all duplicate items from it\"\"\"\n",
    "    Set=set(l)\n",
    "    return list(Set)\n",
    "setify([5, 7, 8, 9, 10, 15])"
   ]
  },
  {
   "cell_type": "raw",
   "id": "fc0d92b3-129b-4ee7-95ce-630e385ce64d",
   "metadata": {},
   "source": [
    "Question 5\n",
    "Create a function that returns the mean of all digits.\n",
    "Examples\n",
    "mean(42) ➞ 3\n",
    "mean(12345) ➞ 3\n",
    "mean(666) ➞ 6\n",
    "Notes\n",
    " The mean of all digits is the sum of digits / how many digits there are (e.g. mean of digits in\n",
    "512 is (5+1+2)/3(number of digits) = 8/3=2).\n",
    " The mean will always be an integer."
   ]
  },
  {
   "cell_type": "code",
   "execution_count": 23,
   "id": "b8b557b9-cd36-437d-b909-5e9c1fb60889",
   "metadata": {},
   "outputs": [
    {
     "data": {
      "text/plain": [
       "2"
      ]
     },
     "execution_count": 23,
     "metadata": {},
     "output_type": "execute_result"
    }
   ],
   "source": [
    "def mean(n):\n",
    "    \"\"\"returns the mean of all digits. \"\"\"\n",
    "    in_stringform=str(n)\n",
    "    denominator=len(in_stringform)\n",
    "    Sum=0\n",
    "    for i in in_stringform:\n",
    "        Sum+=int(i)\n",
    "    Mean=(Sum/denominator)\n",
    "    return int(Mean)\n",
    "mean(512)"
   ]
  },
  {
   "cell_type": "code",
   "execution_count": null,
   "id": "67f097c5-9278-449e-9906-88559303b482",
   "metadata": {},
   "outputs": [],
   "source": []
  }
 ],
 "metadata": {
  "kernelspec": {
   "display_name": "Python 3 (ipykernel)",
   "language": "python",
   "name": "python3"
  },
  "language_info": {
   "codemirror_mode": {
    "name": "ipython",
    "version": 3
   },
   "file_extension": ".py",
   "mimetype": "text/x-python",
   "name": "python",
   "nbconvert_exporter": "python",
   "pygments_lexer": "ipython3",
   "version": "3.9.12"
  }
 },
 "nbformat": 4,
 "nbformat_minor": 5
}
