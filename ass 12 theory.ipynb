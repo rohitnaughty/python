{
 "cells": [
  {
   "cell_type": "markdown",
   "id": "62981db8-63fb-4abc-9896-63ec977f5c58",
   "metadata": {},
   "source": [
    "1. In what modes should the PdfFileReader() and PdfFileWriter() File objects will be opened?\n"
   ]
  },
  {
   "cell_type": "raw",
   "id": "a14f15fe-f356-4fd3-80e8-2151b366ac25",
   "metadata": {},
   "source": [
    "These files will be opened in binary mode., read binary (rb) for PdfFileReader() and write (wb) PdfFileWriter() "
   ]
  },
  {
   "cell_type": "code",
   "execution_count": 1,
   "id": "3d8c0faf-dbfe-478d-8cc2-f6ac4c2baaea",
   "metadata": {},
   "outputs": [
    {
     "name": "stdout",
     "output_type": "stream",
     "text": [
      "Defaulting to user installation because normal site-packages is not writeable\n",
      "Collecting pyPDF2\n",
      "  Downloading PyPDF2-2.11.1-py3-none-any.whl (220 kB)\n",
      "\u001b[K     |████████████████████████████████| 220 kB 38.4 MB/s eta 0:00:01\n",
      "\u001b[?25hRequirement already satisfied: typing-extensions>=3.10.0.0 in /opt/anaconda3/lib/python3.9/site-packages (from pyPDF2) (4.3.0)\n",
      "Installing collected packages: pyPDF2\n",
      "Successfully installed pyPDF2-2.11.1\n",
      "Note: you may need to restart the kernel to use updated packages.\n"
     ]
    }
   ],
   "source": [
    "pip install pyPDF2"
   ]
  },
  {
   "cell_type": "markdown",
   "id": "b32c5547-d21e-4822-9524-5f32c0fd161a",
   "metadata": {},
   "source": [
    "2. From a PdfFileReader object, how do you get a Page object for page 5?\n"
   ]
  },
  {
   "cell_type": "raw",
   "id": "32c92ace-cf45-44d9-9f4b-e758395b1468",
   "metadata": {},
   "source": [
    "Calling getPage(4) will return a Page object for page 5 since page 0 is the first page."
   ]
  },
  {
   "cell_type": "code",
   "execution_count": 8,
   "id": "52f33716-0f18-4004-864c-ec7115cda97c",
   "metadata": {},
   "outputs": [],
   "source": [
    "#import pyPDF2 as pdf\n",
    "#pdfFileObj=open(\"meetingminutes.pdf\",\"rb\")\n",
    "#pdfReader =pdf.PdfFileReader(pdfFileObj)\n",
    "#pageObj=pdfreader.getPage(4)\n",
    "#pageObj.extractText()"
   ]
  },
  {
   "cell_type": "markdown",
   "id": "9d95ee61-33df-444b-a241-6acd8bd1c225",
   "metadata": {},
   "source": [
    "3. What PdfFileReader variable stores the number of pages in the PDF document?\n"
   ]
  },
  {
   "cell_type": "raw",
   "id": "6927516d-afb1-48b4-80b2-879e8fb3a5cd",
   "metadata": {},
   "source": [
    "The PdfFileReader.nimPages variable stores an integer of the number of pages in the PdfFileReader object\n"
   ]
  },
  {
   "cell_type": "code",
   "execution_count": 6,
   "id": "d2763d33-ba3b-4edc-b6b0-df634932f1d9",
   "metadata": {},
   "outputs": [],
   "source": [
    "#import PyPDF2 as pdf\n",
    "#pdfFileObj=open(\"mettingminutes.pdf\",\"rb\")\n",
    "#pdfReader=pdf.PdfFileReader(pdfFileObj)\n",
    "#pdfReader.numPages"
   ]
  },
  {
   "cell_type": "markdown",
   "id": "24b8c44e-c51e-43ee-b5c9-df56d26087d5",
   "metadata": {},
   "source": [
    "4. If a PdfFileReader object’s PDF is encrypted with the password swordfish, what must you do\n",
    "before you can obtain Page objects from it?\n"
   ]
  },
  {
   "cell_type": "raw",
   "id": "6cb16f2a-9e68-45eb-b281-6c581dc4885c",
   "metadata": {},
   "source": [
    "before we obtain the page object, the pdf has to be decrypted by calling .decrypt(\"swordfish\")\n"
   ]
  },
  {
   "cell_type": "code",
   "execution_count": null,
   "id": "59208ed9-1c2b-4fb7-9b88-62184609cbca",
   "metadata": {},
   "outputs": [],
   "source": [
    "#pdfReader.decrypt(\"swordfish\")"
   ]
  },
  {
   "cell_type": "markdown",
   "id": "29278075-25df-4390-922f-b6d3d2c24088",
   "metadata": {},
   "source": [
    "5. What methods do you use to rotate a page?\n"
   ]
  },
  {
   "cell_type": "raw",
   "id": "1b37948b-27c7-4e56-b0ee-0c5b51a4c165",
   "metadata": {},
   "source": [
    "The rotatedclockwise() and rotateCounterClockwise() methods.The degrees to rotate is passed as an integer argument"
   ]
  },
  {
   "cell_type": "code",
   "execution_count": 9,
   "id": "51b0dff0-a5c4-4f57-8b0d-8df9810bf431",
   "metadata": {},
   "outputs": [],
   "source": [
    "#pageObj.rotateClockwise(180)"
   ]
  },
  {
   "cell_type": "markdown",
   "id": "99719ba5-b7aa-49dc-ab06-2e2c8cc9a6f6",
   "metadata": {},
   "source": [
    "6. What is the difference between a Run object and a Paragraph object?\n"
   ]
  },
  {
   "cell_type": "raw",
   "id": "cf2741f7-8aee-45b7-a7c5-23d3cb7dbbd8",
   "metadata": {},
   "source": [
    "Paragraph Object : A document contains multiple paragraphs.A paragraph begins on a new and contains multiple runs.\n",
    "\n",
    "The Document object contains a list of paragraph objects for the paragraphs in the document.(A new paragraph begins whenever the user press ENTER and RETURN while typing in a Word document.)\n",
    "\n",
    "Run objects :\n",
    "Runs are contiguous group of character within a paragraph with the same style"
   ]
  },
  {
   "cell_type": "markdown",
   "id": "ab567eb9-cc6b-43f6-80b9-56947c151521",
   "metadata": {},
   "source": [
    "7. How do you obtain a list of Paragraph objects for a Document object that’s stored in a variable\n",
    "named doc?\n"
   ]
  },
  {
   "cell_type": "code",
   "execution_count": null,
   "id": "c57cb290-fddf-4dcb-8a3d-c82f8791d690",
   "metadata": {},
   "outputs": [],
   "source": [
    "By using doc.paragraphs\n"
   ]
  },
  {
   "cell_type": "raw",
   "id": "c66d0f45-ea16-4b7d-9199-1205143e3c38",
   "metadata": {},
   "source": [
    "#pip install python-docx\n",
    "import docx\n",
    "doc =docx.Document(\"demo.dcox\")\n",
    "doc.paragraphs"
   ]
  },
  {
   "cell_type": "markdown",
   "id": "2443d8bf-46e3-497b-b3da-0f2287bbe59a",
   "metadata": {},
   "source": [
    "8. What type of object has bold, underline, italic, strike, and outline variables?\n"
   ]
  },
  {
   "cell_type": "raw",
   "id": "54e3cdac-e2bb-4be6-95cd-57fb6514e948",
   "metadata": {},
   "source": [
    "A Run object has bold, underline, italic,strike and outline variables"
   ]
  },
  {
   "cell_type": "markdown",
   "id": "1f936dcb-a21b-48de-ae85-21357a14bdc8",
   "metadata": {},
   "source": [
    "9. What is the difference between False, True, and None for the bold variable?\n"
   ]
  },
  {
   "cell_type": "raw",
   "id": "8f3faa1c-dbfe-441f-9039-f83bb5fb3996",
   "metadata": {},
   "source": [
    "Runs can be further styles using text attributes .Each attribute can be set to on eof three values:\n",
    "True (the attribute is always enabled, no matter what other styles are applied to the run  ),\n",
    "False (the attribute is always disabled),\n",
    "None (defaults to whatever the run's style is set to )\n",
    "\n",
    "True always makes the Run object bolded and False makes it always not bolded, no matter what the style's bold setting\n",
    "is. None will make the Run object just use the style's bold setting"
   ]
  },
  {
   "cell_type": "markdown",
   "id": "a6e346ed-adb8-4e42-b212-b4254a6dcac2",
   "metadata": {},
   "source": [
    "10. How do you create a Document object for a new Word document?\n"
   ]
  },
  {
   "cell_type": "raw",
   "id": "27784137-aaa4-4ae8-8dce-44c4ade0a34b",
   "metadata": {},
   "source": [
    "By Calling the docx.Document() function."
   ]
  },
  {
   "cell_type": "markdown",
   "id": "2fce5144-ea9e-4776-b1cd-e83d23c3a700",
   "metadata": {},
   "source": [
    "11. How do you add a paragraph with the text &#39;Hello, there!&#39; to a Document object stored in a\n",
    "variable named doc?\n"
   ]
  },
  {
   "cell_type": "code",
   "execution_count": null,
   "id": "69fefeca-6d82-4531-a81c-563c8855bb48",
   "metadata": {},
   "outputs": [],
   "source": [
    "import docx\n",
    "doc= docx.Document()\n",
    "\n",
    "doc.add_paragraph(\"Hello there!\")\n",
    "doc.save(\"hellothere.docx\")"
   ]
  },
  {
   "cell_type": "markdown",
   "id": "0b93bc1a-9efd-479b-8b57-e5f27acb7130",
   "metadata": {},
   "source": [
    "12. What integers represent the levels of headings available in Word documents?"
   ]
  },
  {
   "cell_type": "raw",
   "id": "b567a793-7453-4dcf-a6c0-ab2df089786d",
   "metadata": {},
   "source": [
    "integer from 0 to 4\n",
    "\n",
    "The arguments to add_heading() are a string of the heading text and an integer from 0 to 4. The integer 0 makes the heading the Title style, which is used for the top of the document . Integers 1 to 4 are for various heading levels, with 1 being the main heading and 4 the lowest subheading "
   ]
  },
  {
   "cell_type": "code",
   "execution_count": null,
   "id": "c0102ce4-4635-40ad-806f-547565cb2c5e",
   "metadata": {},
   "outputs": [],
   "source": []
  },
  {
   "cell_type": "code",
   "execution_count": null,
   "id": "53afbe9e-65ea-4200-9169-73158d313439",
   "metadata": {},
   "outputs": [],
   "source": []
  },
  {
   "cell_type": "code",
   "execution_count": null,
   "id": "be1318a8-d739-4327-b47e-cdb4fd4cb92e",
   "metadata": {},
   "outputs": [],
   "source": []
  },
  {
   "cell_type": "code",
   "execution_count": null,
   "id": "5fe67e40-c5ec-428c-8742-1ed488a0d189",
   "metadata": {},
   "outputs": [],
   "source": []
  },
  {
   "cell_type": "code",
   "execution_count": null,
   "id": "8a95ab11-74e8-405b-901b-48fde1812272",
   "metadata": {},
   "outputs": [],
   "source": []
  },
  {
   "cell_type": "code",
   "execution_count": null,
   "id": "709066c1-4493-457f-9835-2a0cf3678ec1",
   "metadata": {},
   "outputs": [],
   "source": []
  },
  {
   "cell_type": "code",
   "execution_count": null,
   "id": "9f309a4e-8732-49c3-bd74-e9ef4ae512ee",
   "metadata": {},
   "outputs": [],
   "source": []
  },
  {
   "cell_type": "code",
   "execution_count": null,
   "id": "b4d0cd8b-7832-4e9b-a6ed-cc0bc8372965",
   "metadata": {},
   "outputs": [],
   "source": []
  },
  {
   "cell_type": "code",
   "execution_count": null,
   "id": "0bbcd3a0-a263-4596-87f3-38a9ed371eec",
   "metadata": {},
   "outputs": [],
   "source": []
  },
  {
   "cell_type": "code",
   "execution_count": null,
   "id": "7a38b1b7-1769-4804-8336-3466e413daf4",
   "metadata": {},
   "outputs": [],
   "source": []
  },
  {
   "cell_type": "code",
   "execution_count": null,
   "id": "083a22db-9d00-4cca-9b2c-bf98950ee54d",
   "metadata": {},
   "outputs": [],
   "source": []
  },
  {
   "cell_type": "code",
   "execution_count": null,
   "id": "039e90c4-3c23-4c45-98db-f4a09d1fdb47",
   "metadata": {},
   "outputs": [],
   "source": []
  },
  {
   "cell_type": "code",
   "execution_count": null,
   "id": "da078ad4-f779-42b6-a3c2-7fc441a0dcb5",
   "metadata": {},
   "outputs": [],
   "source": []
  },
  {
   "cell_type": "code",
   "execution_count": null,
   "id": "805bcfa4-3ebb-4ade-a6ad-20bd06651ff9",
   "metadata": {},
   "outputs": [],
   "source": []
  },
  {
   "cell_type": "code",
   "execution_count": null,
   "id": "a3c075a6-ae96-4395-9549-de21278d437d",
   "metadata": {},
   "outputs": [],
   "source": []
  },
  {
   "cell_type": "code",
   "execution_count": null,
   "id": "057165a1-88cb-4037-8458-d4b4bdf7679f",
   "metadata": {},
   "outputs": [],
   "source": []
  },
  {
   "cell_type": "code",
   "execution_count": null,
   "id": "43d80b49-121e-4255-bee4-e46539ac6938",
   "metadata": {},
   "outputs": [],
   "source": []
  },
  {
   "cell_type": "code",
   "execution_count": null,
   "id": "31935022-8284-4534-93a7-02d86a0d8884",
   "metadata": {},
   "outputs": [],
   "source": []
  },
  {
   "cell_type": "code",
   "execution_count": null,
   "id": "2b067914-5857-417c-9e74-ad3c2e4759d3",
   "metadata": {},
   "outputs": [],
   "source": []
  },
  {
   "cell_type": "code",
   "execution_count": null,
   "id": "52cef349-260d-4402-b7e1-0b12e424eaee",
   "metadata": {},
   "outputs": [],
   "source": []
  },
  {
   "cell_type": "code",
   "execution_count": null,
   "id": "f8b24fc0-d696-4aab-ac87-10cc8a0f40c6",
   "metadata": {},
   "outputs": [],
   "source": []
  },
  {
   "cell_type": "code",
   "execution_count": null,
   "id": "5f87d5df-054b-4566-ae18-cb4b387198fc",
   "metadata": {},
   "outputs": [],
   "source": []
  },
  {
   "cell_type": "code",
   "execution_count": null,
   "id": "ad907bca-e4de-44ca-b135-ddc582c7c80a",
   "metadata": {},
   "outputs": [],
   "source": []
  },
  {
   "cell_type": "code",
   "execution_count": null,
   "id": "f4e9d13e-c981-4fd3-baf4-bf946e07a5b0",
   "metadata": {},
   "outputs": [],
   "source": []
  },
  {
   "cell_type": "code",
   "execution_count": null,
   "id": "2af5ab03-b3bd-48e8-bcc2-51195453b386",
   "metadata": {},
   "outputs": [],
   "source": []
  },
  {
   "cell_type": "code",
   "execution_count": null,
   "id": "5055e3a3-8389-46b2-a38a-a8faf8db61d6",
   "metadata": {},
   "outputs": [],
   "source": []
  },
  {
   "cell_type": "code",
   "execution_count": null,
   "id": "f626b065-799b-4bff-9aea-a353b4816c33",
   "metadata": {},
   "outputs": [],
   "source": []
  },
  {
   "cell_type": "code",
   "execution_count": null,
   "id": "c785eb1d-616d-4873-bb59-f33c253d9772",
   "metadata": {},
   "outputs": [],
   "source": []
  },
  {
   "cell_type": "code",
   "execution_count": null,
   "id": "92f1eb9d-26d9-41f5-83fe-4617763fea74",
   "metadata": {},
   "outputs": [],
   "source": []
  },
  {
   "cell_type": "code",
   "execution_count": null,
   "id": "f8c4d281-293d-45ef-b0ff-539f55a4d35c",
   "metadata": {},
   "outputs": [],
   "source": []
  }
 ],
 "metadata": {
  "kernelspec": {
   "display_name": "Python 3 (ipykernel)",
   "language": "python",
   "name": "python3"
  },
  "language_info": {
   "codemirror_mode": {
    "name": "ipython",
    "version": 3
   },
   "file_extension": ".py",
   "mimetype": "text/x-python",
   "name": "python",
   "nbconvert_exporter": "python",
   "pygments_lexer": "ipython3",
   "version": "3.9.12"
  }
 },
 "nbformat": 4,
 "nbformat_minor": 5
}
