{
 "cells": [
  {
   "cell_type": "markdown",
   "id": "348fa594-99ed-4a60-8d27-7145fbbb4756",
   "metadata": {},
   "source": [
    "1 Write a Python program to find words which are greater than given length k?"
   ]
  },
  {
   "cell_type": "code",
   "execution_count": null,
   "id": "301df29f-9a8a-4ee9-aa41-de4e4ef6e65c",
   "metadata": {},
   "outputs": [
    {
     "name": "stdin",
     "output_type": "stream",
     "text": [
      "enter a word rohit\n",
      "enter a value of k 5\n"
     ]
    },
    {
     "name": "stdout",
     "output_type": "stream",
     "text": [
      "equal\n"
     ]
    }
   ],
   "source": [
    "word =input(\"enter a word\")\n",
    "k=int(input(\"enter a value of k\"))\n",
    "num=0\n",
    "for i in word:\n",
    "    num+=1\n",
    "if num>k:\n",
    "    print(\"word is grater than k\")\n",
    "elif num==k:\n",
    "    print(\"equal\")\n",
    "else:\n",
    "    print(\"less\")\n",
    "    "
   ]
  },
  {
   "cell_type": "markdown",
   "id": "c7803aa1-01e8-4a93-9b1d-6ee24a51f78a",
   "metadata": {},
   "source": [
    "2 Write a Python program for removing i-th character from a string?\n"
   ]
  },
  {
   "cell_type": "code",
   "execution_count": 7,
   "id": "3d64b124-8486-4df5-a7b8-550908253d9b",
   "metadata": {},
   "outputs": [
    {
     "name": "stdin",
     "output_type": "stream",
     "text": [
      "enter a string wrhi\n",
      "enter a ith position 2\n"
     ]
    },
    {
     "name": "stdout",
     "output_type": "stream",
     "text": [
      "whi\n"
     ]
    }
   ],
   "source": [
    "string=input(\"enter a string\")\n",
    "i=int(input(\"enter a ith position\"))\n",
    "print(string[0:i-1]+string[i:len(string)])"
   ]
  },
  {
   "cell_type": "markdown",
   "id": "2820f21c-f42b-45bb-b60d-c5a23c4015d0",
   "metadata": {},
   "source": [
    "\n",
    "   2- Write a Python to check if a given string is binary string or not?"
   ]
  },
  {
   "cell_type": "code",
   "execution_count": 92,
   "id": "b0450405-9705-4991-82f1-a1dcbc787f4a",
   "metadata": {},
   "outputs": [],
   "source": [
    "def string(s):\n",
    "    \"\"\" check if a given string is binary string or not\"\"\"\n",
    "    p={'0','1'}\n",
    "    sting=set(s)\n",
    "    if sting==p or sting=={\"0\"} or sting=={\"1\"}:\n",
    "        print(\"yes\")\n",
    "    else:print( \"no\")\n",
    "    \n",
    "   \n",
    " \n",
    "        \n",
    "    \n"
   ]
  },
  {
   "cell_type": "code",
   "execution_count": 6,
   "id": "ccbe8122-c23c-4ece-a4c1-f59dff3e1ac0",
   "metadata": {},
   "outputs": [
    {
     "name": "stdout",
     "output_type": "stream",
     "text": [
      "no\n"
     ]
    }
   ],
   "source": [
    "string(\"1010011asdf10010\")"
   ]
  },
  {
   "cell_type": "markdown",
   "id": "3d068d17-4839-4a48-8c96-be50bd95f5dc",
   "metadata": {},
   "source": [
    "7-Write a Python Program to check if a string contains any special character?"
   ]
  },
  {
   "cell_type": "code",
   "execution_count": 93,
   "id": "b3c28a79-127d-4785-bdfd-2c4d5acbfd35",
   "metadata": {},
   "outputs": [],
   "source": [
    "try:\n",
    "    \n",
    "    def specialchar(n):\n",
    "        \"\"\" check if a string contains any special character\"\"\"\n",
    "        c=0\n",
    "        s='[@_!#$%^&*()<>?/\\|}{~:]'\n",
    "        for i in range(len(n)):\n",
    "            if n[i] in s:\n",
    "                c+=1\n",
    "        if c==0:\n",
    "            return n,\"string has no special char\"\n",
    "        else:\n",
    "            return \"string has special char\"\n",
    "except:\n",
    "    print(\"invalid input \")\n",
    "\n",
    "\n",
    "\n"
   ]
  },
  {
   "cell_type": "code",
   "execution_count": 6,
   "id": "d5058d9a-5b5e-41cc-bba0-cbe4358f98b4",
   "metadata": {},
   "outputs": [
    {
     "data": {
      "text/plain": [
       "'string has special char'"
      ]
     },
     "execution_count": 6,
     "metadata": {},
     "output_type": "execute_result"
    }
   ],
   "source": [
    "specialchar(\"mkjhgf;'1++d@\")"
   ]
  },
  {
   "cell_type": "markdown",
   "id": "9b106f77-b5d9-4a9e-aee6-f0668f790fc5",
   "metadata": {},
   "source": [
    "6. Write a Python to find all duplicate characters in string?"
   ]
  },
  {
   "cell_type": "code",
   "execution_count": 50,
   "id": "8bf210a1-22ba-4137-b539-480c8c95c63d",
   "metadata": {},
   "outputs": [],
   "source": [
    "def duplicate(inp):\n",
    "    \"\"\"duplicate characters in string \"\"\"\n",
    "    l=[]\n",
    "    for i in inp:\n",
    "        if i not in l and inp.count(i)>1:\n",
    "            l.append(i)\n",
    "    return \" \".join(l)"
   ]
  },
  {
   "cell_type": "code",
   "execution_count": 52,
   "id": "70f6ca04-830c-46f5-bc31-8b09aa979eda",
   "metadata": {},
   "outputs": [
    {
     "data": {
      "text/plain": [
       "'n r a x'"
      ]
     },
     "execution_count": 52,
     "metadata": {},
     "output_type": "execute_result"
    }
   ],
   "source": [
    "duplicate(\"nnnnnrrra aaaxxq\")"
   ]
  },
  {
   "cell_type": "markdown",
   "id": "9a063a1e-ccff-49a9-81ab-dad247bd78d7",
   "metadata": {},
   "source": [
    "3. Write a Python program to split and join a string?\n",
    "    "
   ]
  },
  {
   "cell_type": "code",
   "execution_count": 95,
   "id": "65c91274-a649-49d4-9668-c35a79a5d320",
   "metadata": {},
   "outputs": [],
   "source": [
    "def split(inp):\n",
    "    \"\"\"  program to split\"\"\"\n",
    "    sp=inp.split(\" \")\n",
    "    return sp\n",
    "def join(inp):\n",
    "    \"\"\" Python program to join a string\"\"\"\n",
    "    jp=\"-\".join(split(inp))\n",
    "    return jp"
   ]
  },
  {
   "cell_type": "code",
   "execution_count": 66,
   "id": "883bd149-5bf9-41a2-8924-66db57efae4b",
   "metadata": {},
   "outputs": [
    {
     "data": {
      "text/plain": [
       "'my-name-is-rohit'"
      ]
     },
     "execution_count": 66,
     "metadata": {},
     "output_type": "execute_result"
    }
   ],
   "source": [
    "join(\"my name is rohit\")"
   ]
  },
  {
   "cell_type": "markdown",
   "id": "6f747012-3ab9-4bf4-bdc8-0ed9a82b13ae",
   "metadata": {},
   "source": [
    "5. Write a Python program to find uncommon words from two Strings?"
   ]
  },
  {
   "cell_type": "code",
   "execution_count": 86,
   "id": "aa6d3eaa-24f4-497a-95b7-f99e2bf728e9",
   "metadata": {},
   "outputs": [],
   "source": [
    "def uncommon(inp):\n",
    "    \"\"\"ind uncommon words from two Strings \"\"\"\n",
    "    l=[]\n",
    "    j=[]\n",
    "    for k in inp:\n",
    "        j.append(k)\n",
    "    for i in inp:\n",
    "        if i not in l and inp.count(i)>1:\n",
    "            j.remove(i)\n",
    "    return \" \".join(j)\n",
    "   \n",
    "            "
   ]
  },
  {
   "cell_type": "code",
   "execution_count": 89,
   "id": "058cba8e-36e6-4099-bf24-312ccf669fe2",
   "metadata": {},
   "outputs": [
    {
     "data": {
      "text/plain": [
       "'h i t'"
      ]
     },
     "execution_count": 91,
     "metadata": {},
     "output_type": "execute_result"
    }
   ],
   "source": [
    "uncommon(\"rooooohit  r\")"
   ]
  },
  {
   "cell_type": "code",
   "execution_count": null,
   "id": "ec5ff461-d22d-47b2-99b9-b8470401ca5f",
   "metadata": {},
   "outputs": [],
   "source": []
  },
  {
   "cell_type": "code",
   "execution_count": 76,
   "id": "0ae75971-9bca-4d1a-859e-c24b13130b2d",
   "metadata": {},
   "outputs": [],
   "source": []
  },
  {
   "cell_type": "code",
   "execution_count": null,
   "id": "0c367940-a3d1-4f03-af40-0524815ee2af",
   "metadata": {},
   "outputs": [],
   "source": []
  }
 ],
 "metadata": {
  "kernelspec": {
   "display_name": "Python 3 (ipykernel)",
   "language": "python",
   "name": "python3"
  },
  "language_info": {
   "codemirror_mode": {
    "name": "ipython",
    "version": 3
   },
   "file_extension": ".py",
   "mimetype": "text/x-python",
   "name": "python",
   "nbconvert_exporter": "python",
   "pygments_lexer": "ipython3",
   "version": "3.9.12"
  }
 },
 "nbformat": 4,
 "nbformat_minor": 5
}
