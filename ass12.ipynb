{
 "cells": [
  {
   "cell_type": "markdown",
   "id": "c60e9595-c392-47cb-add0-0d710252015f",
   "metadata": {},
   "source": [
    "1. Write a Python program to Extract Unique values dictionary values?\n",
    "2. Write a Python program to find the sum of all items in a dictionary?\n",
    "3. Write a Python program to Merging two Dictionaries?\n",
    "4. Write a Python program to convert key-values list to flat dictionary?\n",
    "5. Write a Python program to insertion at the beginning in OrderedDict?\n",
    "6. Write a Python program to check order of character in string using OrderedDict()?\n",
    "7. Write a Python program to sort Python Dictionaries by Key or Value?"
   ]
  },
  {
   "cell_type": "code",
   "execution_count": 42,
   "id": "855620d2-37eb-4498-91bc-fb85dd501122",
   "metadata": {},
   "outputs": [
    {
     "name": "stdout",
     "output_type": "stream",
     "text": [
      "[1, 2, 5, 6, 7, 8, 10, 11, 12]\n"
     ]
    }
   ],
   "source": [
    "n={'gfg' : [5, 6, 7, 8],\n",
    "             'is' : [10, 11, 7, 5],\n",
    "             'best' : [6, 12, 10, 8],\n",
    "             'for' : [1, 2, 5]}\n",
    "l=[]\n",
    "for i in n.keys():\n",
    "    l.extend(n[i])\n",
    "b=list(set(l))\n",
    "b.sort()\n",
    "print(str(b))"
   ]
  },
  {
   "cell_type": "markdown",
   "id": "59556726-4cea-4199-a775-fa3867767477",
   "metadata": {},
   "source": [
    "2. Write a Python program to find the sum of all items in a dictionary?"
   ]
  },
  {
   "cell_type": "code",
   "execution_count": 57,
   "id": "57c551c5-2abd-4969-8f23-a905a4896675",
   "metadata": {},
   "outputs": [],
   "source": [
    "def sum_item(dic):\n",
    "    \"\"\" sum of all items in a dictionary\"\"\"\n",
    "    l=[]\n",
    "    for i in dic:\n",
    "        l.append(dic[i])\n",
    "    result=sum(l)\n",
    "    return result"
   ]
  },
  {
   "cell_type": "code",
   "execution_count": 58,
   "id": "6ef32faf-41aa-4c33-9cfc-6ae035151117",
   "metadata": {},
   "outputs": [
    {
     "data": {
      "text/plain": [
       "300"
      ]
     },
     "execution_count": 58,
     "metadata": {},
     "output_type": "execute_result"
    }
   ],
   "source": [
    "n={\"a\":100,\"b\":200}\n",
    "\n",
    "sum_item(n)"
   ]
  },
  {
   "cell_type": "markdown",
   "id": "70bf0cd3-3cd2-4341-96b6-50ce800efac8",
   "metadata": {},
   "source": [
    "3. Write a Python program to Merging two Dictionaries?"
   ]
  },
  {
   "cell_type": "code",
   "execution_count": 3,
   "id": "2b78f764-2150-48fe-8b00-85efb8d9c495",
   "metadata": {},
   "outputs": [
    {
     "name": "stdout",
     "output_type": "stream",
     "text": [
      "{'gfg': [5, 6, 7, 8], 'is': [10, 11, 7, 5], 'best': [6, 12, 10, 8], 'for': [1, 2, 5], 'a': 100, 'b': 200}\n"
     ]
    }
   ],
   "source": [
    "n={\"a\":100,\"b\":200}\n",
    "m={'gfg' : [5, 6, 7, 8],\n",
    "             'is' : [10, 11, 7, 5],\n",
    "             'best' : [6, 12, 10, 8],\n",
    "             'for' : [1, 2, 5]}\n",
    "c=m|n\n",
    "print(c)"
   ]
  },
  {
   "cell_type": "markdown",
   "id": "d365f82d-0877-460c-b348-34187e5df4fe",
   "metadata": {},
   "source": [
    "4 - Write a Python program to convert key-values list to flat dictionary?"
   ]
  },
  {
   "cell_type": "code",
   "execution_count": 17,
   "id": "fd3b7b97-b21c-4529-92c0-d3b1878889ab",
   "metadata": {},
   "outputs": [
    {
     "name": "stdout",
     "output_type": "stream",
     "text": [
      "{1: 'Jan', 2: 'Feb', 3: 'March'}\n"
     ]
    }
   ],
   "source": [
    "test = {'month' : [1, 2, 3],\n",
    "            'name' : ['Jan', 'Feb', 'March']}\n",
    "x=list(test.values())\n",
    "a=x[0]\n",
    "b=x[1]\n",
    "d=dict()\n",
    "for i in range(0,len(a)):\n",
    "    d[a[i]]=b[i]\n",
    "print(d)"
   ]
  },
  {
   "cell_type": "markdown",
   "id": "dc7515b0-5be5-4b7c-ab18-d7179e3196ee",
   "metadata": {},
   "source": [
    "5-Write a Python program to insertion at the beginning in OrderedDict?"
   ]
  },
  {
   "cell_type": "code",
   "execution_count": 24,
   "id": "f12db531-168e-4426-ba16-39c10342e6f0",
   "metadata": {},
   "outputs": [],
   "source": [
    "from collections import OrderedDict\n",
    "\n",
    "test =OrderedDict([(\"rohit\",22),(\"mohit\",28)])\n",
    "n=OrderedDict([(\"papa\",55),(\"shobhit\",30)])\n",
    "concatinate=OrderedDict(list(test.items())+list(n.items()))\n"
   ]
  },
  {
   "cell_type": "code",
   "execution_count": 25,
   "id": "d98a46fa-07f6-44c0-9d25-aaaa6a2a2aa1",
   "metadata": {},
   "outputs": [
    {
     "data": {
      "text/plain": [
       "OrderedDict([('rohit', 22), ('mohit', 28), ('papa', 55), ('shobhit', 30)])"
      ]
     },
     "execution_count": 25,
     "metadata": {},
     "output_type": "execute_result"
    }
   ],
   "source": [
    "concatinate"
   ]
  },
  {
   "cell_type": "markdown",
   "id": "ddc461f9-c67d-4630-88a2-bfe241e9bc8e",
   "metadata": {},
   "source": [
    "6-Write a Python program to check order of character in string using OrderedDict()?"
   ]
  },
  {
   "cell_type": "code",
   "execution_count": 37,
   "id": "74b408a7-d3b2-4dad-bcea-abbd4a55a00c",
   "metadata": {},
   "outputs": [
    {
     "data": {
      "text/plain": [
       "'The order of a pattern is correct'"
      ]
     },
     "execution_count": 37,
     "metadata": {},
     "output_type": "execute_result"
    }
   ],
   "source": [
    "def order_char(inputt,pattern):\n",
    "    my_dict=OrderedDict.fromkeys(input)\n",
    "    pattern_length=0\n",
    "    for key,values in my_dict.items():\n",
    "        if(key==pattern[pattern_length]):\n",
    "            pattern_length+=1\n",
    "        if(pattern_length==(len(pattern))):\n",
    "            return \"The order of a pattern is correct\"\n",
    "    return \"The order pattern is incorrect\"\n",
    "inputt=\"my name is rohit\"\n",
    "pattern=\"it\"\n",
    "order_char(inputt,pattern)"
   ]
  },
  {
   "cell_type": "markdown",
   "id": "9a9d6a23-0b69-4889-b423-8b628df8b0f9",
   "metadata": {},
   "source": [
    " Write a Python program to sort Python Dictionaries by Key or Value?"
   ]
  },
  {
   "cell_type": "code",
   "execution_count": 39,
   "id": "83c3397a-36b7-4c0e-8240-44728a349b85",
   "metadata": {},
   "outputs": [
    {
     "name": "stdout",
     "output_type": "stream",
     "text": [
      "[1, 2, 2, 4, 6, 33]\n"
     ]
    }
   ],
   "source": [
    "    key_value={}\n",
    "    key_value[2] = 6\n",
    "    key_value[1] = 2\n",
    "    key_value[5] = 2\n",
    "    key_value[4] = 4\n",
    "    key_value[6] = 1\n",
    "    key_value[3] = 33\n",
    "    l=[]\n",
    "    for i in sorted(key_value.values()):\n",
    "        l.append(i)\n",
    "    print(l)\n",
    "        \n",
    "        \n",
    "\n",
    "\n",
    "\n",
    "\n",
    "\n",
    "\n",
    "\n",
    "\n"
   ]
  },
  {
   "cell_type": "code",
   "execution_count": null,
   "id": "7b6088b9-1368-4c9e-af97-787a46db680a",
   "metadata": {},
   "outputs": [],
   "source": []
  }
 ],
 "metadata": {
  "kernelspec": {
   "display_name": "Python 3 (ipykernel)",
   "language": "python",
   "name": "python3"
  },
  "language_info": {
   "codemirror_mode": {
    "name": "ipython",
    "version": 3
   },
   "file_extension": ".py",
   "mimetype": "text/x-python",
   "name": "python",
   "nbconvert_exporter": "python",
   "pygments_lexer": "ipython3",
   "version": "3.9.12"
  }
 },
 "nbformat": 4,
 "nbformat_minor": 5
}
