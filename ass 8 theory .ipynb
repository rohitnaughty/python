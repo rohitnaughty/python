{
 "cells": [
  {
   "cell_type": "markdown",
   "id": "8f343f71-a042-49b8-8d5a-f3c7c9fffcd6",
   "metadata": {},
   "source": [
    "1. Is the Python Standard Library included with PyInputPlus?"
   ]
  },
  {
   "cell_type": "markdown",
   "id": "a7dd57ea-9cfc-434e-9365-7cdfe64f97e6",
   "metadata": {},
   "source": [
    "No. PyInputPlus is a third-party module and doesn't come with the python standard libary ."
   ]
  },
  {
   "cell_type": "code",
   "execution_count": 2,
   "id": "259ea5b1-e285-4783-8fc4-320777456a0d",
   "metadata": {},
   "outputs": [
    {
     "name": "stdout",
     "output_type": "stream",
     "text": [
      "Defaulting to user installation because normal site-packages is not writeable\n",
      "Collecting pyinputplus\n",
      "  Downloading PyInputPlus-0.2.12.tar.gz (20 kB)\n",
      "  Installing build dependencies ... \u001b[?25ldone\n",
      "\u001b[?25h  Getting requirements to build wheel ... \u001b[?25ldone\n",
      "\u001b[?25h    Preparing wheel metadata ... \u001b[?25ldone\n",
      "\u001b[?25hCollecting pysimplevalidate>=0.2.7\n",
      "  Downloading PySimpleValidate-0.2.12.tar.gz (22 kB)\n",
      "  Installing build dependencies ... \u001b[?25ldone\n",
      "\u001b[?25h  Getting requirements to build wheel ... \u001b[?25ldone\n",
      "\u001b[?25h    Preparing wheel metadata ... \u001b[?25ldone\n",
      "\u001b[?25hCollecting stdiomask>=0.0.3\n",
      "  Downloading stdiomask-0.0.6.tar.gz (3.6 kB)\n",
      "  Installing build dependencies ... \u001b[?25ldone\n",
      "\u001b[?25h  Getting requirements to build wheel ... \u001b[?25ldone\n",
      "\u001b[?25h    Preparing wheel metadata ... \u001b[?25ldone\n",
      "\u001b[?25hBuilding wheels for collected packages: pyinputplus, pysimplevalidate, stdiomask\n",
      "  Building wheel for pyinputplus (PEP 517) ... \u001b[?25ldone\n",
      "\u001b[?25h  Created wheel for pyinputplus: filename=PyInputPlus-0.2.12-py3-none-any.whl size=11297 sha256=b365306006ef4a739eae7314fb14fa3abf813ec2fc6669f1fbfbf311e79b2901\n",
      "  Stored in directory: /home/rohitnauti72ine/.cache/pip/wheels/b4/6e/2f/8a852732646cabec36c3fe8fc060ec5bea1c1be711432c47f7\n",
      "  Building wheel for pysimplevalidate (PEP 517) ... \u001b[?25ldone\n",
      "\u001b[?25h  Created wheel for pysimplevalidate: filename=PySimpleValidate-0.2.12-py3-none-any.whl size=16175 sha256=af4a349132c941f3f11c03bba67f749fadf505a33fcab78d227dc1163c2093f2\n",
      "  Stored in directory: /home/rohitnauti72ine/.cache/pip/wheels/b1/44/4a/043a4f4c4512c7cdfb0c2b8408b18b0de5fd45cac57f5dfa02\n",
      "  Building wheel for stdiomask (PEP 517) ... \u001b[?25ldone\n",
      "\u001b[?25h  Created wheel for stdiomask: filename=stdiomask-0.0.6-py3-none-any.whl size=3306 sha256=df08511a6cd871eccbf4a94021f58aba3b7e318198e6b5c6039d77f646ac6f66\n",
      "  Stored in directory: /home/rohitnauti72ine/.cache/pip/wheels/1d/aa/47/f41f117d22c5de82e95d9342f44da578c80610739a2d5ebec4\n",
      "Successfully built pyinputplus pysimplevalidate stdiomask\n",
      "Installing collected packages: stdiomask, pysimplevalidate, pyinputplus\n",
      "Successfully installed pyinputplus-0.2.12 pysimplevalidate-0.2.12 stdiomask-0.0.6\n",
      "Note: you may need to restart the kernel to use updated packages.\n"
     ]
    }
   ],
   "source": [
    "pip install pyinputplus"
   ]
  },
  {
   "cell_type": "markdown",
   "id": "192620ff-49ec-4f33-8d04-10f4eb7dd4bb",
   "metadata": {},
   "source": [
    "2. Why is PyInputPlus commonly imported with import pyinputplus as pypi?"
   ]
  },
  {
   "cell_type": "markdown",
   "id": "478c081f-d877-42bf-a2bc-168a2487913d",
   "metadata": {},
   "source": [
    "This optionally makes your code shorter to type : you can type pyip.inputstr() instead of pyintputplus.intputStr() "
   ]
  },
  {
   "cell_type": "code",
   "execution_count": 3,
   "id": "ce05577a-d8a1-4931-ae61-e78e1306a730",
   "metadata": {},
   "outputs": [
    {
     "name": "stdin",
     "output_type": "stream",
     "text": [
      " 3\n",
      " 3\n"
     ]
    },
    {
     "data": {
      "text/plain": [
       "3.0"
      ]
     },
     "execution_count": 3,
     "metadata": {},
     "output_type": "execute_result"
    }
   ],
   "source": [
    "import pyinputplus as pyip\n",
    "pyip.inputInt()\n",
    "pyip.inputFloat()"
   ]
  },
  {
   "cell_type": "markdown",
   "id": "b8cae34f-2993-43ba-b59d-2df9403ca7b5",
   "metadata": {},
   "source": [
    "3. How do you distinguish between inputInt() and inputFloat()?"
   ]
  },
  {
   "cell_type": "markdown",
   "id": "13345111-0828-4c07-8f66-2040f94d4714",
   "metadata": {},
   "source": [
    "The inputInt() function returns an int value, while the inputfloat() function returns a float value.This is the difference between returning 4 and 4.0.  "
   ]
  },
  {
   "cell_type": "code",
   "execution_count": 4,
   "id": "05ff5294-e2a9-4366-bdea-3bc5d865fba1",
   "metadata": {},
   "outputs": [
    {
     "name": "stdin",
     "output_type": "stream",
     "text": [
      " 55\n",
      " 55\n"
     ]
    },
    {
     "data": {
      "text/plain": [
       "55.0"
      ]
     },
     "execution_count": 4,
     "metadata": {},
     "output_type": "execute_result"
    }
   ],
   "source": [
    "import pyinputplus as pyip\n",
    "pyip.inputInt()\n",
    "pyip.inputFloat()"
   ]
  },
  {
   "cell_type": "markdown",
   "id": "3084afe6-1ed9-4c58-b615-7dad4b59623e",
   "metadata": {},
   "source": [
    "4. Using PyInputPlus, how do you ensure that the user enters a whole number between 0 and 99?"
   ]
  },
  {
   "cell_type": "markdown",
   "id": "243ab47e-f456-4b5b-b0b8-3bac3a40c8f0",
   "metadata": {},
   "source": [
    "Call pyip.inputint(min=0,max=99)."
   ]
  },
  {
   "cell_type": "code",
   "execution_count": 5,
   "id": "e48b329f-9796-4832-ad94-c5f8ea6106ca",
   "metadata": {},
   "outputs": [
    {
     "name": "stdin",
     "output_type": "stream",
     "text": [
      " sds\n"
     ]
    },
    {
     "name": "stdout",
     "output_type": "stream",
     "text": [
      "'sds' is not an integer.\n"
     ]
    },
    {
     "name": "stdin",
     "output_type": "stream",
     "text": [
      " 2\n"
     ]
    },
    {
     "data": {
      "text/plain": [
       "2"
      ]
     },
     "execution_count": 5,
     "metadata": {},
     "output_type": "execute_result"
    }
   ],
   "source": [
    "pyip.inputInt(min=0,max=99)"
   ]
  },
  {
   "cell_type": "markdown",
   "id": "c7f546e6-6edc-4d48-86a0-53410a989b31",
   "metadata": {},
   "source": [
    "5. What is transferred to the keyword arguments allowRegexes and blockRegexes?"
   ]
  },
  {
   "cell_type": "markdown",
   "id": "1a9c8c94-75f4-4918-b891-e134c1025245",
   "metadata": {},
   "source": [
    "A list of regex strings that are either explicitly allowed or denied"
   ]
  },
  {
   "cell_type": "code",
   "execution_count": 8,
   "id": "9068b9c1-06ce-451f-b823-dbacacedc0e3",
   "metadata": {},
   "outputs": [
    {
     "name": "stdin",
     "output_type": "stream",
     "text": [
      " V\n"
     ]
    },
    {
     "name": "stdout",
     "output_type": "stream",
     "text": [
      "'V' is not a number.\n"
     ]
    },
    {
     "name": "stdin",
     "output_type": "stream",
     "text": [
      " v\n"
     ]
    },
    {
     "name": "stdout",
     "output_type": "stream",
     "text": [
      "'v' is not a number.\n"
     ]
    },
    {
     "name": "stdin",
     "output_type": "stream",
     "text": [
      " I\n"
     ]
    },
    {
     "name": "stdout",
     "output_type": "stream",
     "text": [
      "'I' is not a number.\n"
     ]
    },
    {
     "name": "stdin",
     "output_type": "stream",
     "text": [
      " 54\n"
     ]
    }
   ],
   "source": [
    "output=pyip.inputNum(allowRegexes=[r'(I|V|X|L|C|D|M)+'r'zero'])"
   ]
  },
  {
   "cell_type": "markdown",
   "id": "d51743ed-81d7-4263-919a-c69056f964c8",
   "metadata": {},
   "source": [
    "6. If a blank input is entered three times, what does inputStr(limit=3) do?"
   ]
  },
  {
   "cell_type": "markdown",
   "id": "026c3dc4-5ad3-46cd-8c7b-0bfce19d0082",
   "metadata": {},
   "source": [
    "When you use limit keywords arguments also pass a default keywords argument,the function returns the default value instead of raising an exception.  "
   ]
  },
  {
   "cell_type": "markdown",
   "id": "2cc65bb0-2daf-4bff-b33a-0e3a849c432e",
   "metadata": {},
   "source": [
    "7. If blank input is entered three times, what does inputStr(limit=3, default=\"hello\") do?"
   ]
  },
  {
   "cell_type": "markdown",
   "id": "0b4d0684-8359-413e-a591-4cd9be3d6a5d",
   "metadata": {},
   "source": [
    "The function returns the value \"hello\""
   ]
  },
  {
   "cell_type": "code",
   "execution_count": 11,
   "id": "5a33c126-e99f-48a8-a548-987b344180f2",
   "metadata": {},
   "outputs": [
    {
     "name": "stdin",
     "output_type": "stream",
     "text": [
      " \n"
     ]
    },
    {
     "name": "stdout",
     "output_type": "stream",
     "text": [
      "Blank values are not allowed.\n"
     ]
    },
    {
     "name": "stdin",
     "output_type": "stream",
     "text": [
      " \n"
     ]
    },
    {
     "name": "stdout",
     "output_type": "stream",
     "text": [
      "Blank values are not allowed.\n"
     ]
    },
    {
     "name": "stdin",
     "output_type": "stream",
     "text": [
      " \n"
     ]
    },
    {
     "name": "stdout",
     "output_type": "stream",
     "text": [
      "Blank values are not allowed.\n"
     ]
    },
    {
     "data": {
      "text/plain": [
       "'hello'"
      ]
     },
     "execution_count": 11,
     "metadata": {},
     "output_type": "execute_result"
    }
   ],
   "source": [
    "output=pyip.inputStr(limit=3,default=\"hello\")\n",
    "output"
   ]
  },
  {
   "cell_type": "code",
   "execution_count": null,
   "id": "747f4055-016b-431e-bbea-231ca0862dba",
   "metadata": {},
   "outputs": [],
   "source": []
  }
 ],
 "metadata": {
  "kernelspec": {
   "display_name": "Python 3 (ipykernel)",
   "language": "python",
   "name": "python3"
  },
  "language_info": {
   "codemirror_mode": {
    "name": "ipython",
    "version": 3
   },
   "file_extension": ".py",
   "mimetype": "text/x-python",
   "name": "python",
   "nbconvert_exporter": "python",
   "pygments_lexer": "ipython3",
   "version": "3.9.12"
  }
 },
 "nbformat": 4,
 "nbformat_minor": 5
}
