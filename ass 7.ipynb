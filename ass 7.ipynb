{
 "cells": [
  {
   "cell_type": "markdown",
   "id": "683d1209-a6a6-428e-b2bf-b3ba8a968cd0",
   "metadata": {},
   "source": [
    "1. Write a Python Program to find sum of array?"
   ]
  },
  {
   "cell_type": "code",
   "execution_count": null,
   "id": "3bf9baef-e71c-40f0-85af-c7c30e3970a4",
   "metadata": {},
   "outputs": [
    {
     "name": "stdin",
     "output_type": "stream",
     "text": [
      "no of enteries 6\n"
     ]
    },
    {
     "name": "stdout",
     "output_type": "stream",
     "text": [
      "enter entries one by one\n"
     ]
    },
    {
     "name": "stdin",
     "output_type": "stream",
     "text": [
      " 1\n",
      " 5\n",
      " 6\n",
      " 6\n",
      " 5\n",
      " 5\n"
     ]
    },
    {
     "name": "stdout",
     "output_type": "stream",
     "text": [
      "list =  [1, 5, 6, 6, 5, 5]\n",
      "28\n"
     ]
    }
   ],
   "source": [
    "try:\n",
    "    \n",
    "    n=int(input(\"no of enteries\"))\n",
    "    l=[]\n",
    "    print(\"enter entries one by one\")\n",
    "    for i in range(n):\n",
    "        N=int(input())\n",
    "        l.append(N)    \n",
    "    print(\"list = \",l)\n",
    "    print(sum(l))\n",
    "except :\n",
    "    print(\"invalid input\")"
   ]
  },
  {
   "cell_type": "markdown",
   "id": "058ae8d7-8deb-4682-8720-48c229912a4a",
   "metadata": {},
   "source": [
    " 2. Write a Python Program to find largest element in an array?\n"
   ]
  },
  {
   "cell_type": "code",
   "execution_count": 34,
   "id": "851761db-3ec0-4363-b9eb-8925d2568e33",
   "metadata": {},
   "outputs": [],
   "source": [
    "try:\n",
    "    \n",
    "\n",
    "    def  lar(arr):\n",
    "        \"\"\"finds the largest element in an array\"\"\"\n",
    "        max=0\n",
    "        for i in range(0,len(arr)):\n",
    "            if arr[i]>max:\n",
    "                max=arr[i]\n",
    "        print(max)\n",
    "\n",
    "except:\n",
    "    print(\"invalid input\")\n"
   ]
  },
  {
   "cell_type": "code",
   "execution_count": 16,
   "id": "92dbcd2b-0c77-4be9-ad71-3cc5b6d29e72",
   "metadata": {},
   "outputs": [
    {
     "name": "stdout",
     "output_type": "stream",
     "text": [
      "44\n"
     ]
    }
   ],
   "source": [
    "lar([1,2,6,44])"
   ]
  },
  {
   "cell_type": "markdown",
   "id": "e4915353-5fd7-42d8-a74e-44cc2c3d5723",
   "metadata": {},
   "source": [
    "3. Write a Python Program for array rotation?"
   ]
  },
  {
   "cell_type": "code",
   "execution_count": 33,
   "id": "7c7fbaae-cfa3-4b82-904d-0c4bdd7cb137",
   "metadata": {},
   "outputs": [
    {
     "name": "stdin",
     "output_type": "stream",
     "text": [
      "enter a no of first terms u want to rotate 9\n"
     ]
    },
    {
     "name": "stdout",
     "output_type": "stream",
     "text": [
      "invalid input\n"
     ]
    }
   ],
   "source": [
    "try:\n",
    "    def rotate(arr):\n",
    "        \"\"\" for array rotation \"\"\"\n",
    "        n=int(input(\"enter a no of first terms u want to rotate\"))\n",
    "        if n<=len(arr):\n",
    "            \n",
    "            for i in range(n,len(arr)-1):\n",
    "                l=[]\n",
    "                l.append(arr[i])\n",
    "            for j in range(0,n):\n",
    "                l.append(arr[j])\n",
    "            return l\n",
    "        else:\n",
    "            return \"invalid input\"\n",
    "\n",
    "except :\n",
    "    \n",
    "    print(\"invalid answer\")\n",
    "print(rotate([3,2,9,5,6,7]))"
   ]
  },
  {
   "cell_type": "markdown",
   "id": "e4370ad1-cd34-494d-a7dc-97e0ad7e0cf6",
   "metadata": {},
   "source": [
    " 4. Write a Python Program to Split the array and add the first part to the end?"
   ]
  },
  {
   "cell_type": "code",
   "execution_count": 46,
   "id": "128b6e9d-e09b-4dcc-a46c-deede30ce05c",
   "metadata": {},
   "outputs": [
    {
     "name": "stdin",
     "output_type": "stream",
     "text": [
      " 3\n"
     ]
    },
    {
     "data": {
      "text/plain": [
       "[3, 5, 5, 1, 2]"
      ]
     },
     "execution_count": 46,
     "metadata": {},
     "output_type": "execute_result"
    }
   ],
   "source": [
    "try:\n",
    "    def split(arr):\n",
    "        \n",
    "        n=int(input())\n",
    "          \n",
    "        \"\"\" Splits the array and add the first part to the end  \"\"\"\n",
    "        l=[]\n",
    "        for i in range(n-1,len(arr)):\n",
    "            l.append(arr[i])\n",
    "        for j in range(0,n-1):\n",
    "            l.append(arr[j])\n",
    "        return l\n",
    "except:\n",
    "    print(\"invalid input\")\n",
    "split([1,2,3,5,5])"
   ]
  },
  {
   "cell_type": "markdown",
   "id": "b99ed560-fd50-4d26-9ea5-aa4878d0f05f",
   "metadata": {},
   "source": [
    "5. Write a Python Program to check if given array is Monotonic?"
   ]
  },
  {
   "cell_type": "code",
   "execution_count": 39,
   "id": "e04338c6-8d90-4410-a9d3-92c1722bb091",
   "metadata": {},
   "outputs": [],
   "source": [
    "try:\n",
    "    \n",
    "\n",
    "    def mono(arr):\n",
    "        \"\"\"check if given array is monotonic or not \"\"\"\n",
    "        if len(arr)==1:\n",
    "            return \"yes array  is monotonic \"\n",
    "        \n",
    "        else:\n",
    "            if all(arr[i]<=arr[i+1]  for i in range(0,len(arr)-1)) or all(arr[i]>=arr[i+1] for i in range(0,len(arr)-1)):\n",
    "                return \"yes monotonic\"\n",
    "            else:\n",
    "                return \"not a monitonic array\"\n",
    "\n",
    "                \n",
    "except:\n",
    "    print(\"invalid input\")\n",
    "   \n",
    "        "
   ]
  },
  {
   "cell_type": "code",
   "execution_count": 41,
   "id": "bf25b3f9-18cc-490c-971d-479b97a92fdc",
   "metadata": {},
   "outputs": [
    {
     "data": {
      "text/plain": [
       "'yes monotonic'"
      ]
     },
     "execution_count": 41,
     "metadata": {},
     "output_type": "execute_result"
    }
   ],
   "source": [
    "mono([1,2,3,4,5,6])"
   ]
  },
  {
   "cell_type": "code",
   "execution_count": null,
   "id": "877f25a2-8860-4a1c-892b-6602776a6fd8",
   "metadata": {},
   "outputs": [],
   "source": []
  }
 ],
 "metadata": {
  "kernelspec": {
   "display_name": "Python 3 (ipykernel)",
   "language": "python",
   "name": "python3"
  },
  "language_info": {
   "codemirror_mode": {
    "name": "ipython",
    "version": 3
   },
   "file_extension": ".py",
   "mimetype": "text/x-python",
   "name": "python",
   "nbconvert_exporter": "python",
   "pygments_lexer": "ipython3",
   "version": "3.9.12"
  }
 },
 "nbformat": 4,
 "nbformat_minor": 5
}
