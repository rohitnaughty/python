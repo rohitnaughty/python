{
 "cells": [
  {
   "cell_type": "raw",
   "id": "86c2f2df-fbdc-425c-af09-3ddaa7b876b4",
   "metadata": {},
   "source": [
    "1. What is the name of the feature responsible for generating Regex objects?\n"
   ]
  },
  {
   "cell_type": "raw",
   "id": "5df5315d-3ecb-4463-8eb9-142045f8213c",
   "metadata": {},
   "source": [
    "The re.compile() function returns regex objects "
   ]
  },
  {
   "cell_type": "raw",
   "id": "192c0417-f0d7-40e9-bd6a-82289bb89d84",
   "metadata": {},
   "source": [
    "2. Why do raw strings often appear in Regex objects?"
   ]
  },
  {
   "cell_type": "raw",
   "id": "0d9aada1-bb89-4311-9fda-60169544c857",
   "metadata": {},
   "source": [
    "Raw strings are used so that backlashes do not have to be escaped."
   ]
  },
  {
   "cell_type": "raw",
   "id": "3d38ba14-8c6a-4665-999b-11abc1bdea47",
   "metadata": {},
   "source": [
    "3. What is the return value of the search() method?\n"
   ]
  },
  {
   "cell_type": "raw",
   "id": "514bcbee-35c2-4b48-8c09-55226f6c172a",
   "metadata": {},
   "source": [
    "The re.search() returns only the first match to the pattern from the target string."
   ]
  },
  {
   "cell_type": "raw",
   "id": "a024c758-4e72-4087-bd1c-77dfacb46380",
   "metadata": {},
   "source": [
    "4. From a Match item, how do you get the actual strings that match the pattern?\n"
   ]
  },
  {
   "cell_type": "raw",
   "id": "5be43524-0213-4c6a-aa39-10357bc5dc15",
   "metadata": {},
   "source": [
    "First we need to use regex module  and use re.compile() function to create regex object, then pass the string you want to search into a regex object's search() method then call the match object's group() method to return a string of the actual matched text."
   ]
  },
  {
   "cell_type": "raw",
   "id": "1469a948-f220-412a-9311-63cb321de179",
   "metadata": {},
   "source": [
    "5. In the regex which created from the r(\\d\\d\\d)-(\\d\\d\\d-\\d\\d\\d\\d), what does group zero cover?\n",
    "Group 2? Group 1?\n"
   ]
  },
  {
   "cell_type": "raw",
   "id": "e988d0ba-5479-4a02-84ac-97309b954195",
   "metadata": {},
   "source": [
    "Group 0 is the entire match,group 1 covers  the first set of parentheses, and group 2 covers the second set of parantheses. "
   ]
  },
  {
   "cell_type": "raw",
   "id": "e77d05bf-de75-46ac-922a-33f9d955f74a",
   "metadata": {},
   "source": [
    "6. In standard expression syntax, parentheses and intervals have distinct meanings. How can you tell\n",
    "a regex that you want it to fit real parentheses and periods?\n"
   ]
  },
  {
   "cell_type": "raw",
   "id": "a0debbf6-82f7-4bb3-998a-63b271478658",
   "metadata": {},
   "source": [
    "Periods and perentheses can be escaped with a backslash : \\.,\\(, and \\)."
   ]
  },
  {
   "cell_type": "raw",
   "id": "2365f5da-9b81-4274-9fc5-5b343853700f",
   "metadata": {
    "tags": []
   },
   "source": [
    "7. The findall() method returns a string list or a list of string tuples. What causes it to return one of\n",
    "the two options?\n"
   ]
  },
  {
   "cell_type": "raw",
   "id": "f3be3877-92e9-4fab-aca5-c56b31e142f3",
   "metadata": {},
   "source": [
    "If the regex has no groups , a list of strings is returned . If the regex has groups, a list of tuples of strings is  returned. "
   ]
  },
  {
   "cell_type": "code",
   "execution_count": null,
   "id": "77c5a94b-5103-49d2-b78d-50463cb915fa",
   "metadata": {},
   "outputs": [],
   "source": [
    "8. In standard expressions, what does the | character mean?\n"
   ]
  },
  {
   "cell_type": "raw",
   "id": "40ab4ffa-89b3-424a-a209-f4b3d52a7de3",
   "metadata": {},
   "source": [
    "Matches any one element separated by the vertical bar (|) character.\n",
    "Example: Wh(o|ich|at|om) will match words - Who,Which,What,whom"
   ]
  },
  {
   "cell_type": "code",
   "execution_count": null,
   "id": "fd227e63-44f6-4bb7-b634-d078d973a2ab",
   "metadata": {},
   "outputs": [],
   "source": [
    "9. In regular expressions, what does the character ? stand for?\n"
   ]
  },
  {
   "cell_type": "code",
   "execution_count": null,
   "id": "261c7fde-ec10-4858-bfde-854348113dba",
   "metadata": {},
   "outputs": [],
   "source": [
    "The ? character  can either mean \"match zero or one of the preceding group\" or be used to signify non greety matching. "
   ]
  },
  {
   "cell_type": "raw",
   "id": "22143cfd-82f9-46d3-9343-5ba36d8448d2",
   "metadata": {},
   "source": [
    "10.In regular expressions, what is the difference between the + and * characters?\n"
   ]
  },
  {
   "cell_type": "markdown",
   "id": "35e7e5e4-9672-443c-9384-4d5c55d05f8f",
   "metadata": {},
   "source": [
    "The + matches one or more.The * matches zero or more. "
   ]
  },
  {
   "cell_type": "raw",
   "id": "87655ba3-c8a1-479e-a025-3a5b3e762ab1",
   "metadata": {},
   "source": [
    "11. What is the difference between {4} and {4,5} in regular expression?\n"
   ]
  },
  {
   "cell_type": "raw",
   "id": "e0b58b09-3b11-472c-a817-fcbd3dcc3730",
   "metadata": {},
   "source": [
    "The {4} matches exactly four instances of the precceding group.The {4,5} matches between four and five instances.\n"
   ]
  },
  {
   "cell_type": "raw",
   "id": "6e9a2fc8-39e6-4b6d-bf3d-aa304c9ef1de",
   "metadata": {},
   "source": [
    "12. What do you mean by the \\d, \\w, and \\s shorthand character classes signify in regular\n",
    "expressions?\n"
   ]
  },
  {
   "cell_type": "raw",
   "id": "b8644db2-4b21-4c9a-ab9a-0907c916bfec",
   "metadata": {},
   "source": [
    "The \\d,\\w and \\s shorthand character classes match a single digit ,word,or space character , respectively."
   ]
  },
  {
   "cell_type": "raw",
   "id": "deadfcf6-ec58-43ad-a71f-a51aee55296f",
   "metadata": {},
   "source": [
    "13. What do means by \\D, \\W, and \\S shorthand character classes signify in regular expressions?\n"
   ]
  },
  {
   "cell_type": "raw",
   "id": "c6a87abc-8189-4065-98c5-92d1861ec1d9",
   "metadata": {},
   "source": [
    "The \\D,\\W and \\S shorthand character classes match a single character that is not a digit, word ,or space character, respectively. "
   ]
  },
  {
   "cell_type": "raw",
   "id": "15940fe3-b7c8-4d7f-b5af-9f09232c6434",
   "metadata": {},
   "source": [
    "14. What is the difference between .*? and .*?\n"
   ]
  },
  {
   "cell_type": "raw",
   "id": "fcc6b643-78cf-49c3-923f-c28cfbfccbda",
   "metadata": {},
   "source": [
    "The .performs  a greedy  match , and the .? performs a nongreedy match"
   ]
  },
  {
   "cell_type": "raw",
   "id": "88ea8423-47a8-4139-91b1-51b5149758b8",
   "metadata": {},
   "source": [
    "15. What is the syntax for matching both numbers and lowercase letters with a character class?\n"
   ]
  },
  {
   "cell_type": "raw",
   "id": "2558a178-3e7f-4b2c-aa58-3c6a8b2212c3",
   "metadata": {},
   "source": [
    "Either [0-9a-z] or [a-z0-9]"
   ]
  },
  {
   "cell_type": "raw",
   "id": "5285ba0e-0fe8-491f-817f-09ba467c4ca0",
   "metadata": {},
   "source": [
    "16. What is the procedure for making a normal expression in regax case insensitive?\n"
   ]
  },
  {
   "cell_type": "raw",
   "id": "c06d9263-cd28-41d9-859b-9b1c4c517c35",
   "metadata": {},
   "source": [
    "Passing re.I or re.IGNORECASE as the second argument to re.compile() will make the matching case insensitive."
   ]
  },
  {
   "cell_type": "raw",
   "id": "787d273e-8970-4d19-a3b1-f597b3ed5bbd",
   "metadata": {},
   "source": [
    "17. What does the . character normally match? What does it match if re.DOTALL is passed as 2nd\n",
    "argument in re.compile()?\n"
   ]
  },
  {
   "cell_type": "raw",
   "id": "b8362530-a07d-49e6-9d37-3133f53c58b4",
   "metadata": {},
   "source": [
    "The .charactor normally matches any charater except the newline character . If re.DOTALL is passed as the second argument to re.compile(),then the dot will also match newline characters."
   ]
  },
  {
   "cell_type": "raw",
   "id": "77a5a887-2f4f-486e-9c7f-bbaf3cef04a8",
   "metadata": {},
   "source": [
    "18. If numReg = re.compile(r\"\\d+\"), what will numRegex.sub(\"X\", \"11 drummers, 10 pipers, five rings, 4 hen\") return?\n"
   ]
  },
  {
   "cell_type": "raw",
   "id": "f413eaca-e2cd-40c8-8258-f4cf822a8832",
   "metadata": {},
   "source": [
    "\"X drummer,X pipers,five rings ,X hens\""
   ]
  },
  {
   "cell_type": "raw",
   "id": "660d087e-b2f4-4877-903e-9e89053f8286",
   "metadata": {},
   "source": [
    "19. What does passing re.VERBOSE as the 2nd argument to re.compile() allow to do?\n"
   ]
  },
  {
   "cell_type": "raw",
   "id": "63879545-549a-4aed-b774-fc59e28d54a6",
   "metadata": {},
   "source": [
    "The re.VERBOSE argument allows you to add whilespace and comments to the string passed to re.compile()."
   ]
  },
  {
   "cell_type": "raw",
   "id": "acd790b1-9d28-471c-ac96-d380794af231",
   "metadata": {},
   "source": [
    "20. How would you write a regex that match a number with comma for every three digits? It must\n",
    "match the given following:\n",
    "\"42\"\n",
    "\"1,234\"\n",
    "\"6,368,745\"\n",
    "\n",
    "but not the following:\n",
    "\"12,34,567\" (which has only two digits between the commas)\n",
    "\"1234\" (which lacks commas)\n"
   ]
  },
  {
   "cell_type": "raw",
   "id": "f0ee60b0-2bd8-4c5b-b861-c11f7a9d5d0a",
   "metadata": {},
   "source": [
    "re.compile(r'^\\d{1,3}(,\\d{3})*$') will create this regrex , but other regex strings can produce a similar regular expression. "
   ]
  },
  {
   "cell_type": "raw",
   "id": "4eb0811b-1c3e-434b-8e3a-b302bda01697",
   "metadata": {},
   "source": [
    "21. How would you write a regex that matches the full name of someone whose last name is\n",
    "Watanabe? You can assume that the first name that comes before it will always be one word that\n",
    "begins with a capital letter. The regex must match the following:\n",
    "\"\"Haruto Watanabe\"\n",
    "\"Alice Watanabe\"\n",
    "\"RoboCop Watanabe\"\n",
    "but not the following:\n",
    "\"haruto Watanabe\" (where the first name is not capitalized)\n",
    "\"Mr. Watanabe\" (where the preceding word has a nonletter character)\n",
    "\"Watanabe\" (which has no first name)\n",
    "\"Haruto watanabe\" (where Watanabe is not capitalized)\n"
   ]
  },
  {
   "cell_type": "raw",
   "id": "9e56bf8b-bab6-408a-a7d3-3653784e84d6",
   "metadata": {},
   "source": [
    "re.compile(r'\\s([A-Z]\\w+)\\s(Watanabe)')"
   ]
  },
  {
   "cell_type": "raw",
   "id": "8811cbac-961c-46d3-af89-6e001abcf8fd",
   "metadata": {},
   "source": [
    "22. How would you write a regex that matches a sentence where the first word is either Alice, Bob,\n",
    "or Carol; the second word is either eats, pets, or throws; the third word is apples, cats, or baseballs;\n",
    "and the sentence ends with a period? This regex should be case-insensitive. It must match the\n",
    "following:\n",
    "\"Alice eats apples.\"\n",
    "\"Bob pets cats.\"\n",
    "\"Carol throws baseballs.\"\n",
    "\"Alice throws Apples.\"\n",
    "\"BOB EATS CATS.\"\n",
    "but not the following:\n",
    "\"RoboCop eats apples.\"\n",
    "\"ALICE THROWS FOOTBALLS.\"\n",
    "\"Carol eats 7 cats.\""
   ]
  },
  {
   "cell_type": "raw",
   "id": "3c8aea70-15e4-4ab1-addd-89edfe9c56b1",
   "metadata": {},
   "source": [
    "re.compile(r'(Alice|Bob|Carol)\\s(eats|pets|throws)\\s(apples|cats|baseballs).', re.IGNORECASE)"
   ]
  }
 ],
 "metadata": {
  "kernelspec": {
   "display_name": "Python 3 (ipykernel)",
   "language": "python",
   "name": "python3"
  },
  "language_info": {
   "codemirror_mode": {
    "name": "ipython",
    "version": 3
   },
   "file_extension": ".py",
   "mimetype": "text/x-python",
   "name": "python",
   "nbconvert_exporter": "python",
   "pygments_lexer": "ipython3",
   "version": "3.9.12"
  }
 },
 "nbformat": 4,
 "nbformat_minor": 5
}
