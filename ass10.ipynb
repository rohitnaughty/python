{
 "cells": [
  {
   "cell_type": "raw",
   "id": "c359466e-20ee-4dcd-a419-b46a193f4712",
   "metadata": {},
   "source": [
    "1. Write a Python program to find sum of elements in list?\n",
    "2. Write a Python program to Multiply all numbers in the list?\n",
    "3. Write a Python program to find smallest number in a list?\n",
    "4. Write a Python program to find largest number in a list?\n",
    "5. Write a Python program to find second largest number in a list?\n",
    "6. Write a Python program to find N largest elements from a list?\n",
    "7. Write a Python program to print even numbers in a list?\n",
    "8. Write a Python program to print odd numbers in a List?\n",
    "9. Write a Python program to Remove empty List from List?\n",
    "10. Write a Python program to Cloning or Copying a list?\n",
    "11. Write a Python program to Count occurrences of an element in a list?"
   ]
  },
  {
   "cell_type": "raw",
   "id": "3d313d51-01f5-4646-ba71-27cfcb9352d5",
   "metadata": {},
   "source": [
    "1. Write a Python program to find sum of elements in list?"
   ]
  },
  {
   "cell_type": "code",
   "execution_count": 9,
   "id": "7789dd2f-f2f3-465e-ae0f-5e471a727c6e",
   "metadata": {},
   "outputs": [],
   "source": [
    "def sumlist(n):\n",
    "    \"\"\"find sum of elements in list\"\"\"\n",
    "    s=0\n",
    "    try:\n",
    "        \n",
    "        for i in range(len(n)):\n",
    "            s+=n[i]\n",
    "        return s\n",
    "    except:\n",
    "        return \"invalid input\"\n",
    "\n",
    "        \n",
    "        \n",
    "    "
   ]
  },
  {
   "cell_type": "raw",
   "id": "09ab9741-fc95-49e5-b617-3bde40d858fb",
   "metadata": {},
   "source": [
    "2. Write a Python program to Multiply all numbers in the list?"
   ]
  },
  {
   "cell_type": "code",
   "execution_count": 24,
   "id": "f1efe5f2-52ba-41ef-bc55-5829fd14870a",
   "metadata": {},
   "outputs": [],
   "source": [
    "try:\n",
    "    def multilist(n):\n",
    "        \"\"\" Multiply all numbers in the list\"\"\"\n",
    "        m=1\n",
    "        \n",
    "        for i in range(len(n)):\n",
    "            m*=n[i]\n",
    "        return m\n",
    "         \n",
    "except:\n",
    "    print(\"invalid input\")\n",
    "    \n",
    "    "
   ]
  },
  {
   "cell_type": "raw",
   "id": "c6458e82-aa10-428a-a0cd-6631faa6004f",
   "metadata": {},
   "source": []
  },
  {
   "cell_type": "raw",
   "id": "46a9b4f5-113e-40f5-aa51-04434ae9eaad",
   "metadata": {},
   "source": [
    "3. Write a Python program to find smallest number in a list?"
   ]
  },
  {
   "cell_type": "code",
   "execution_count": 25,
   "id": "a779a945-ade9-4cd7-ad45-ff64f473d9cd",
   "metadata": {},
   "outputs": [],
   "source": [
    "try :\n",
    "    def smallnum(num):\n",
    "        \"\"\"find smallest number in a list\"\"\"\n",
    "        mn=num[0]\n",
    "        for i in range(len(num)):\n",
    "            if num[i]<mn:\n",
    "                mn=num[i]\n",
    "        return  mn\n",
    "except:\n",
    "    print(\"invalid input \")\n",
    "            "
   ]
  },
  {
   "cell_type": "raw",
   "id": "f2fe5bc4-5dc5-4162-912c-376c8aae2093",
   "metadata": {},
   "source": [
    "4. Write a Python program to find largest number in a list?"
   ]
  },
  {
   "cell_type": "code",
   "execution_count": 29,
   "id": "9f4bf908-d966-40bc-a553-dbb952df69ee",
   "metadata": {},
   "outputs": [],
   "source": [
    "try :\n",
    "    def maxnum(num):\n",
    "        \"\"\"find largest number in a list\"\"\"\n",
    "        mn=num[0]\n",
    "        for i in range(len(num)):\n",
    "            if num[i]>mn:\n",
    "                mn=num[i]\n",
    "        return  mn\n",
    "except:\n",
    "    print(\"invalid input \")\n",
    "            "
   ]
  },
  {
   "cell_type": "code",
   "execution_count": 30,
   "id": "04f1f921-1b53-464f-920f-606d5d2f6646",
   "metadata": {},
   "outputs": [
    {
     "data": {
      "text/plain": [
       "9"
      ]
     },
     "execution_count": 30,
     "metadata": {},
     "output_type": "execute_result"
    }
   ],
   "source": [
    "maxnum([9,8,6,4,1,3])"
   ]
  },
  {
   "cell_type": "raw",
   "id": "8fa6451e-b278-4084-ae31-c88542c68d53",
   "metadata": {},
   "source": [
    "5. Write a Python program to find second largest number in a list?"
   ]
  },
  {
   "cell_type": "code",
   "execution_count": 8,
   "id": "393e3ee6-292a-46fc-8354-c32e4ba6ca5f",
   "metadata": {},
   "outputs": [],
   "source": [
    "def lar(num):\n",
    "    \"\"\"finds second largest number in a list\"\"\"\n",
    "    num.sort()\n",
    "    return \"second largest number in a list  \",num[len(num)-2]"
   ]
  },
  {
   "cell_type": "code",
   "execution_count": 10,
   "id": "2923df9a-9960-4609-8e4c-9fa0cd9df339",
   "metadata": {},
   "outputs": [
    {
     "data": {
      "text/plain": [
       "('second largest number in a list  ', 100)"
      ]
     },
     "execution_count": 10,
     "metadata": {},
     "output_type": "execute_result"
    }
   ],
   "source": [
    "lar([100,1,2,46,78,99,2128])"
   ]
  },
  {
   "cell_type": "raw",
   "id": "5d668302-a684-4d62-8167-1c58818a249c",
   "metadata": {},
   "source": [
    "6. Write a Python program to find N largest elements from a list?"
   ]
  },
  {
   "cell_type": "code",
   "execution_count": 18,
   "id": "bb5ace6c-bb6e-43df-956a-083f2329e82c",
   "metadata": {},
   "outputs": [],
   "source": [
    "def lar_nth(num):\n",
    "    \"\"\"find N largest elements from a list\"\"\"\n",
    "    n=int(input(\"enter a value of n\"))\n",
    "    num.sort(reverse=True)\n",
    "    return num[0:n]"
   ]
  },
  {
   "cell_type": "code",
   "execution_count": 19,
   "id": "e6c946d9-6ae6-46a0-8537-2aab27f88a6b",
   "metadata": {},
   "outputs": [
    {
     "name": "stdin",
     "output_type": "stream",
     "text": [
      "enter a value of n 3\n"
     ]
    },
    {
     "data": {
      "text/plain": [
       "[99, 78, 46]"
      ]
     },
     "execution_count": 19,
     "metadata": {},
     "output_type": "execute_result"
    }
   ],
   "source": [
    "lar_nth([1,2,46,78,99,8])"
   ]
  },
  {
   "cell_type": "raw",
   "id": "f621f84d-0495-44fa-b612-f9484ff7f3bc",
   "metadata": {},
   "source": [
    "7. Write a Python program to print even numbers in a list?"
   ]
  },
  {
   "cell_type": "code",
   "execution_count": 29,
   "id": "4c152194-ad34-4f60-a7cd-5b081260cdce",
   "metadata": {},
   "outputs": [],
   "source": [
    "def even(lis):\n",
    "    \"\"\"print even numbers in a list\"\"\"\n",
    "    l=[]\n",
    "    for i in range(len(lis)):\n",
    "        if lis[i]%2==0:\n",
    "            l.append(lis[i])\n",
    "    return l\n",
    "        \n",
    "    "
   ]
  },
  {
   "cell_type": "code",
   "execution_count": 31,
   "id": "c09c75f9-ed17-49ac-b787-bebcfa63077a",
   "metadata": {},
   "outputs": [
    {
     "data": {
      "text/plain": [
       "[22, 2, 4, 0]"
      ]
     },
     "execution_count": 31,
     "metadata": {},
     "output_type": "execute_result"
    }
   ],
   "source": [
    "even([1,22,3,2,5,4,0])"
   ]
  },
  {
   "cell_type": "code",
   "execution_count": null,
   "id": "4dd017e9-b28d-45d2-89d0-2143f8372ad7",
   "metadata": {},
   "outputs": [],
   "source": []
  },
  {
   "cell_type": "raw",
   "id": "280cd389-25c3-4ba8-b6cd-3d2f8887140f",
   "metadata": {},
   "source": [
    "8. Write a Python program to print odd numbers in a List?"
   ]
  },
  {
   "cell_type": "code",
   "execution_count": 32,
   "id": "2707eb76-3bf1-4cc8-bd3e-2334edcb3ab8",
   "metadata": {},
   "outputs": [],
   "source": [
    "def odd(lis):\n",
    "    \"\"\"print odd numbers in a List\"\"\"\n",
    "    l=[]\n",
    "    for i in range(len(lis)):\n",
    "        if lis[i]%2!=0:\n",
    "            l.append(lis[i])\n",
    "    return l\n",
    "        "
   ]
  },
  {
   "cell_type": "code",
   "execution_count": 34,
   "id": "59cf897c-c9fc-4b5b-933a-fb22ff1c3535",
   "metadata": {},
   "outputs": [
    {
     "data": {
      "text/plain": [
       "[1, 3, 5]"
      ]
     },
     "execution_count": 34,
     "metadata": {},
     "output_type": "execute_result"
    }
   ],
   "source": [
    "odd([1,22,3,2,5,4,0])"
   ]
  },
  {
   "cell_type": "raw",
   "id": "59606767-0882-47f6-9e6b-6e0d6f8159a8",
   "metadata": {},
   "source": [
    "9. Write a Python program to Remove empty List from List?"
   ]
  },
  {
   "cell_type": "code",
   "execution_count": null,
   "id": "741fd3f4-6036-483e-bd4c-740db1365800",
   "metadata": {},
   "outputs": [],
   "source": [
    "def remove_emptylist(lis):\n",
    "    \"\"\" Remove empty List from List\"\"\"\n",
    "    l=[]\n",
    "    for i in range(len(lis)):\n",
    "        if lis[i]!=[]:\n",
    "            l.append(lis[i])\n",
    "            "
   ]
  },
  {
   "cell_type": "raw",
   "id": "f219bbe9-6bec-4351-8a95-6749b314f95e",
   "metadata": {},
   "source": [
    "10. Write a Python program to Cloning or Copying a list?"
   ]
  },
  {
   "cell_type": "code",
   "execution_count": 5,
   "id": "27f41b16-e555-4763-a5cb-f1cbcd2cd353",
   "metadata": {},
   "outputs": [
    {
     "name": "stdout",
     "output_type": "stream",
     "text": [
      "orignal list is  [1, 3, 4, 4, 5, 2]\n",
      "after cloning [1, 3, 4, 4, 5, 2]\n"
     ]
    }
   ],
   "source": [
    "def cloning(lis):\n",
    "    \"\"\"Cloning or Copying a list\"\"\"\n",
    "    clis=lis[:]\n",
    "    return clis\n",
    "l1=[1,3,4,4,5,2]\n",
    "l2=cloning(l1)\n",
    "print(\"orignal list is \",l1)\n",
    "print(\"after cloning\",l2)\n",
    "\n"
   ]
  },
  {
   "cell_type": "code",
   "execution_count": null,
   "id": "b0894761-b012-459d-b01c-7d8d13bb9e85",
   "metadata": {},
   "outputs": [],
   "source": []
  },
  {
   "cell_type": "raw",
   "id": "ae2c218b-9519-448c-8e19-ef56cf6e1862",
   "metadata": {},
   "source": [
    "11. Write a Python program to Count occurrences of an element in a list?"
   ]
  },
  {
   "cell_type": "code",
   "execution_count": null,
   "id": "9d480a0b-b791-43a3-803c-3ee16ac99ba1",
   "metadata": {},
   "outputs": [],
   "source": [
    "def count(list1,n):\n",
    "    cou=0\n",
    "    for i in list1:\n",
    "        if i==n\n",
    "    "
   ]
  },
  {
   "cell_type": "code",
   "execution_count": null,
   "id": "aad5d553-becb-448b-ac60-9e5751eb7e82",
   "metadata": {},
   "outputs": [],
   "source": []
  }
 ],
 "metadata": {
  "kernelspec": {
   "display_name": "Python 3 (ipykernel)",
   "language": "python",
   "name": "python3"
  },
  "language_info": {
   "codemirror_mode": {
    "name": "ipython",
    "version": 3
   },
   "file_extension": ".py",
   "mimetype": "text/x-python",
   "name": "python",
   "nbconvert_exporter": "python",
   "pygments_lexer": "ipython3",
   "version": "3.9.12"
  }
 },
 "nbformat": 4,
 "nbformat_minor": 5
}
