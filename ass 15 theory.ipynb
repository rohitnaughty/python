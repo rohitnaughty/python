{
 "cells": [
  {
   "cell_type": "markdown",
   "id": "19ad69f1-c511-45b0-9526-86640698d7a8",
   "metadata": {},
   "source": [
    "1.How many seconds are in an hour? Use the interactive interpreter as a calculator and multiply the\n",
    "number of seconds in a minute (60) by the number of minutes in an hour (also 60).\n",
    "sol. 60\n"
   ]
  },
  {
   "cell_type": "code",
   "execution_count": null,
   "id": "3ee14faa-546d-481d-a93a-b6fac1ef595a",
   "metadata": {},
   "outputs": [
    {
     "data": {
      "text/plain": [
       "3600"
      ]
     },
     "execution_count": 1,
     "metadata": {},
     "output_type": "execute_result"
    }
   ],
   "source": [
    "60"
   ]
  },
  {
   "cell_type": "markdown",
   "id": "a72b006c-eb54-4a2e-9dfc-afc58c59f820",
   "metadata": {},
   "source": [
    "2. Assign the result from the previous task (seconds in an hour) to a variable called\n",
    "seconds_per_hour.\n"
   ]
  },
  {
   "cell_type": "code",
   "execution_count": 2,
   "id": "58b88418-3c82-449f-ae4b-2cda5c9628a7",
   "metadata": {},
   "outputs": [
    {
     "data": {
      "text/plain": [
       "3600"
      ]
     },
     "execution_count": 2,
     "metadata": {},
     "output_type": "execute_result"
    }
   ],
   "source": [
    "seconds_in_an_hour=60*60\n",
    "seconds_in_an_hour"
   ]
  },
  {
   "cell_type": "markdown",
   "id": "62c4ad0a-1606-42bd-a61a-a9056b6996c2",
   "metadata": {},
   "source": [
    "3. How many seconds do you think there are in a day? Make use of the variables seconds per hour\n",
    "and minutes per hour.\n"
   ]
  },
  {
   "cell_type": "code",
   "execution_count": 5,
   "id": "b0151a45-54dd-482e-b628-9b79cf0d9012",
   "metadata": {},
   "outputs": [
    {
     "data": {
      "text/plain": [
       "86400"
      ]
     },
     "execution_count": 5,
     "metadata": {},
     "output_type": "execute_result"
    }
   ],
   "source": [
    "one_day=24\n",
    "seconds_in_an_day=seconds_in_an_hour *24\n",
    "seconds_in_an_day"
   ]
  },
  {
   "cell_type": "markdown",
   "id": "8dabd9e7-7b9c-4d58-b7ee-ae95521c3de3",
   "metadata": {},
   "source": [
    "4. Calculate seconds per day again, but this time save the result in a variable called seconds_per_day\n"
   ]
  },
  {
   "cell_type": "code",
   "execution_count": 4,
   "id": "73442256-f7ef-43bf-ab36-729d69e7cdce",
   "metadata": {},
   "outputs": [
    {
     "data": {
      "text/plain": [
       "86400"
      ]
     },
     "execution_count": 4,
     "metadata": {},
     "output_type": "execute_result"
    }
   ],
   "source": [
    "seconds_in_an_day=seconds_in_an_hour *24\n",
    "seconds_in_an_day"
   ]
  },
  {
   "cell_type": "markdown",
   "id": "6b438051-73b1-432c-aab7-2175b77c01e8",
   "metadata": {},
   "source": [
    "5. Divide seconds_per_day by seconds_per_hour. Use floating-point (/) division.\n"
   ]
  },
  {
   "cell_type": "code",
   "execution_count": 6,
   "id": "092a635a-5e47-4c59-80b8-ce217297580f",
   "metadata": {},
   "outputs": [
    {
     "data": {
      "text/plain": [
       "24.0"
      ]
     },
     "execution_count": 6,
     "metadata": {},
     "output_type": "execute_result"
    }
   ],
   "source": [
    "seconds_in_an_day/seconds_in_an_hour"
   ]
  },
  {
   "cell_type": "markdown",
   "id": "035e848a-9368-448d-af46-802c49c7f67d",
   "metadata": {},
   "source": [
    "6. Divide seconds_per_day by seconds_per_hour, using integer (//) division. Did this number agree\n",
    "with the floating-point value from the previous question, aside from the final .0?\n"
   ]
  },
  {
   "cell_type": "markdown",
   "id": "eeefd702-d8b0-4de4-a9a5-d48a465a1c25",
   "metadata": {},
   "source": [
    "yes"
   ]
  },
  {
   "cell_type": "code",
   "execution_count": 7,
   "id": "59bf31ec-7808-4b56-b82d-7f681770e773",
   "metadata": {},
   "outputs": [
    {
     "data": {
      "text/plain": [
       "24"
      ]
     },
     "execution_count": 7,
     "metadata": {},
     "output_type": "execute_result"
    }
   ],
   "source": [
    "seconds_in_an_day//seconds_in_an_hour"
   ]
  },
  {
   "cell_type": "markdown",
   "id": "41f1d3ce-37e3-44d3-8e57-5872bac0c585",
   "metadata": {},
   "source": [
    "7. Write a generator, genPrimes, that returns the sequence of prime numbers on successive calls to\n",
    "its next() method: 2, 3, 5, 7, 11, ..."
   ]
  },
  {
   "cell_type": "code",
   "execution_count": 1,
   "id": "6607e930-6ff0-48a4-8ae6-8aa6a3b634e7",
   "metadata": {},
   "outputs": [],
   "source": [
    "def getPrimes():\n",
    "    primes=[]\n",
    "    n=2\n",
    "    last=n\n",
    "    while True:\n",
    "        for i in primes:\n",
    "            if n%i==0:\n",
    "                n+=1\n",
    "                break\n",
    "            else:\n",
    "                primes.append(n)\n",
    "                last=n\n",
    "                n+=1\n",
    "                yield last\n",
    "                "
   ]
  },
  {
   "cell_type": "code",
   "execution_count": 2,
   "id": "af3f60cb-ceaf-4522-92ac-be572554023b",
   "metadata": {},
   "outputs": [
    {
     "data": {
      "text/plain": [
       "<generator object genPrimes at 0x7f0dd3352660>"
      ]
     },
     "execution_count": 2,
     "metadata": {},
     "output_type": "execute_result"
    }
   ],
   "source": [
    "None\n",
    "def genPrimes():\n",
    "    primes=[2]\n",
    "    yield primes[0]\n",
    "    guess=3\n",
    "    while True:\n",
    "        if all(guess%x!=0 for x in primes):\n",
    "            primes.append(guess)\n",
    "        if guess==primes[-1]:\n",
    "            yield primes[-1]\n",
    "        guess +=2\n",
    "genPrimes()\n",
    "        "
   ]
  },
  {
   "cell_type": "code",
   "execution_count": null,
   "id": "5a295656-77ab-4455-b26d-4369491e11aa",
   "metadata": {},
   "outputs": [],
   "source": []
  },
  {
   "cell_type": "code",
   "execution_count": null,
   "id": "2cca4ca9-e661-43c8-949c-70f7d302ee9d",
   "metadata": {},
   "outputs": [],
   "source": []
  },
  {
   "cell_type": "code",
   "execution_count": null,
   "id": "e950f8b0-1184-4b31-ba13-7f6697d7d8ad",
   "metadata": {},
   "outputs": [],
   "source": []
  },
  {
   "cell_type": "code",
   "execution_count": null,
   "id": "e881986c-c285-4053-b1b6-4adbb3a36378",
   "metadata": {},
   "outputs": [],
   "source": []
  },
  {
   "cell_type": "code",
   "execution_count": null,
   "id": "d4aead9e-d483-4d31-9644-833deb9a3a01",
   "metadata": {},
   "outputs": [],
   "source": []
  },
  {
   "cell_type": "code",
   "execution_count": null,
   "id": "272d0840-5efd-45f1-9c58-c08d61062053",
   "metadata": {},
   "outputs": [],
   "source": []
  }
 ],
 "metadata": {
  "kernelspec": {
   "display_name": "Python 3 (ipykernel)",
   "language": "python",
   "name": "python3"
  },
  "language_info": {
   "codemirror_mode": {
    "name": "ipython",
    "version": 3
   },
   "file_extension": ".py",
   "mimetype": "text/x-python",
   "name": "python",
   "nbconvert_exporter": "python",
   "pygments_lexer": "ipython3",
   "version": "3.9.12"
  }
 },
 "nbformat": 4,
 "nbformat_minor": 5
}
