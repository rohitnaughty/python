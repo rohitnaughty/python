{
 "cells": [
  {
   "cell_type": "markdown",
   "id": "850e2399-c486-44ab-b269-a403cc865947",
   "metadata": {},
   "source": [
    "1. Why are functions advantageous to have in your programs?\n",
    "2. When does the code in a function run: when it&#39;s specified or when it&#39;s called?\n",
    "3. What statement creates a function?\n",
    "4. What is the difference between a function and a function call?\n",
    "5. How many global scopes are there in a Python program? How many local scopes?\n",
    "6. What happens to variables in a local scope when the function call returns?\n",
    "7. What is the concept of a return value? Is it possible to have a return value in an expression?\n",
    "8. If a function does not have a return statement, what is the return value of a call to that function?\n",
    "9. How do you make a function variable refer to the global variable?\n",
    "10. What is the data type of None?\n",
    "11. What does the sentence import areallyourpetsnamederic do?\n",
    "12. If you had a bacon() feature in a spam module, what would you call it after importing spam?\n",
    "13. What can you do to save a programme from crashing if it encounters an error?\n",
    "14. What is the purpose of the try clause? What is the purpose of the except clause?"
   ]
  },
  {
   "cell_type": "raw",
   "id": "712a9ba5-3e35-4607-9e65-0d12048e4a70",
   "metadata": {},
   "source": [
    "                             SOLUTIONS"
   ]
  },
  {
   "cell_type": "raw",
   "id": "649058ac-f810-43b1-b7e2-d7b64819c5ca",
   "metadata": {},
   "source": [
    "1-Functions reduce the need for duplicate code . This makes programs shorter ,easier to read, and easier to update"
   ]
  },
  {
   "cell_type": "raw",
   "id": "55948a6c-6ef4-4a05-a4fe-53cb598f79fd",
   "metadata": {},
   "source": [
    "2-When a function is \"called\" the program \"leaves\" the current section of code and begins to execute the first line inside the function "
   ]
  },
  {
   "cell_type": "raw",
   "id": "d98831d3-d1a1-4dbd-9c92-fb5309187b64",
   "metadata": {},
   "source": [
    "3-The \"def\" keyword is a statement for defining a function in python.You start function with the def keyword , specify a name followed by a colon (:) sign.\n",
    "eg-def my_firstfunction():\n",
    "    print(\"this is my first function\")"
   ]
  },
  {
   "cell_type": "raw",
   "id": "a9eb2307-d2c6-4c2d-8295-a3fd34e71f23",
   "metadata": {},
   "source": [
    "4-A function is a block of that does a particular operation and returns . It usually accepts inputs as parameters and returns a result. The parameters are not mandatory.\n",
    "Function call is a code used to pass control to a function.\n",
    "eg.\n",
    "def multiply(a,b):\n",
    "    return a*b\n",
    "b=multiply(6,8)\n",
    "b=48"
   ]
  },
  {
   "cell_type": "raw",
   "id": "4ca1c68c-e520-43af-8f9e-5edd1b54142e",
   "metadata": {},
   "source": [
    "5-At given time duration execution , you'll have at most four active python scopes-local , enclosing, global, and build-in-dependingon wher you are in the code . pn the other hand , you'll always have atleast two active scopes, which are the global and build-in-scope. "
   ]
  },
  {
   "cell_type": "raw",
   "id": "6dda9f27-868b-401d-84c2-0941e9171011",
   "metadata": {},
   "source": [
    "6-When the execution of the function terminate (returns), the local variables are destroyed.Codelens helps you visualize this because the local variables disappear after the function returns.    "
   ]
  },
  {
   "cell_type": "raw",
   "id": "ff310270-3576-4669-9dcf-af88adc678fe",
   "metadata": {},
   "source": [
    "7-A return is a value that a function returns to the calling script or function when it completes its task .A return value can be any one of the  four variables types: handle, integer ,object, or string.The type of value your function returns depends largely on the task it performs."
   ]
  },
  {
   "cell_type": "raw",
   "id": "973857ec-7047-4628-81a0-ca125cd8f195",
   "metadata": {},
   "source": [
    "8-The return value of the called function is undefined."
   ]
  },
  {
   "cell_type": "code",
   "execution_count": null,
   "id": "6110ca9e-3c2d-4f0f-a098-b6a6a8bee501",
   "metadata": {},
   "outputs": [],
   "source": [
    "9-Normally , When you create a variable inside a function, that variable is local,and can only be used inside that function . To create a global variable inside a function , you can use the global keyword , "
   ]
  },
  {
   "cell_type": "code",
   "execution_count": null,
   "id": "b34a6a86-e7e6-47b2-9c78-de2f948f3aa0",
   "metadata": {},
   "outputs": [],
   "source": [
    "10-Nonetype"
   ]
  },
  {
   "cell_type": "raw",
   "id": "f9600e5d-b09b-4264-a186-4162347a859a",
   "metadata": {},
   "source": [
    "11-Normally , when you create a variable inside function , that variables is local, can only be used inside that function . To create a global variable inside a function ,you can use the global variable inside a function , you can use the global keyword.  "
   ]
  },
  {
   "cell_type": "raw",
   "id": "051fc63a-a6ec-42f3-9533-e19e9a43b4c5",
   "metadata": {},
   "source": [
    "12-This function can be called as spam.bacon()"
   ]
  },
  {
   "cell_type": "raw",
   "id": "b7c81d1c-0c29-4a9b-9108-63f004caca4b",
   "metadata": {},
   "source": [
    "13-Using exceptional handling  we can save a programme from crashing if it encounters an error."
   ]
  },
  {
   "cell_type": "raw",
   "id": "84443b9d-82e7-41fd-9e93-505886209693",
   "metadata": {},
   "source": [
    "14-The try block lets you test a block of code for errors. The except block lets you handle the error."
   ]
  },
  {
   "cell_type": "code",
   "execution_count": null,
   "id": "365180a7-bdf5-4b28-b60a-65f60ac77880",
   "metadata": {},
   "outputs": [],
   "source": []
  }
 ],
 "metadata": {
  "kernelspec": {
   "display_name": "Python 3 (ipykernel)",
   "language": "python",
   "name": "python3"
  },
  "language_info": {
   "codemirror_mode": {
    "name": "ipython",
    "version": 3
   },
   "file_extension": ".py",
   "mimetype": "text/x-python",
   "name": "python",
   "nbconvert_exporter": "python",
   "pygments_lexer": "ipython3",
   "version": "3.9.12"
  }
 },
 "nbformat": 4,
 "nbformat_minor": 5
}
