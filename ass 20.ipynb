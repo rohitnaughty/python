{
 "cells": [
  {
   "cell_type": "raw",
   "id": "4282665c-8804-48c9-ba0f-8410dda6ab81",
   "metadata": {},
   "source": [
    "Question1\n",
    "Create a function that takes a list of strings and integers, and filters out the list so that it\n",
    "returns a list of integers only.\n",
    "Examples\n",
    "filter_list([1, 2, 3, \"a\", \"b\", 4]) ➞ [1, 2, 3, 4]\n",
    "filter_list([\"A\", 0, \"Edabit\", 1729,\"Python\", \"1729\"]) ➞ [0, 1729]\n",
    "filter_list([\"Nothing\", \"here\"]) ➞ []"
   ]
  },
  {
   "cell_type": "code",
   "execution_count": 3,
   "id": "59080784-c1d3-4961-a3dc-5ecccf18557a",
   "metadata": {},
   "outputs": [
    {
     "data": {
      "text/plain": [
       "[0, 1729]"
      ]
     },
     "execution_count": 3,
     "metadata": {},
     "output_type": "execute_result"
    }
   ],
   "source": [
    "def filter_list(l):\n",
    "    \"\"\"function that takes a list of strings and integers, and filters out the list so that it\n",
    "returns a list of integers only. \"\"\"\n",
    "    new=[]\n",
    "    for i in l:\n",
    "        if type(i)==int:\n",
    "            new.append(i)\n",
    "    return new\n",
    "filter_list([\"A\", 0, \"Edabit\", 1729,\"Python\", \"1729\"])\n",
    "\n",
    "        "
   ]
  },
  {
   "cell_type": "raw",
   "id": "38f4a092-3d83-44d4-b92e-918c867c1cb6",
   "metadata": {},
   "source": [
    "Question2\n",
    "Given a list of numbers, create a function which returns the list but with each element&#39;s\n",
    "index in the list added to itself. This means you add 0 to the number at index 0, add 1 to the\n",
    "number at index 1, etc...\n",
    "Examples\n",
    "add_indexes([0, 0, 0, 0, 0]) ➞ [0, 1, 2, 3, 4]\n",
    "add_indexes([1, 2, 3, 4, 5]) ➞ [1, 3, 5, 7, 9]\n",
    "add_indexes([5, 4, 3, 2, 1]) ➞ [5, 5, 5, 5, 5]"
   ]
  },
  {
   "cell_type": "code",
   "execution_count": 21,
   "id": "37d20888-7baf-402e-a1a3-ed695dc9310f",
   "metadata": {},
   "outputs": [
    {
     "data": {
      "text/plain": [
       "[0, 1, 2, 3, 4]"
      ]
     },
     "execution_count": 21,
     "metadata": {},
     "output_type": "execute_result"
    }
   ],
   "source": [
    "def add_indexes(l):\n",
    "    m=[]\n",
    "    for idx,item in enumerate(l):\n",
    "          sum = idx+item\n",
    "          m.append(sum)\n",
    "    return m\n",
    "add_indexes([0, 0, 0, 0, 0])\n",
    "        "
   ]
  },
  {
   "cell_type": "code",
   "execution_count": 19,
   "id": "c5aeb19a-75a8-4fbd-a7ba-3be5309b9547",
   "metadata": {},
   "outputs": [
    {
     "name": "stdout",
     "output_type": "stream",
     "text": [
      "[1, 3, 5]\n"
     ]
    }
   ],
   "source": [
    "def add_indexes(l):\n",
    "    new=[]\n",
    "    for i in l:\n",
    "        s=i+(l.index(i))\n",
    "        new.append(s)\n",
    "    return new\n",
    "add_indexes([0, 0, 0, 0, 0])\n"
   ]
  },
  {
   "cell_type": "code",
   "execution_count": 17,
   "id": "07d5d151-a555-42ca-9877-54a95f3edaf2",
   "metadata": {},
   "outputs": [],
   "source": [
    "a = [1, 2, 3]\n",
    "\n",
    "b = [(idx,item) for idx,item in enumerate(a)] "
   ]
  },
  {
   "cell_type": "raw",
   "id": "aa4e2ff9-ed21-41c6-b913-fd7fb7ed2f7d",
   "metadata": {},
   "source": [
    "Question3\n",
    "Create a function that takes the height and radius of a cone as arguments and returns the\n",
    "volume of the cone rounded to the nearest hundredth. See the resources tab for the formula.\n",
    "\n",
    "Examples\n",
    "cone_volume(3, 2) ➞ 12.57\n",
    "cone_volume(15, 6) ➞ 565.49\n",
    "cone_volume(18, 0) ➞ 0"
   ]
  },
  {
   "cell_type": "code",
   "execution_count": 16,
   "id": "185d59d9-dcea-4f81-84d3-6077b2f395ad",
   "metadata": {},
   "outputs": [
    {
     "data": {
      "text/plain": [
       "0.0"
      ]
     },
     "execution_count": 16,
     "metadata": {},
     "output_type": "execute_result"
    }
   ],
   "source": [
    "def cone_volume(h,r):\n",
    "    \"\"\"function that takes the height and radius of a cone as arguments and returns the\n",
    "volume of the cone rounded to the nearest hundredth. See the resources tab for the formula. \"\"\"\n",
    "    volume=((1/3)*(22/7)*(r**2)*h)\n",
    "    return round(volume,2)\n",
    "cone_volume(3, 0)\n",
    "    "
   ]
  },
  {
   "cell_type": "raw",
   "id": "2f33b671-3773-4408-9d1d-cf0a0d0378a7",
   "metadata": {},
   "source": [
    "Question4\n",
    "This Triangular Number Sequence is generated from a pattern of dots that form a triangle.\n",
    "The first 5 numbers of the sequence, or dots, are:\n",
    "1, 3, 6, 10, 15\n",
    "This means that the first triangle has just one dot, the second one has three dots, the third one\n",
    "has 6 dots and so on.\n",
    "Write a function that gives the number of dots with its corresponding triangle number of the\n",
    "sequence.\n",
    "Examples\n",
    "triangle(1) ➞ 1\n",
    "triangle(6) ➞ 21\n",
    "triangle(215) ➞ 23220"
   ]
  },
  {
   "cell_type": "code",
   "execution_count": null,
   "id": "47ec776f-fce3-4e82-ba97-b103c0aff994",
   "metadata": {},
   "outputs": [
    {
     "data": {
      "text/plain": [
       "23220"
      ]
     },
     "execution_count": 9,
     "metadata": {},
     "output_type": "execute_result"
    }
   ],
   "source": [
    "def triangle(n):\n",
    "    sum=0\n",
    "    \"\"\" This Triangular Number Sequence is generated from a pattern of dots that form a triangle.\"\"\"\n",
    "    for i in range(1,n+1):\n",
    "        sum+=i\n",
    "    return sum\n",
    "triangle(215)        \n",
    "    \n"
   ]
  },
  {
   "cell_type": "raw",
   "id": "bd2cc6ee-06fe-43fc-aac1-9f707b5b11cc",
   "metadata": {},
   "source": [
    "Question5\n",
    "Create a function that takes a list of numbers between 1 and 10 (excluding one number) and\n",
    "returns the missing number.\n",
    "Examples\n",
    "missing_num([1, 2, 3, 4, 6, 7, 8, 9, 10]) ➞ 5\n",
    "missing_num([7, 2, 3, 6, 5, 9, 1, 4, 8]) ➞ 10\n",
    "missing_num([10, 5, 1, 2, 4, 6, 8, 3, 9]) ➞ 7"
   ]
  },
  {
   "cell_type": "code",
   "execution_count": 24,
   "id": "4e7deff3-faf3-4048-b4bb-9e3439e5f326",
   "metadata": {},
   "outputs": [],
   "source": [
    "def missing_num(l):\n",
    "    m=[1,2,3,4,5,6,7,8,9,10]\n",
    "    for i in m:\n",
    "        if i in l:\n",
    "            pass\n",
    "        else:\n",
    "            return i\n",
    "             \n",
    "    "
   ]
  },
  {
   "cell_type": "code",
   "execution_count": 25,
   "id": "2afc30dd-cff5-4d89-9a94-6d0727450198",
   "metadata": {},
   "outputs": [
    {
     "data": {
      "text/plain": [
       "5"
      ]
     },
     "execution_count": 25,
     "metadata": {},
     "output_type": "execute_result"
    }
   ],
   "source": [
    "missing_num([1, 2, 3, 4, 6, 7, 8, 9, 10])"
   ]
  },
  {
   "cell_type": "code",
   "execution_count": null,
   "id": "257fe81b-28dd-4bda-b269-cc11f96da4e3",
   "metadata": {},
   "outputs": [],
   "source": []
  }
 ],
 "metadata": {
  "kernelspec": {
   "display_name": "Python 3 (ipykernel)",
   "language": "python",
   "name": "python3"
  },
  "language_info": {
   "codemirror_mode": {
    "name": "ipython",
    "version": 3
   },
   "file_extension": ".py",
   "mimetype": "text/x-python",
   "name": "python",
   "nbconvert_exporter": "python",
   "pygments_lexer": "ipython3",
   "version": "3.9.12"
  }
 },
 "nbformat": 4,
 "nbformat_minor": 5
}
