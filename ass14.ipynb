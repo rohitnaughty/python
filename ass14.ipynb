{
 "cells": [
  {
   "cell_type": "raw",
   "id": "a699b1cc-8950-4911-8595-3eedcd381eb3",
   "metadata": {},
   "source": [
    "Define a class with a generator which can iterate the numbers, which are divisible by\n",
    "7, between a given range 0 and n."
   ]
  },
  {
   "cell_type": "code",
   "execution_count": 2,
   "id": "15bef511-9475-42e1-bb56-1547ea4ee4ee",
   "metadata": {},
   "outputs": [],
   "source": [
    "def divi(num):\n",
    "    for i in range (0, num):\n",
    "        if i%7==0:\n",
    "            print(i,\"True\")\n",
    "        else:\n",
    "            print(i,\"False\")\n",
    "    "
   ]
  },
  {
   "cell_type": "code",
   "execution_count": 3,
   "id": "6788e1e2-b94f-44db-8d23-1d36b3644db7",
   "metadata": {},
   "outputs": [
    {
     "name": "stdout",
     "output_type": "stream",
     "text": [
      "0 True\n",
      "1 False\n",
      "2 False\n",
      "3 False\n",
      "4 False\n",
      "5 False\n",
      "6 False\n",
      "7 True\n",
      "8 False\n",
      "9 False\n"
     ]
    }
   ],
   "source": [
    "divi(10)"
   ]
  },
  {
   "cell_type": "raw",
   "id": "65a48112-8e7b-4a64-a95d-1d3f6be3a0bc",
   "metadata": {},
   "source": [
    "Question 2:\n",
    "Write a program to compute the frequency of the words from the input. The output\n",
    "should output after sorting the key alphanumerically.\n",
    "Suppose the following input is supplied to the program:\n",
    "New to Python or choosing between Python 2 and Python 3? Read Python 2 or\n",
    "Python 3.\n",
    "Then, the output should be:\n",
    "2:2\n",
    "3.:1\n",
    "3?:1\n",
    "New:1\n",
    "Python:5\n",
    "Read:1\n",
    "and:1\n",
    "between:1\n",
    "choosing:1\n",
    "or:2\n",
    "to:1"
   ]
  },
  {
   "cell_type": "code",
   "execution_count": 20,
   "id": "405f900e-557c-441b-8530-f985301c02bd",
   "metadata": {},
   "outputs": [
    {
     "name": "stdin",
     "output_type": "stream",
     "text": [
      "enter a input New to Python or choosing between Python 2 and Python 3? Read Python 2 or Python 3.\n"
     ]
    },
    {
     "name": "stdout",
     "output_type": "stream",
     "text": [
      "2 2\n",
      "3. 1\n",
      "3? 1\n",
      "New 1\n",
      "Python 5\n",
      "Read 1\n",
      "and 1\n",
      "between 1\n",
      "choosing 1\n",
      "or 2\n",
      "to 1\n"
     ]
    }
   ],
   "source": [
    "Input=input(\"enter a input\")\n",
    "l=str.split(Input)\n",
    "unique=set(l)\n",
    "sort_uniquelist=list(unique)\n",
    "sort_uniquelist.sort()\n",
    "for words in sort_uniquelist:\n",
    "    print(words,l.count(words))\n",
    "\n"
   ]
  },
  {
   "cell_type": "raw",
   "id": "f7231441-2706-4504-a518-e6287bea2746",
   "metadata": {},
   "source": [
    "Question 3:\n",
    "\n",
    "Define a class Person and its two child classes: Male and Female. All classes have a\n",
    "method \"getGender\" which can print \"Male\" for Male class and \"Female\" for Female\n",
    "class."
   ]
  },
  {
   "cell_type": "code",
   "execution_count": 3,
   "id": "deab1d15-0677-4c57-88bf-de380d8e5027",
   "metadata": {},
   "outputs": [
    {
     "name": "stdout",
     "output_type": "stream",
     "text": [
      "male\n",
      "Female\n"
     ]
    }
   ],
   "source": [
    "class person(object):\n",
    "    def getgender(self):\n",
    "        return \"unknown\"\n",
    "class Male(person):\n",
    "    def getgender(self):\n",
    "        return \"male\"\n",
    "class Female(person):\n",
    "    def getgender(self):\n",
    "        return \"Female\"\n",
    "aMale=Male()\n",
    "aFemale=Female()    \n",
    "print(aMale.getgender())\n",
    "print(aFemale.getgender())"
   ]
  },
  {
   "cell_type": "raw",
   "id": "442a86b3-851f-4945-a3fa-f6b335d8dc25",
   "metadata": {},
   "source": [
    "Question 4:\n",
    "Please write a program to generate all sentences where subject is in [\"I\", \"You\"] and\n",
    "verb is in [\"Play\", \"Love\"] and the object is in [\"Hockey\",\"Football\"]."
   ]
  },
  {
   "cell_type": "code",
   "execution_count": 7,
   "id": "15240da3-eae9-4098-bd6b-f56b01374401",
   "metadata": {},
   "outputs": [
    {
     "name": "stdout",
     "output_type": "stream",
     "text": [
      "I Play Hockey\n",
      "I Play Football\n",
      "I Love Hockey\n",
      "I Love Football\n",
      "You Play Hockey\n",
      "You Play Football\n",
      "You Love Hockey\n",
      "You Love Football\n"
     ]
    }
   ],
   "source": [
    "sub=[\"I\",\"You\"]\n",
    "verb=[\"Play\",\"Love\"]\n",
    "Object=[\"Hockey\",\"Football\"]\n",
    "for i in sub:\n",
    "    for j in verb:\n",
    "        for k in Object:\n",
    "            print(i+\" \"+j+\" \"+k)"
   ]
  },
  {
   "cell_type": "raw",
   "id": "7a3c595c-c10c-4737-88e3-550334b8a3b2",
   "metadata": {},
   "source": [
    "Question 5:\n",
    "Please write a program to compress and decompress the string \"hello world!hello\n",
    "world!hello world!hello world!\"."
   ]
  },
  {
   "cell_type": "code",
   "execution_count": 4,
   "id": "608bf3e1-1e6a-4949-99d8-7bfb7171be86",
   "metadata": {},
   "outputs": [
    {
     "name": "stdout",
     "output_type": "stream",
     "text": [
      "b'x\\x9c\\xcbH\\xcd\\xc9\\xc9W(\\xcf/\\xcaIQ\\xcc \\x82\\r\\x00\\xbd[\\x11\\xf5'\n",
      "b'hello world!hello world!hello world!hello world!'\n"
     ]
    }
   ],
   "source": [
    "s = 'hello world!hello world!hello world!hello world!'\n",
    "# In Python 3 zlib.compress() accepts only DataType <bytes>\n",
    "y = bytes(s, 'utf-8')\n",
    "x = zlib.compress(y)\n",
    "print(x)\n",
    "print(zlib.decompress(x))\n"
   ]
  },
  {
   "cell_type": "raw",
   "id": "9ca9a211-3c62-4ff3-bdc8-1f86a18dd371",
   "metadata": {},
   "source": [
    "Question 6:\n",
    "Please write a binary search function which searches an item in a sorted list. The\n",
    "function should return the index of element to be searched in the list."
   ]
  },
  {
   "cell_type": "code",
   "execution_count": 5,
   "id": "41997889-beb2-49f4-8ed8-49c4792cacef",
   "metadata": {},
   "outputs": [
    {
     "data": {
      "text/plain": [
       "2"
      ]
     },
     "execution_count": 5,
     "metadata": {},
     "output_type": "execute_result"
    }
   ],
   "source": [
    "def binary_search(l,x):\n",
    "    new_l=sorted(l)\n",
    "    for i in new_l:\n",
    "        if i==x:\n",
    "            return l.index(i)\n",
    "        \n",
    "binary_search([1,23,9,6,8,6,841,22,5],9)"
   ]
  },
  {
   "cell_type": "code",
   "execution_count": null,
   "id": "cfe13deb-42c4-4c0c-af55-41733c4069bf",
   "metadata": {},
   "outputs": [],
   "source": []
  },
  {
   "cell_type": "code",
   "execution_count": null,
   "id": "2d7804b5-f441-4a6d-b41c-1d68622a76c2",
   "metadata": {},
   "outputs": [],
   "source": []
  }
 ],
 "metadata": {
  "kernelspec": {
   "display_name": "Python 3 (ipykernel)",
   "language": "python",
   "name": "python3"
  },
  "language_info": {
   "codemirror_mode": {
    "name": "ipython",
    "version": 3
   },
   "file_extension": ".py",
   "mimetype": "text/x-python",
   "name": "python",
   "nbconvert_exporter": "python",
   "pygments_lexer": "ipython3",
   "version": "3.9.12"
  }
 },
 "nbformat": 4,
 "nbformat_minor": 5
}
