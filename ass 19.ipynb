{
 "cells": [
  {
   "cell_type": "raw",
   "id": "07ef3cc3-570e-4899-9c79-87e3dd196f9b",
   "metadata": {},
   "source": [
    "Question1\n",
    "Create a function that takes a string and returns a string in which each character is repeated\n",
    "once.\n",
    "Examples\n",
    "double_char(\"String\") ➞ \"SSttrriinngg\"\n",
    "double_char(\"Hello World!\") ➞ \"HHeelllloo WWoorrlldd!!\"\n",
    "double_char(\"1234!_ \") ➞ \"11223344!!__ \""
   ]
  },
  {
   "cell_type": "code",
   "execution_count": 2,
   "id": "80c0b5c4-9bf1-4d5f-81be-bab6044bd437",
   "metadata": {},
   "outputs": [
    {
     "data": {
      "text/plain": [
       "'SSttrriinngg'"
      ]
     },
     "execution_count": 2,
     "metadata": {},
     "output_type": "execute_result"
    }
   ],
   "source": [
    "def double_char(string):\n",
    "    result=\"\"\n",
    "    for i in string:\n",
    "        result+=i*2\n",
    "    return result\n",
    "double_char(\"String\")"
   ]
  },
  {
   "cell_type": "raw",
   "id": "3b2a34f4-4de1-43fe-a58b-35bede52adf5",
   "metadata": {},
   "source": [
    "Question2\n",
    "Create a function that reverses a boolean value and returns the string \"boolean expected\"\n",
    "if another variable type is given.\n",
    "Examples\n",
    "reverse(True) ➞ False\n",
    "reverse(False) ➞ True\n",
    "reverse(0) ➞\"boolean expected\"\n",
    "reverse(None) ➞ \"boolean expected\""
   ]
  },
  {
   "cell_type": "code",
   "execution_count": 4,
   "id": "f62c6a73-83d2-4d64-8552-c8f3d188203e",
   "metadata": {},
   "outputs": [
    {
     "data": {
      "text/plain": [
       "'boolean expected'"
      ]
     },
     "execution_count": 4,
     "metadata": {},
     "output_type": "execute_result"
    }
   ],
   "source": [
    "def reverse(Input):\n",
    "    \"\"\" function that reverses a boolean value and returns the string \"boolean expected\"\n",
    "if another variable type is given\"\"\"\n",
    "    if type(Input)==bool:\n",
    "        if Input==True:\n",
    "            return False\n",
    "        else :\n",
    "            return True\n",
    "    else :\n",
    "        return \"boolean expected\"\n",
    "reverse(0)"
   ]
  },
  {
   "cell_type": "raw",
   "id": "d70e930a-1675-41f7-bb9c-3db1eec4e4fe",
   "metadata": {},
   "source": [
    "Question3\n",
    "Create a function that returns the thickness (in meters) of a piece of paper after folding it n\n",
    "number of times. The paper starts off with a thickness of 0.5mm.\n",
    "Examples\n",
    "num_layers(1) ➞ \"0.001m\"\n",
    "# Paper folded once is 1mm (equal to 0.001m)\n",
    "num_layers(4) ➞\"0.008m\"\n",
    "# Paper folded 4 times is 8mm (equal to 0.008m)\n",
    "num_layers(21) ➞ \"1048.576m\"\n",
    "# Paper folded 21 times is 1048576mm (equal to 1048.576m)"
   ]
  },
  {
   "cell_type": "code",
   "execution_count": 14,
   "id": "875a69a3-c4de-452b-a6dc-05aa758994ad",
   "metadata": {},
   "outputs": [
    {
     "data": {
      "text/plain": [
       "'0.012m'"
      ]
     },
     "execution_count": 14,
     "metadata": {},
     "output_type": "execute_result"
    }
   ],
   "source": [
    "def num_layers(n):\n",
    "    result=1\n",
    "    if n==1:\n",
    "        return \"0.001m\"\n",
    "    for i in range(2,n+1):\n",
    "        result*=i\n",
    "    return (f\"{result*0.0005}m\")\n",
    "num_layers(4) "
   ]
  },
  {
   "cell_type": "code",
   "execution_count": 16,
   "id": "d321ee5e-e352-47d2-9eac-370deb657c86",
   "metadata": {},
   "outputs": [
    {
     "data": {
      "text/plain": [
       "0.042"
      ]
     },
     "execution_count": 16,
     "metadata": {},
     "output_type": "execute_result"
    }
   ],
   "source": [
    "42*0.001"
   ]
  },
  {
   "cell_type": "raw",
   "id": "b9a83f56-851d-41f7-a801-82d935cc3a21",
   "metadata": {},
   "source": [
    "Question4\n",
    "\n",
    "Create a function that takes a single string as argument and returns an ordered list containing\n",
    "the indices of all capital letters in the string.\n",
    "Examples\n",
    "index_of_caps(\"eDaBiT\") ➞ [1, 3, 5]\n",
    "index_of_caps(\"eQuINoX\") ➞ [1, 3, 4, 6]\n",
    "index_of_caps(\"determine\") ➞ []\n",
    "index_of_caps(\"STRIKE\") ➞ [0, 1, 2, 3, 4, 5]\n",
    "index_of_caps(\"sUn\") ➞ [1]"
   ]
  },
  {
   "cell_type": "code",
   "execution_count": 7,
   "id": "0ea77624-590d-4228-b78b-9476ac886206",
   "metadata": {},
   "outputs": [
    {
     "data": {
      "text/plain": [
       "[0, 1, 2, 3, 4, 5]"
      ]
     },
     "execution_count": 7,
     "metadata": {},
     "output_type": "execute_result"
    }
   ],
   "source": [
    "def index_of_caps(string):\n",
    "    l=[]\n",
    "    for i in string:\n",
    "        if i.isupper() is True:\n",
    "            l.append(string.index(i))\n",
    "    return l\n",
    "index_of_caps(\"STRIKE\")            \n"
   ]
  },
  {
   "cell_type": "code",
   "execution_count": null,
   "id": "45e9a8e0-9b51-4879-817c-71b05c070ec1",
   "metadata": {},
   "outputs": [],
   "source": [
    "Question5\n",
    "Using list comprehensions, create a function that finds all even numbers from 1 to the given\n",
    "number.\n",
    "Examples\n",
    "find_even_nums(8) ➞ [2, 4, 6, 8]\n",
    "find_even_nums(4) ➞ [2, 4]\n",
    "find_even_nums(2) ➞ [2]"
   ]
  },
  {
   "cell_type": "code",
   "execution_count": 8,
   "id": "22ec7d24-23b8-419c-8787-4ad3fce54a32",
   "metadata": {},
   "outputs": [
    {
     "data": {
      "text/plain": [
       "[2, 4, 6, 8]"
      ]
     },
     "execution_count": 8,
     "metadata": {},
     "output_type": "execute_result"
    }
   ],
   "source": [
    "def find_even_nums(n):\n",
    "    l=[]\n",
    "    for i in range(1,n+1):\n",
    "        if i%2==0:\n",
    "            l.append(i)\n",
    "    return l\n",
    "find_even_nums(8)"
   ]
  },
  {
   "cell_type": "code",
   "execution_count": null,
   "id": "7af523fc-ba0e-4f44-96d1-3aaa38dbfc1b",
   "metadata": {},
   "outputs": [],
   "source": []
  }
 ],
 "metadata": {
  "kernelspec": {
   "display_name": "Python 3 (ipykernel)",
   "language": "python",
   "name": "python3"
  },
  "language_info": {
   "codemirror_mode": {
    "name": "ipython",
    "version": 3
   },
   "file_extension": ".py",
   "mimetype": "text/x-python",
   "name": "python",
   "nbconvert_exporter": "python",
   "pygments_lexer": "ipython3",
   "version": "3.9.12"
  }
 },
 "nbformat": 4,
 "nbformat_minor": 5
}
