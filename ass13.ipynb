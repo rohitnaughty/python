{
 "cells": [
  {
   "cell_type": "raw",
   "id": "babcc2e6-5662-4426-91f8-e54e291bfa70",
   "metadata": {},
   "source": [
    "Write a program that calculates and prints the value according to the given formula:\n",
    "Q = Square root of [(2 * C * D)/H]\n",
    "Following are the fixed values of C and H:\n",
    "C is 50. H is 30.\n",
    "D is the variable whose values should be input to your program in a comma-separated\n",
    "sequence.\n",
    "Example\n",
    "Let us assume the following comma separated input sequence is given to the program:\n",
    "100,150,180\n",
    "The output of the program should be:\n",
    "18,22,24"
   ]
  },
  {
   "cell_type": "code",
   "execution_count": 31,
   "id": "47f3d078-7885-4520-ab01-7708f20ebd7e",
   "metadata": {},
   "outputs": [
    {
     "name": "stdin",
     "output_type": "stream",
     "text": [
      "enter D:  100,150,180\n"
     ]
    },
    {
     "name": "stdout",
     "output_type": "stream",
     "text": [
      "18,22,24\n"
     ]
    }
   ],
   "source": [
    "D=input(\"enter D: \")\n",
    "D=D.split(\",\")\n",
    "result_list=[]\n",
    "for i in D:\n",
    "    Q=round((2*50*int(i)/30)**.5)\n",
    "    result_list.append(str(Q))\n",
    "print((\",\").join(result_list))\n",
    "    "
   ]
  },
  {
   "cell_type": "raw",
   "id": "8a1c3c39-0a35-4c09-9fff-23f6af020bb5",
   "metadata": {},
   "source": [
    "Question 2:\n",
    "Write a program which takes 2 digits, X,Y as input and generates a 2-dimensional array. The\n",
    "element value in the i-th row and j-th column of the array should be i*j.\n",
    "Note: i=0,1.., X-1; j=0,1,¡Y-1.\n",
    "Example\n",
    "Suppose the following inputs are given to the program:\n",
    "3,5\n",
    "Then, the output of the program should be:\n",
    "[[0, 0, 0, 0, 0], [0, 1, 2, 3, 4], [0, 2, 4, 6, 8]]"
   ]
  },
  {
   "cell_type": "code",
   "execution_count": 18,
   "id": "1c69dfe8-740a-4568-8df6-c0ff5dd69474",
   "metadata": {},
   "outputs": [
    {
     "name": "stdin",
     "output_type": "stream",
     "text": [
      "enter avalue of  x : 3\n",
      "enter avalue of  y : 5\n"
     ]
    },
    {
     "name": "stdout",
     "output_type": "stream",
     "text": [
      "[[0, 0, 0, 0, 0], [0, 1, 2, 3, 4], [0, 2, 4, 6, 8]]\n"
     ]
    }
   ],
   "source": [
    "x=int(input(\"enter avalue of  x :\"))\n",
    "y=int(input(\"enter avalue of  y :\"))\n",
    "res=[]\n",
    "for i in range(0,x):   \n",
    "    sub = []\n",
    "    for j in range(0,y):\n",
    "        sub.append(0)\n",
    "    res.append(sub)\n",
    "for i in range(0,3):\n",
    "    for j in range(0,5):\n",
    "        res[i][j]=i*j\n",
    "print(c)\n"
   ]
  },
  {
   "cell_type": "raw",
   "id": "eb19b036-b3da-42cf-8e3a-001faf90ab75",
   "metadata": {},
   "source": [
    "3  -Write a program that accepts a comma separated sequence of words as input and prints the\n",
    "    words in a comma-separated sequence after sorting them alphabetically.\n",
    "    Suppose the following input is supplied to the program:\n",
    "    without,hello,bag,world\n",
    "    Then, the output should be:\n",
    "    bag,hello,without,world"
   ]
  },
  {
   "cell_type": "code",
   "execution_count": 12,
   "id": "841b08e7-b200-4dc1-8f43-f6685d8819da",
   "metadata": {},
   "outputs": [
    {
     "name": "stdin",
     "output_type": "stream",
     "text": [
      "enter input :  without,hello,bag,world\n"
     ]
    },
    {
     "name": "stdout",
     "output_type": "stream",
     "text": [
      "bag,hello,without,world\n"
     ]
    }
   ],
   "source": [
    "Input=input(\"enter input : \")\n",
    "l=Input.split(\",\")\n",
    "l.sort()\n",
    "print((\",\").join(l))"
   ]
  },
  {
   "cell_type": "raw",
   "id": "ece1bb54-5dfc-46f3-b1db-f7c5974902b0",
   "metadata": {},
   "source": [
    "Question 4:\n",
    "Write a program that accepts a sequence of whitespace separated words as input and prints\n",
    "the words after removing all duplicate words and sorting them alphanumerically.\n",
    "Suppose the following input is supplied to the program:\n",
    "hello world and practice makes perfect and hello world again\n",
    "Then, the output should be:\n",
    "again and hello makes perfect practice world"
   ]
  },
  {
   "cell_type": "code",
   "execution_count": 15,
   "id": "679c7de3-59db-4c5a-8888-bdbb68b3f78d",
   "metadata": {},
   "outputs": [
    {
     "name": "stdin",
     "output_type": "stream",
     "text": [
      "enter input again and hello makes perfect practice world\n"
     ]
    },
    {
     "name": "stdout",
     "output_type": "stream",
     "text": [
      "again and hello makes perfect practice world\n"
     ]
    }
   ],
   "source": [
    "inp=input(\"enter input\")\n",
    "l=inp.split(\" \")\n",
    "result=set(l)\n",
    "result2=list(result)\n",
    "result2.sort()\n",
    "print((\" \").join(result2))\n",
    "\n"
   ]
  },
  {
   "cell_type": "raw",
   "id": "0dcd8cf5-ddbc-4429-888f-fb7e28c1e8b4",
   "metadata": {},
   "source": [
    "Question 5:\n",
    "Write a program that accepts a sentence and calculate the number of letters and digits.\n",
    "Suppose the following input is supplied to the program:\n",
    "hello world! 123\n",
    "Then, the output should be:\n",
    "LETTERS 10\n",
    "\n",
    "DIGITS 3"
   ]
  },
  {
   "cell_type": "code",
   "execution_count": 13,
   "id": "7511cbc8-5ec3-446d-8773-62981a18fee4",
   "metadata": {},
   "outputs": [
    {
     "name": "stdin",
     "output_type": "stream",
     "text": [
      "enter a string          1\n"
     ]
    },
    {
     "name": "stdout",
     "output_type": "stream",
     "text": [
      "DIGITS:  1\n",
      "LETTERS:  0\n"
     ]
    }
   ],
   "source": [
    "n=input(\"enter a string\")\n",
    "letters=0\n",
    "digit=0\n",
    "for i in n:\n",
    "    if i.isnumeric():\n",
    "        digit+=1\n",
    "    elif i==\" \":\n",
    "        pass\n",
    "    else:\n",
    "        letters+=1\n",
    "        \n",
    "print(\"DIGITS: \",digit)\n",
    "print(\"LETTERS: \",letters)\n",
    "        "
   ]
  },
  {
   "cell_type": "raw",
   "id": "ac67cc50-8ccb-4200-b205-0fe3873b4a1c",
   "metadata": {},
   "source": [
    "DIGITS 3\n",
    "\n",
    "Question 6:\n",
    "A website requires the users to input username and password to register. Write a program to\n",
    "check the validity of password input by users.\n",
    "Following are the criteria for checking the password:\n",
    "    1. At least 1 letter between [a-z]\n",
    "2. At least 1 number between [0-9]\n",
    "1. At least 1 letter between [A-Z]\n",
    "3. At least 1 character from [$#@]\n",
    "4. Minimum length of transaction password: 6\n",
    "5. Maximum length of transaction password: 12\n",
    "Your program should accept a sequence of comma separated passwords and will check them\n",
    "according to the above criteria. Passwords that matchthe criteria are to be printed, each\n",
    "separated by a comma.\n",
    "Example\n",
    "If the following passwords are given as input to the program:\n",
    "ABd1234@1,a F1#,2w3E*,2We3345\n",
    "Then, the output of the program should be:\n",
    "                              ABd1234@1"
   ]
  },
  {
   "cell_type": "code",
   "execution_count": null,
   "id": "4b5f5637-205a-401d-8b98-851539bc7071",
   "metadata": {},
   "outputs": [],
   "source": [
    "username=input(\"enter D: \")\n",
    "username=username.split(\",\")\n",
    "result_list=[]\n",
    "for i in username:\n",
    "    if len(i)<6 or len(i)>12:\n",
    "        continue\n",
    "    if not re.search(\"([a-z])\",i):\n",
    "        continue\n",
    "    if not re.search(\"([$#@])\",i):\n",
    "        continue\n",
    "    if not re.search(\"([A-Z])\",i):\n",
    "        continue\n",
    "    if not re.search(\"([0-9])\",i):\n",
    "        continue\n",
    "    else:\n",
    "        result_list.append(i)\n",
    "print((\",\").join(result_list))\n",
    "    \n",
    "    \n",
    "    "
   ]
  },
  {
   "cell_type": "code",
   "execution_count": null,
   "id": "24b0d195-1a6b-4230-88ad-1f954bd4856d",
   "metadata": {},
   "outputs": [],
   "source": []
  },
  {
   "cell_type": "code",
   "execution_count": null,
   "id": "fa50dfdd-35ce-4769-88b8-ccfb3eb033a5",
   "metadata": {},
   "outputs": [],
   "source": []
  }
 ],
 "metadata": {
  "kernelspec": {
   "display_name": "Python 3 (ipykernel)",
   "language": "python",
   "name": "python3"
  },
  "language_info": {
   "codemirror_mode": {
    "name": "ipython",
    "version": 3
   },
   "file_extension": ".py",
   "mimetype": "text/x-python",
   "name": "python",
   "nbconvert_exporter": "python",
   "pygments_lexer": "ipython3",
   "version": "3.9.12"
  }
 },
 "nbformat": 4,
 "nbformat_minor": 5
}
