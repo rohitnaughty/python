{
 "cells": [
  {
   "cell_type": "raw",
   "id": "52069c27-511a-42db-a0aa-2803085b03f3",
   "metadata": {},
   "source": [
    "Question1. Write a function that stutters a word as if someone is struggling to read it. The\n",
    "first two letters are repeated twice with an ellipsis ... and space after each, and then the\n",
    "word is pronounced with a question mark ?.\n",
    "Examples\n",
    "stutter(\"incredible\") ➞ \"in... in... incredible?\"\n",
    "stutter(\"enthusiastic\") ➞ \"en... en... enthusiastic?\"\n",
    "stutter(\"outstanding\") ➞ \"ou... ou... outstanding?\"\n",
    "\n",
    "Hint :- Assume all input is in lower case and at least two characters long."
   ]
  },
  {
   "cell_type": "code",
   "execution_count": 6,
   "id": "8a1fd37c-ed22-4cb4-ae5f-23a2e5bbd0c2",
   "metadata": {},
   "outputs": [
    {
     "name": "stdout",
     "output_type": "stream",
     "text": [
      "in...in...incredible?\n"
     ]
    }
   ],
   "source": [
    "def stutter(string):\n",
    "    \"\"\" Examples\n",
    "stutter(\"incredible\") ➞ \"in... in... incredible?\"\"\"\"\n",
    "    print(string[0:2]+\"...\"+string[0:2]+\"...\"+string+\"?\")\n",
    "stutter(\"incredible\")"
   ]
  },
  {
   "cell_type": "raw",
   "id": "248ddf4e-9d52-4a0a-888c-194ffc5e9e88",
   "metadata": {},
   "source": [
    "Question 2.Create a function that takes an angle in radians and returns the corresponding\n",
    "angle in degrees rounded to one decimal place.\n",
    "Examples\n",
    "radians_to_degrees(1) ➞ 57.3\n",
    "radians_to_degrees(20) ➞ 1145.9\n",
    "radians_to_degrees(50) ➞ 2864.8"
   ]
  },
  {
   "cell_type": "code",
   "execution_count": 2,
   "id": "dc2145e1-6805-46d9-9621-82bcd3b7451a",
   "metadata": {},
   "outputs": [
    {
     "data": {
      "text/plain": [
       "57.3"
      ]
     },
     "execution_count": 2,
     "metadata": {},
     "output_type": "execute_result"
    }
   ],
   "source": [
    "def radians_to_degrees(radian):\n",
    "    \"\"\" takes an angle in radians and returns the corresponding\n",
    "angle in degrees rounded to one decimal place. \"\"\"\n",
    "    degree=(360/(2*(22/7)))*radian\n",
    "    return round(degree,1)\n",
    "radians_to_degrees(1)"
   ]
  },
  {
   "cell_type": "raw",
   "id": "89d3754d-47bc-4cc1-acf8-666fbd945a28",
   "metadata": {},
   "source": [
    "Question 3. In this challenge, establish if a given integer num is a Curzon number. If 1 plus\n",
    "2 elevated to num is exactly divisible by 1 plus 2 multiplied by num, then num is a Curzon\n",
    "number.\n",
    "Given a non-negative integer num, implement a function that returns True if num is a Curzon\n",
    "number, or False otherwise.\n",
    "Examples\n",
    "is_curzon(5) ➞ True\n",
    "# 2 ** 5 + 1 = 33\n",
    "# 2 * 5 + 1 = 11\n",
    "# 33 is a multiple of 11\n",
    "is_curzon(10) ➞ False\n",
    "# 2 ** 10 + 1 = 1025\n",
    "# 2 * 10 + 1 = 21\n",
    "# 1025 is not a multiple of 21\n",
    "is_curzon(14) ➞ True\n",
    "# 2 ** 14 + 1 = 16385\n",
    "# 2 * 14 + 1 = 29\n",
    "# 16385 is a multiple of 29"
   ]
  },
  {
   "cell_type": "code",
   "execution_count": 14,
   "id": "4fbdc292-eba4-4b59-bd5f-3eb9e9db4cc7",
   "metadata": {},
   "outputs": [
    {
     "data": {
      "text/plain": [
       "False"
      ]
     },
     "execution_count": 14,
     "metadata": {},
     "output_type": "execute_result"
    }
   ],
   "source": [
    "def is_curzon(num):\n",
    "    \"\"\"Examples\n",
    "is_curzon(5) ➞ True\n",
    "# 2 ** 5 + 1 = 33\n",
    "# 2 * 5 + 1 = 11 \"\"\"\n",
    "    a=2**num+1\n",
    "    b=2*num+1\n",
    "    if a%b==0:\n",
    "        return True\n",
    "    else:\n",
    "        return False\n",
    "is_curzon(10)"
   ]
  },
  {
   "cell_type": "raw",
   "id": "feb20962-6fb2-4bde-b0ac-7ae7f87be61a",
   "metadata": {},
   "source": [
    "Question 4.Given the side length x find the area of a hexagon.\n",
    "\n",
    "Examples\n",
    "area_of_hexagon(1) ➞ 2.6\n",
    "area_of_hexagon(2) ➞ 10.4\n",
    "area_of_hexagon(3) ➞ 23.4"
   ]
  },
  {
   "cell_type": "code",
   "execution_count": 20,
   "id": "12421614-d4ae-4c72-a9c1-1490de1e4b68",
   "metadata": {},
   "outputs": [
    {
     "data": {
      "text/plain": [
       "23.4"
      ]
     },
     "execution_count": 20,
     "metadata": {},
     "output_type": "execute_result"
    }
   ],
   "source": [
    "def area_of_hexagon(s):\n",
    "    \"\"\"the side length x finds the area of a hexagon. \"\"\"\n",
    "    area=(3*(3**(1/2))*(s**2))/2\n",
    "    return round(area,1)\n",
    "area_of_hexagon(3)"
   ]
  },
  {
   "cell_type": "raw",
   "id": "dfa2467a-2d2d-409b-9dcf-b4a6076a9d7c",
   "metadata": {},
   "source": [
    "Question 5. Create a function that returns a base-2 (binary) representation of a base-10\n",
    "(decimal) string number. To convert is simple: ((2) means base-2 and (10) means base-10)\n",
    "010101001(2) = 1 + 8 + 32 + 128.\n",
    "Going from right to left, the value of the most right bit is 1, now from that every bit to the left\n",
    "will be x2 the value, value of an 8 bit binary numbers are (256, 128, 64, 32, 16, 8, 4, 2, 1).\n",
    "Examples\n",
    "binary(1) ➞ \"1\"\n",
    "# 1*1 = 1\n",
    "binary(5) ➞ \"101\"\n",
    "# 1*1 + 1*4 = 5\n",
    "binary(10) ➞ \"1010\"\n",
    "# 1*2 + 1*8 = 10"
   ]
  },
  {
   "cell_type": "code",
   "execution_count": 9,
   "id": "cd6ed22b-d8d7-4477-8605-c36a96125fee",
   "metadata": {},
   "outputs": [
    {
     "data": {
      "text/plain": [
       "'1'"
      ]
     },
     "execution_count": 9,
     "metadata": {},
     "output_type": "execute_result"
    }
   ],
   "source": [
    "def binary(n):\n",
    "    \n",
    "    k=\"\"\n",
    "    while n>=1:\n",
    "        if n%2==1:\n",
    "            k+=\"1\"\n",
    "            n=(n/2-.5)\n",
    "            binary(n)\n",
    "        elif n%2==0:\n",
    "            k+=\"0\"\n",
    "            n=(n/2)\n",
    "            binary(n)\n",
    "    return k[::-1]\n",
    "binary(1)    "
   ]
  },
  {
   "cell_type": "code",
   "execution_count": null,
   "id": "0337f48e-679a-42be-abf1-888d0cf6846c",
   "metadata": {},
   "outputs": [],
   "source": []
  },
  {
   "cell_type": "code",
   "execution_count": null,
   "id": "8430cbcd-515c-4229-930e-c494d2b2fa84",
   "metadata": {},
   "outputs": [],
   "source": []
  },
  {
   "cell_type": "code",
   "execution_count": null,
   "id": "2feefd87-8fcd-4a6b-8e33-7539127f32b2",
   "metadata": {},
   "outputs": [],
   "source": []
  }
 ],
 "metadata": {
  "kernelspec": {
   "display_name": "Python 3 (ipykernel)",
   "language": "python",
   "name": "python3"
  },
  "language_info": {
   "codemirror_mode": {
    "name": "ipython",
    "version": 3
   },
   "file_extension": ".py",
   "mimetype": "text/x-python",
   "name": "python",
   "nbconvert_exporter": "python",
   "pygments_lexer": "ipython3",
   "version": "3.9.12"
  }
 },
 "nbformat": 4,
 "nbformat_minor": 5
}
