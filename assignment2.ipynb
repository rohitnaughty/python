{
 "cells": [
  {
   "cell_type": "markdown",
   "id": "ae26a50e-3c48-470e-96e4-47f76ce1fa78",
   "metadata": {},
   "source": [
    "1. Write a Python program to convert kilometers to miles?"
   ]
  },
  {
   "cell_type": "code",
   "execution_count": 1,
   "id": "755445d2-a172-4290-a682-f22518b049fa",
   "metadata": {},
   "outputs": [
    {
     "name": "stdin",
     "output_type": "stream",
     "text": [
      "input distance in km  1.6\n"
     ]
    },
    {
     "name": "stdout",
     "output_type": "stream",
     "text": [
      "conveted km into miles is   0.9941936\n"
     ]
    }
   ],
   "source": [
    "k=float(input(\"input distance in km \"))\n",
    "m=k*.621371\n",
    "print(\"conveted km into miles is  \",m)"
   ]
  },
  {
   "cell_type": "markdown",
   "id": "cf57c267-4d08-4454-8aa5-3a141bd0b5e3",
   "metadata": {},
   "source": [
    "2. Write a Python program to convert Celsius to Fahrenheit?"
   ]
  },
  {
   "cell_type": "code",
   "execution_count": 4,
   "id": "a666912c-b986-455a-b2be-25228c753593",
   "metadata": {},
   "outputs": [
    {
     "name": "stdin",
     "output_type": "stream",
     "text": [
      "input temperature in celsius 32\n"
     ]
    },
    {
     "name": "stdout",
     "output_type": "stream",
     "text": [
      "converted temperature into fahrenheit is  89.6\n"
     ]
    }
   ],
   "source": [
    "c=float(input(\"input temperature in celsius\"))\n",
    "f=(c*1.8)+32\n",
    "print(\"converted temperature into fahrenheit is \",f)"
   ]
  },
  {
   "cell_type": "markdown",
   "id": "c2de970a-8ecf-45ce-949c-c98adfd3de74",
   "metadata": {},
   "source": [
    "3. Write a Python program to display calendar?"
   ]
  },
  {
   "cell_type": "code",
   "execution_count": 5,
   "id": "6dca9bd4-8b65-48e4-abfa-da2e2b17f680",
   "metadata": {},
   "outputs": [
    {
     "name": "stdin",
     "output_type": "stream",
     "text": [
      "input year 2000\n",
      "input month 4\n"
     ]
    },
    {
     "name": "stdout",
     "output_type": "stream",
     "text": [
      "     April 2000\n",
      "Mo Tu We Th Fr Sa Su\n",
      "                1  2\n",
      " 3  4  5  6  7  8  9\n",
      "10 11 12 13 14 15 16\n",
      "17 18 19 20 21 22 23\n",
      "24 25 26 27 28 29 30\n",
      "\n"
     ]
    }
   ],
   "source": [
    "y=int(input(\"input year\"))\n",
    "m=int(input(\"input month\"))\n",
    "import calendar\n",
    "print(calendar.month(y,m))\n"
   ]
  },
  {
   "cell_type": "markdown",
   "id": "73b57b9b-c443-49b9-b7cb-c0818ff3fc53",
   "metadata": {},
   "source": [
    "4. Write a Python program to solve quadratic equation?"
   ]
  },
  {
   "cell_type": "code",
   "execution_count": 6,
   "id": "d2ca84ae-37bb-4a95-a322-455619d098ee",
   "metadata": {},
   "outputs": [
    {
     "name": "stdout",
     "output_type": "stream",
     "text": [
      "general form of quadratic eq is a*(x**2)+b*(x)+c \n"
     ]
    },
    {
     "name": "stdin",
     "output_type": "stream",
     "text": [
      "input value of a  1\n",
      "input value of b  5\n",
      "input value of c  6\n"
     ]
    },
    {
     "name": "stdout",
     "output_type": "stream",
     "text": [
      "solution os quadratic eq is  (-3+0j) (-2+0j)\n"
     ]
    }
   ],
   "source": [
    "print(\"general form of quadratic eq is a*(x**2)+b*(x)+c \")\n",
    "import cmath\n",
    "a=int(input(\"input value of a \"))\n",
    "b=int(input(\"input value of b \"))\n",
    "c=int(input(\"input value of c \"))\n",
    "d=b*b-4*a*c\n",
    "sol1=(-b-cmath.sqrt(d))/(2*a)\n",
    "sol2=(-b+cmath.sqrt(d))/(2*a)\n",
    "print(\"solution os quadratic eq is \",sol1,sol2)"
   ]
  },
  {
   "cell_type": "markdown",
   "id": "9f401146-7cd8-4e12-8ebf-15af1b7c7387",
   "metadata": {},
   "source": [
    "Write a Python program to swap two variables without temp variable?"
   ]
  },
  {
   "cell_type": "code",
   "execution_count": 7,
   "id": "1fde829f-96eb-4a8f-be52-817702412d87",
   "metadata": {},
   "outputs": [
    {
     "name": "stdin",
     "output_type": "stream",
     "text": [
      "input 1st no 5856565566\n",
      "input 2nd no 1\n"
     ]
    },
    {
     "name": "stdout",
     "output_type": "stream",
     "text": [
      "1 5856565566 respectively\n"
     ]
    }
   ],
   "source": [
    "a=int(input(\"input 1st no\"))\n",
    "b=int(input(\"input 2nd no\"))\n",
    "X=a+b\n",
    "Y=X-b\n",
    "m=X-Y\n",
    "print( m,Y, \"respectively\")"
   ]
  },
  {
   "cell_type": "code",
   "execution_count": null,
   "id": "e50451c2-40f4-4b6e-9460-68bad81ac83b",
   "metadata": {},
   "outputs": [],
   "source": []
  }
 ],
 "metadata": {
  "kernelspec": {
   "display_name": "Python 3 (ipykernel)",
   "language": "python",
   "name": "python3"
  },
  "language_info": {
   "codemirror_mode": {
    "name": "ipython",
    "version": 3
   },
   "file_extension": ".py",
   "mimetype": "text/x-python",
   "name": "python",
   "nbconvert_exporter": "python",
   "pygments_lexer": "ipython3",
   "version": "3.9.12"
  }
 },
 "nbformat": 4,
 "nbformat_minor": 5
}
