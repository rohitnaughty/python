{
 "cells": [
  {
   "cell_type": "code",
   "execution_count": null,
   "id": "0d630f1d-d38c-4d58-84a5-48bbd3877918",
   "metadata": {},
   "outputs": [],
   "source": [
    "1) . What is the difference between enclosing a list comprehension in square brackets and\n",
    "parentheses?\n"
   ]
  },
  {
   "cell_type": "raw",
   "id": "1abb2112-3ef0-449d-84f5-e42cf14a9373",
   "metadata": {},
   "source": [
    "List comprehension with square brackets produces list.\n",
    "List comprehension with parentheses creates generators \n",
    "\n"
   ]
  },
  {
   "cell_type": "code",
   "execution_count": 7,
   "id": "9a01a56e-d939-4b79-9fff-4c168ed06ed6",
   "metadata": {},
   "outputs": [
    {
     "data": {
      "text/plain": [
       "[0, 1, 4, 9, 16, 25, 36, 49, 64, 81]"
      ]
     },
     "execution_count": 7,
     "metadata": {},
     "output_type": "execute_result"
    }
   ],
   "source": [
    "lsquare=[i*i for i in range(10)]\n",
    "lsquare"
   ]
  },
  {
   "cell_type": "code",
   "execution_count": 9,
   "id": "d8f21011-158b-44b7-b9b1-56bb4a242854",
   "metadata": {},
   "outputs": [
    {
     "data": {
      "text/plain": [
       "<generator object <genexpr> at 0x7fbbce5440b0>"
      ]
     },
     "execution_count": 9,
     "metadata": {},
     "output_type": "execute_result"
    }
   ],
   "source": [
    "lPar=(i for i in range(10))\n",
    "lPar\n"
   ]
  },
  {
   "cell_type": "code",
   "execution_count": 11,
   "id": "d012b19b-8d09-472b-8a7d-01d61fca6558",
   "metadata": {},
   "outputs": [
    {
     "data": {
      "text/plain": [
       "[0, 1, 2, 3, 4, 5, 6, 7, 8, 9]"
      ]
     },
     "execution_count": 11,
     "metadata": {},
     "output_type": "execute_result"
    }
   ],
   "source": [
    "list(lPar)"
   ]
  },
  {
   "cell_type": "raw",
   "id": "d155646c-7ba6-4966-b02d-f3d795960339",
   "metadata": {},
   "source": [
    "2) What is the relationship between generators and iterators?\n"
   ]
  },
  {
   "cell_type": "raw",
   "id": "20cfa1a7-151d-432b-9a79-e1f04e80a0db",
   "metadata": {},
   "source": [
    "An iterator is an object which can contains a countable numbers os values and it is used to iterate over iterable objects like list ,tuples etc \n",
    "Using an iterator -\n",
    "iter() keywords is used to create an iterator containing an iterable objects.\n",
    "next() keywords is used to call the next elements in the iterable objects.\n",
    "\n",
    "Generator \n",
    "It is another way of creating iterators in a simple way where it used the keyword \"yield\" instead of returning it in a defined function \n",
    "Generator are implemented using a function \n",
    "Here, the yield function returns the data without affecting or exiting the function .\n",
    "It will return a sequence of data in a =n iterable format where we need to iterate over the sequence to use the data as they won't store the entire sequnence in the memory By using next() function we can iterate the output of generator function "
   ]
  },
  {
   "cell_type": "code",
   "execution_count": 12,
   "id": "538f058e-7d7a-4298-a810-5ba6b458c62a",
   "metadata": {},
   "outputs": [
    {
     "name": "stdout",
     "output_type": "stream",
     "text": [
      "APPLE\n",
      "ORANGE\n",
      "BANANA\n"
     ]
    }
   ],
   "source": [
    "iter_list=iter([\"APPLE\",\"ORANGE\",\"BANANA\"])\n",
    "print(next(iter_list))\n",
    "print(next(iter_list))\n",
    "print(next(iter_list))"
   ]
  },
  {
   "cell_type": "code",
   "execution_count": 13,
   "id": "7e8c0fa1-f375-444c-924a-f543af41a449",
   "metadata": {},
   "outputs": [
    {
     "data": {
      "text/plain": [
       "<generator object sq_no at 0x7fbbcd5c5c80>"
      ]
     },
     "execution_count": 13,
     "metadata": {},
     "output_type": "execute_result"
    }
   ],
   "source": [
    "def sq_no(n):\n",
    "    for i in range(1,n+1):\n",
    "        yield i*i\n",
    "sq_no(8)"
   ]
  },
  {
   "cell_type": "code",
   "execution_count": 15,
   "id": "3b82e2d1-86c2-4e24-9082-4a5ed1f97105",
   "metadata": {},
   "outputs": [
    {
     "data": {
      "text/plain": [
       "<generator object sq_no at 0x7fbbcd5b7200>"
      ]
     },
     "execution_count": 15,
     "metadata": {},
     "output_type": "execute_result"
    }
   ],
   "source": [
    "list=sq_no(8)\n",
    "list"
   ]
  },
  {
   "cell_type": "code",
   "execution_count": 17,
   "id": "0886e6af-7eba-479e-9dbe-9944a01292e0",
   "metadata": {},
   "outputs": [
    {
     "name": "stdout",
     "output_type": "stream",
     "text": [
      "1\n",
      "4\n",
      "9\n",
      "16\n"
     ]
    }
   ],
   "source": [
    "print(next(list))\n",
    "print(next(list))\n",
    "print(next(list))\n",
    "print(next(list))\n"
   ]
  },
  {
   "cell_type": "code",
   "execution_count": null,
   "id": "ccb4b242-e07d-44c3-a9e1-1244d893f07a",
   "metadata": {},
   "outputs": [],
   "source": [
    "3) What are the signs that a function is a generator function?\n"
   ]
  },
  {
   "cell_type": "raw",
   "id": "23392e61-56fd-4b02-b247-155ba30f54ce",
   "metadata": {},
   "source": [
    "If a fuction contains at least one yield statement (it may contain other yield or return statements), it becomes a generator function . Both yield and return will return some value from a function."
   ]
  },
  {
   "cell_type": "code",
   "execution_count": null,
   "id": "2b225a3c-4ee9-4c89-a286-70474b267c3f",
   "metadata": {},
   "outputs": [],
   "source": [
    "4) What is the purpose of a yield statement?\n"
   ]
  },
  {
   "cell_type": "raw",
   "id": "43dd0df2-be50-4f97-98c6-a3c7bf1ac5c1",
   "metadata": {},
   "source": [
    "A yield statement looks much like a return statement, except that  instead of shopping execution if the function and returning , yield instead  provides a value to the code looping over the generator and pauses execution of the generator  function  "
   ]
  },
  {
   "cell_type": "code",
   "execution_count": null,
   "id": "629fc435-3189-48b8-8c36-36f04f3c945d",
   "metadata": {},
   "outputs": [],
   "source": [
    "5) What is the relationship between map calls and list comprehensions? Make a comparison and\n",
    "contrast between the two."
   ]
  },
  {
   "cell_type": "raw",
   "id": "246440fe-1a62-4792-b849-a16e805fd887",
   "metadata": {},
   "source": [
    "Map function :\n",
    "    Suppose we have a fuction and we want to compute this function for different values in a single line of code.\n",
    "    This is where map() function plays its role , map()\n",
    "function returns a map object(which is an iterator )  of the results after applying the given function to each item of given iterable (list ,tuple etc.)\n",
    "If we already have a function defines , it is often good to use map For example , map(sum,myLists) is more neat than [sum(x) for x in myLists]. You  gain the elegent of not having to make up a dummy variable (e.g sum() for x...or sum(_) for _....or sum(readableName) for readableName...) which you have  to type twice ,just to iterate .\n",
    "\n",
    "List Comprehension:\n",
    "List Comprehension is a substitute for the lambda function , map(),filter() and reduce()\n",
    "\n",
    "Comparision:\n",
    "1.List comprehension is more concise and easier to read as compared to map\n",
    "\n",
    "2.List comprehension allows filtering.In map,we have no such facility\n",
    "for example ,to print all even numbers in range of 100, we can write [n for n in range(100)] if n%2==0].\n",
    "There is \n",
    "no alternate for it in map\n",
    "3.List comprehension are used when a list of results is required , where as a map only returns a map objects and does not return any list.\n",
    "4.List comprehension is faster than map when we need to evaluate expressions that are too long or complicated to express\n",
    "5. Map is faster in case of calling an already defined function (as no lambda is required ) "
   ]
  },
  {
   "cell_type": "code",
   "execution_count": null,
   "id": "3b41ca3f-be54-4461-b627-4cda09baa94d",
   "metadata": {},
   "outputs": [],
   "source": []
  }
 ],
 "metadata": {
  "kernelspec": {
   "display_name": "Python 3 (ipykernel)",
   "language": "python",
   "name": "python3"
  },
  "language_info": {
   "codemirror_mode": {
    "name": "ipython",
    "version": 3
   },
   "file_extension": ".py",
   "mimetype": "text/x-python",
   "name": "python",
   "nbconvert_exporter": "python",
   "pygments_lexer": "ipython3",
   "version": "3.9.12"
  }
 },
 "nbformat": 4,
 "nbformat_minor": 5
}
