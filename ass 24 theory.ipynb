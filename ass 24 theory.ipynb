{
 "cells": [
  {
   "cell_type": "code",
   "execution_count": null,
   "id": "785f016f-cd71-44ad-abd3-014d66f3633f",
   "metadata": {},
   "outputs": [],
   "source": [
    "1. What is the relationship between def statements and lambda expressions ?\n"
   ]
  },
  {
   "cell_type": "raw",
   "id": "add0c972-c7ae-430f-bc29-eee9b11304a6",
   "metadata": {},
   "source": [
    "Keyword def marks the start of the function header .A function name to uniquely the function.function naming follows the same rules of writing identifiers in python \n",
    "\n",
    "Lambdas are one line methods without a name .\n",
    "They work practically the same as any other method in python \n",
    "\n",
    "Lambdas differ from normal Python methods because they can have only one expression,\n",
    "can't contain ant statements and their return type is a function object"
   ]
  },
  {
   "cell_type": "code",
   "execution_count": null,
   "id": "73b0adf9-d29d-4760-9b3a-08d668a35772",
   "metadata": {},
   "outputs": [],
   "source": [
    "2. What is the benefit of lambda?\n"
   ]
  },
  {
   "cell_type": "raw",
   "id": "9f5ef9a9-64c6-4c99-b331-643338c439c4",
   "metadata": {},
   "source": [
    "Few lines of code \n",
    "Lambda functions are inline functions and thus execute comparatively faster\n",
    "Many times lambda function make more readable by avoiding the logical jumps caused by function calls"
   ]
  },
  {
   "cell_type": "code",
   "execution_count": null,
   "id": "57f03db3-dbc9-4b3f-a71b-509df625d72c",
   "metadata": {},
   "outputs": [],
   "source": [
    "3. Compare and contrast map, filter, and reduce.\n"
   ]
  },
  {
   "cell_type": "code",
   "execution_count": null,
   "id": "e11a5885-a0ff-459c-8931-09d074e2eee9",
   "metadata": {},
   "outputs": [],
   "source": [
    "Map applies as transformation to an element.\n",
    "The  map() function iterates through all items in the given iterable and executes the function\n",
    "we passed as an  arguments on each of them .\n",
    "Syntax : map(function, iterable(s))\n",
    "\n",
    "filter accumulates only elements matching a condition.\n",
    "filter() forms a new list that conatins only elements taht satisfy a certain condition, i.e the function we passed returns True\n",
    "Syntax: filter(function,iterable(s))\n",
    "\n",
    "reduce accumulates all elements to a single value, by using immutable values\n",
    "reduce() works by calling the function we passed for the first two items in the sequence. The result returned by the function is used in another call to function  alongside with the next (third in this case),element\n",
    "Syntax: reduce(functions , sequence[,initial])\n"
   ]
  },
  {
   "cell_type": "code",
   "execution_count": 5,
   "id": "13912120-f1f2-4645-848b-da2e777bef4a",
   "metadata": {},
   "outputs": [
    {
     "name": "stdout",
     "output_type": "stream",
     "text": [
      "True\n",
      "False\n",
      "False\n",
      "True\n",
      "False\n"
     ]
    }
   ],
   "source": [
    "### Map function\n",
    "fruit=[\"Apple\",\"Banana\",\"pear\",\"Apricot\",\"Orange\"]\n",
    "map_object=map(lambda s:s[0]==\"A\",fruit)\n",
    "#print(listmap(map-object))\n",
    "for i in map_object:\n",
    "    print(i)\n"
   ]
  },
  {
   "cell_type": "code",
   "execution_count": 8,
   "id": "82099745-ace3-41d4-bc8b-28ae06faefd2",
   "metadata": {},
   "outputs": [
    {
     "name": "stdout",
     "output_type": "stream",
     "text": [
      "Apple\n",
      "Apricot\n"
     ]
    }
   ],
   "source": [
    "###Filter functions\n",
    "fruit=[\"Apple\",\"Banana\",\"Pear\",\"Apricot\",\"Orange\"]\n",
    "filter_object=filter(lambda s: s[0]==\"A\",fruit)\n",
    "for i in filter_object:\n",
    "    print(i)\n"
   ]
  },
  {
   "cell_type": "code",
   "execution_count": 7,
   "id": "1547e567-c9bc-44fa-9f97-d13091d19cca",
   "metadata": {},
   "outputs": [
    {
     "name": "stdout",
     "output_type": "stream",
     "text": [
      "16\n",
      "With an initial value : 16\n"
     ]
    }
   ],
   "source": [
    "### Reduce function \n",
    "from functools import reduce\n",
    "\n",
    "lsit=[2,4,7,3]\n",
    "print(reduce(lambda x,y: x+ y,lsit))\n",
    "print(\"With an initial value : \"+str(reduce(lambda x,y:x+y,lsit)))\n",
    " \n"
   ]
  },
  {
   "cell_type": "code",
   "execution_count": 3,
   "id": "15276de6-084b-4091-b9d2-292fa0b61268",
   "metadata": {},
   "outputs": [
    {
     "name": "stdout",
     "output_type": "stream",
     "text": [
      "16\n"
     ]
    }
   ],
   "source": [
    "### Reduce function\n",
    "from functools import reduce\n",
    "\n",
    "def add(x,y):\n",
    "    return x+y\n",
    "lsit=[2,4,7,3]\n",
    "print(reduce(add,lsit))"
   ]
  },
  {
   "cell_type": "code",
   "execution_count": null,
   "id": "edfb3ee4-7b28-43d9-ad99-237be1d17691",
   "metadata": {},
   "outputs": [],
   "source": [
    "4. What are function annotations, and how are they used?\n"
   ]
  },
  {
   "cell_type": "raw",
   "id": "daaa522c-2ece-4d90-8d0d-aeed81b6b912",
   "metadata": {},
   "source": [
    "Functions annotation is the standard way to access the metedata with the arguments and return value of the function .\n",
    "These are nothing but some random and optional Python expressions that get allied to different parts of the functions.\n",
    "They get evaluated only during the compile-Time and have no significance during the run-time of the code.\n",
    "They do not have any significance or meaning associated with them until accessed by some third-party libaries.\n",
    "They are used to type check the functions by declaring the type of the parameters and the return value for the functions.\n",
    "The strings-based annotations help us to improve the help messages.\n",
    "Syntax :\n",
    "    def func(a: \"int\") ->\"int\":\n",
    "        pass\n",
    "Annotations for simple parameters:\n",
    "    def func(x:\"float\"=10.8,y:\"argument2\"):\n",
    "        In the above code the argument, \"x\" of the function func,\n",
    "        has been annotated to float data type and the argument \"y\" \n",
    "        has a string-based annotation.The argument can alse be\n",
    "        assigned to a default value using a\"=\" symbol followed \n",
    "        by the default value. These default values are optional to the code.\n",
    "    \n",
    "Annotations for return values:\n",
    "   def func(a:expression) -> \"int\":\n",
    "        The annotation for the return value is written after the \"->\" \"result\":\n",
    "             pass\n",
    "  "
   ]
  },
  {
   "cell_type": "code",
   "execution_count": 2,
   "id": "40ac0093-fe76-4dad-9d96-954d79cfd6fc",
   "metadata": {},
   "outputs": [
    {
     "name": "stdout",
     "output_type": "stream",
     "text": [
      "{'n': 'float', 'b': 'int', 'return': 'result'}\n"
     ]
    }
   ],
   "source": [
    " def fib(n:\"float\",b:\"int\")->\"result\":   \n",
    "        pass\n",
    "print(fib.__annotations__)"
   ]
  },
  {
   "cell_type": "code",
   "execution_count": null,
   "id": "78e9f3dc-9c49-47be-a2fe-b7740bf2e843",
   "metadata": {},
   "outputs": [],
   "source": [
    "5. What are recursive functions, and how are they used?\n"
   ]
  },
  {
   "cell_type": "raw",
   "id": "fa74cf36-6622-4cd0-b3e5-e9f0e27f5bd6",
   "metadata": {},
   "source": [
    "A recursive function is a function that calls itself during its execution.\n",
    "This means that the function will continue to call itself and repeat its behavior until some condition is met to return a result \n",
    "Example:"
   ]
  },
  {
   "cell_type": "code",
   "execution_count": 1,
   "id": "aa4ae963-ee67-491e-a1e8-e18580b1a0e4",
   "metadata": {},
   "outputs": [
    {
     "data": {
      "text/plain": [
       "6"
      ]
     },
     "execution_count": 1,
     "metadata": {},
     "output_type": "execute_result"
    }
   ],
   "source": [
    "def fact(x):\n",
    "    if x==1:\n",
    "        return 1\n",
    "    else:\n",
    "        return x*fact(x-1) #recursion\n",
    "fact(3)"
   ]
  },
  {
   "cell_type": "code",
   "execution_count": null,
   "id": "8a6a5f95-7911-46e5-9806-8852aa861a7f",
   "metadata": {},
   "outputs": [],
   "source": [
    "6. What are some general design guidelines for coding functions?\n"
   ]
  },
  {
   "cell_type": "raw",
   "id": "0ee964ec-0f20-4eb7-bfb3-ff310e588b77",
   "metadata": {},
   "source": [
    "1.Use 4-space indentation and no tabs .\n",
    "2.Use docstrings \n",
    "3.Wrap linethat they don't exceed 79 characters\n",
    "4.Use of regular and updated comments are valuable to both the coders and users \n",
    "5.Use of trailing commas : in case of tuple ->(\"good\") \n",
    "6.Use python's default UTF-8 or ASCII encodings and not any fancy encodings\n",
    "7.Naming Conventions\n",
    "8.Characters that should not be used for identifiers :\n",
    "    \"l\" (lowercase lettter el),\n",
    "    \"O\" (uppercase letter oh),\n",
    "    \"I\" (uppercase letter eye)as single character variable names as these are similar to the numerals one and zero.\n",
    "9.Don't use non-ASCII characters in identifiers\n",
    "10.Name your classes and functions consistently \n",
    "11.While naming of function of methods always use self for the first argument\n"
   ]
  },
  {
   "cell_type": "code",
   "execution_count": null,
   "id": "ebf9b269-9e2f-4d06-a027-70dc2662c751",
   "metadata": {},
   "outputs": [],
   "source": [
    "7. Name three or more ways that functions can communicate results to a caller."
   ]
  },
  {
   "cell_type": "raw",
   "id": "260239cb-43b7-44fd-8463-77616e2e97fe",
   "metadata": {},
   "source": [
    "1. Function can return single value\n",
    "2.Can return multiple values , tuple\n",
    "3.Can return list, dicttionary\n",
    "4.Can return function objects \n",
    "5.Can return class object\n"
   ]
  },
  {
   "cell_type": "code",
   "execution_count": null,
   "id": "1244b364-520b-47cf-b964-022c6afb3492",
   "metadata": {},
   "outputs": [],
   "source": []
  },
  {
   "cell_type": "code",
   "execution_count": null,
   "id": "507e5b29-040d-4264-89ca-1eb38ea3218b",
   "metadata": {},
   "outputs": [],
   "source": []
  },
  {
   "cell_type": "code",
   "execution_count": null,
   "id": "c0d1b28e-fbea-4f44-a242-5f443b4b0144",
   "metadata": {},
   "outputs": [],
   "source": []
  },
  {
   "cell_type": "code",
   "execution_count": null,
   "id": "d219ffb1-fa3e-443e-bde6-7b97463cc96c",
   "metadata": {},
   "outputs": [],
   "source": []
  },
  {
   "cell_type": "code",
   "execution_count": null,
   "id": "41268f41-55bc-48da-9634-854a2c64d788",
   "metadata": {},
   "outputs": [],
   "source": []
  },
  {
   "cell_type": "code",
   "execution_count": null,
   "id": "fd7c7dce-9985-4da1-8efa-57e91350e6b1",
   "metadata": {},
   "outputs": [],
   "source": []
  },
  {
   "cell_type": "code",
   "execution_count": null,
   "id": "813bbbb0-23fc-44c3-b148-bed284c3f359",
   "metadata": {},
   "outputs": [],
   "source": []
  },
  {
   "cell_type": "code",
   "execution_count": null,
   "id": "f340eac4-f041-4199-90a4-89bdb526bfd0",
   "metadata": {},
   "outputs": [],
   "source": []
  },
  {
   "cell_type": "code",
   "execution_count": null,
   "id": "21ba5cc5-c3d1-46dc-856b-e8e2508ce304",
   "metadata": {},
   "outputs": [],
   "source": []
  },
  {
   "cell_type": "code",
   "execution_count": null,
   "id": "761c976e-edd9-4f89-ae61-580daba0d9f1",
   "metadata": {},
   "outputs": [],
   "source": []
  },
  {
   "cell_type": "code",
   "execution_count": null,
   "id": "ee057325-6d2a-4a9b-89da-425c20751da1",
   "metadata": {},
   "outputs": [],
   "source": []
  },
  {
   "cell_type": "code",
   "execution_count": null,
   "id": "0fc47b8b-3111-4dbc-b65d-365d7d02eb36",
   "metadata": {},
   "outputs": [],
   "source": []
  },
  {
   "cell_type": "code",
   "execution_count": null,
   "id": "362d5779-c705-4ce2-b728-79248ad6312d",
   "metadata": {},
   "outputs": [],
   "source": []
  },
  {
   "cell_type": "code",
   "execution_count": null,
   "id": "a82138ab-c6a3-471d-95e6-43776cb6a8be",
   "metadata": {},
   "outputs": [],
   "source": []
  },
  {
   "cell_type": "code",
   "execution_count": null,
   "id": "5e55c849-9cb9-4670-babe-c5e26b6fd37a",
   "metadata": {},
   "outputs": [],
   "source": []
  },
  {
   "cell_type": "code",
   "execution_count": null,
   "id": "0f1bd741-c773-4e69-bebb-db8ed46839a9",
   "metadata": {},
   "outputs": [],
   "source": []
  }
 ],
 "metadata": {
  "kernelspec": {
   "display_name": "Python 3 (ipykernel)",
   "language": "python",
   "name": "python3"
  },
  "language_info": {
   "codemirror_mode": {
    "name": "ipython",
    "version": 3
   },
   "file_extension": ".py",
   "mimetype": "text/x-python",
   "name": "python",
   "nbconvert_exporter": "python",
   "pygments_lexer": "ipython3",
   "version": "3.9.12"
  }
 },
 "nbformat": 4,
 "nbformat_minor": 5
}
