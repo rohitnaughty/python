{
 "cells": [
  {
   "cell_type": "markdown",
   "id": "5dde5489-6429-418e-9ac6-7fc1b693fc62",
   "metadata": {},
   "source": [
    "1. Assign the value 7 to the variable guess_me. Then, write the conditional tests (if, else, and elif) to\n",
    "print the string \"too low\" if guess_me is less than 7, \"too high\"if greater than 7, and \"just right\"if equal\n",
    "to 7.\n"
   ]
  },
  {
   "cell_type": "code",
   "execution_count": 1,
   "id": "9f234f2b-7464-4e2c-b1f0-67226b52691f",
   "metadata": {},
   "outputs": [
    {
     "name": "stdout",
     "output_type": "stream",
     "text": [
      "just right\n"
     ]
    }
   ],
   "source": [
    "guess_me=7\n",
    "if guess_me<7:\n",
    "    print(\"too low\")\n",
    "elif guess_me >7:\n",
    "    print(\"too high\")\n",
    "else:\n",
    "    print(\"just right\")"
   ]
  },
  {
   "cell_type": "markdown",
   "id": "dce3399d-71a5-4d59-9e1a-78b5cac20a96",
   "metadata": {},
   "source": [
    "2. Assign the value 7 to the variable guess_me and the value 1 to the variable start. Write a while\n",
    "loop that compares start with guess_me. Print too low if start is less than guess me. If start equals\n",
    "guess_me, print \"found it!\"and exit the loop. If start is greater than guess_me, print \"oops\" and exit\n",
    "the loop. Increment start at the end of the loop.\n"
   ]
  },
  {
   "cell_type": "code",
   "execution_count": 2,
   "id": "7edf8bcc-b281-4bd7-a636-ec1d1d1cbb47",
   "metadata": {},
   "outputs": [
    {
     "name": "stdout",
     "output_type": "stream",
     "text": [
      "too low\n",
      "too low\n",
      "too low\n",
      "too low\n",
      "too low\n",
      "too low\n",
      "found it!\n"
     ]
    }
   ],
   "source": [
    "guess_me=7\n",
    "start=1\n",
    "while True:\n",
    "    if start<guess_me:\n",
    "        print(\"too low\")\n",
    "    elif start==guess_me:\n",
    "        print(\"found it!\")\n",
    "        break\n",
    "    elif start>guess_me:\n",
    "        print(\"oops\")\n",
    "        break\n",
    "    start+=1"
   ]
  },
  {
   "cell_type": "markdown",
   "id": "9fa0f143-a76a-4845-a9ef-47aee1583bf9",
   "metadata": {},
   "source": [
    "3. Print the following values of the list [3, 2, 1, 0] using a for loop.\n"
   ]
  },
  {
   "cell_type": "code",
   "execution_count": 3,
   "id": "6ef046b9-5d81-4200-a4a6-f1f3e7946575",
   "metadata": {},
   "outputs": [
    {
     "name": "stdout",
     "output_type": "stream",
     "text": [
      "3\n",
      "2\n",
      "1\n",
      "0\n"
     ]
    }
   ],
   "source": [
    "for value in [3,2,1,0]:\n",
    "    print(value)"
   ]
  },
  {
   "cell_type": "markdown",
   "id": "3538f9b1-1237-4a53-993a-6d914ba25b68",
   "metadata": {},
   "source": [
    "4. Use a list comprehension to make a list of the even numbers in range(10)\n"
   ]
  },
  {
   "cell_type": "code",
   "execution_count": 4,
   "id": "57c12b2b-23fc-4647-880f-91dc0d613181",
   "metadata": {},
   "outputs": [
    {
     "data": {
      "text/plain": [
       "[0, 2, 4, 6, 8]"
      ]
     },
     "execution_count": 4,
     "metadata": {},
     "output_type": "execute_result"
    }
   ],
   "source": [
    "even=[number for number in range(10) if number %2 ==0]\n",
    "even"
   ]
  },
  {
   "cell_type": "markdown",
   "id": "0a094586-1cdd-4ca8-a10f-607a224ab8cb",
   "metadata": {},
   "source": [
    "5. Use a dictionary comprehension to create the dictionary squares. Use range(10) to return the\n",
    "keys, and use the square of each key as its value.\n"
   ]
  },
  {
   "cell_type": "code",
   "execution_count": 5,
   "id": "9519b911-c057-4f9c-8f42-eaa08ba3dff3",
   "metadata": {},
   "outputs": [
    {
     "data": {
      "text/plain": [
       "{0: 0, 1: 1, 2: 4, 3: 9, 4: 16, 5: 25, 6: 36, 7: 49, 8: 64, 9: 81}"
      ]
     },
     "execution_count": 5,
     "metadata": {},
     "output_type": "execute_result"
    }
   ],
   "source": [
    "squares={key: key*key for key in range(10)}\n",
    "squares"
   ]
  },
  {
   "cell_type": "markdown",
   "id": "3d6fed11-d852-43b2-8177-dd34deab8852",
   "metadata": {},
   "source": [
    "6. Construct the set odd from the odd numbers in the range using a set comprehension (10).\n"
   ]
  },
  {
   "cell_type": "code",
   "execution_count": 6,
   "id": "327f860b-1055-4747-b670-deb3fbe67869",
   "metadata": {},
   "outputs": [
    {
     "data": {
      "text/plain": [
       "{1, 3, 5, 7, 9}"
      ]
     },
     "execution_count": 6,
     "metadata": {},
     "output_type": "execute_result"
    }
   ],
   "source": [
    "odd={number for number in range(10) if number %2==1}\n",
    "odd"
   ]
  },
  {
   "cell_type": "markdown",
   "id": "e39f3879-b31b-459e-b1e6-027a2cc8dd15",
   "metadata": {},
   "source": [
    "7. Use a generator comprehension to return the string \"Got\" and a number for the numbers in\n",
    "range(10). Iterate through this by using a for loop.\n"
   ]
  },
  {
   "cell_type": "code",
   "execution_count": 7,
   "id": "cd812867-e111-453d-9138-2b4592607ff2",
   "metadata": {},
   "outputs": [
    {
     "name": "stdout",
     "output_type": "stream",
     "text": [
      "Got 0\n",
      "Got 1\n",
      "Got 2\n",
      "Got 3\n",
      "Got 4\n",
      "Got 5\n",
      "Got 6\n",
      "Got 7\n",
      "Got 8\n",
      "Got 9\n"
     ]
    }
   ],
   "source": [
    "for things in (\"Got %s\" % number for number in range(10)):\n",
    "    print(things)"
   ]
  },
  {
   "cell_type": "markdown",
   "id": "8bc852e5-f295-466f-bf46-473cadc88237",
   "metadata": {},
   "source": [
    "8. Define a function called good that returns the list [\"Harry\", \"Ron\", \"Hermione\"].\n"
   ]
  },
  {
   "cell_type": "code",
   "execution_count": 8,
   "id": "2aedf512-fa18-4d1c-a985-ef1f42053773",
   "metadata": {},
   "outputs": [
    {
     "data": {
      "text/plain": [
       "['Harry', 'Ron', 'Hermione']"
      ]
     },
     "execution_count": 8,
     "metadata": {},
     "output_type": "execute_result"
    }
   ],
   "source": [
    "def good():\n",
    "    return[\"Harry\",\"Ron\",\"Hermione\"]\n",
    "good()"
   ]
  },
  {
   "cell_type": "markdown",
   "id": "bc35211c-5bf5-47d9-aec2-2284a311c398",
   "metadata": {},
   "source": [
    "9. Define a generator function called get_odds that returns the odd numbers from range(10). Use a\n",
    "for loop to find and print the third value returned.\n"
   ]
  },
  {
   "cell_type": "code",
   "execution_count": 9,
   "id": "4bdd0236-f2b6-4aef-a976-80aaa40d5ffa",
   "metadata": {},
   "outputs": [
    {
     "name": "stdout",
     "output_type": "stream",
     "text": [
      "The third odd number is 5\n"
     ]
    }
   ],
   "source": [
    "def get_odds():\n",
    "    for number in range(1,10,2):\n",
    "        yield number\n",
    "count=1\n",
    "for number in get_odds():\n",
    "    if count==3:\n",
    "        print(\"The third odd number is\",number)\n",
    "        break\n",
    "    count+=1"
   ]
  },
  {
   "cell_type": "markdown",
   "id": "89173538-c824-42e2-9c62-b23671718d06",
   "metadata": {},
   "source": [
    "10. Define an exception called OopsException. Raise this exception to see what happens. Then write\n",
    "the code to catch this exception and print \"Caught an oops\".\n"
   ]
  },
  {
   "cell_type": "code",
   "execution_count": 10,
   "id": "e1372f37-beb9-4472-8981-906384acf9ba",
   "metadata": {},
   "outputs": [
    {
     "ename": "OopsException",
     "evalue": "",
     "output_type": "error",
     "traceback": [
      "\u001b[0;31m---------------------------------------------------------------------------\u001b[0m",
      "\u001b[0;31mOopsException\u001b[0m                             Traceback (most recent call last)",
      "Input \u001b[0;32mIn [10]\u001b[0m, in \u001b[0;36m<cell line: 3>\u001b[0;34m()\u001b[0m\n\u001b[1;32m      1\u001b[0m \u001b[38;5;28;01mclass\u001b[39;00m \u001b[38;5;21;01mOopsException\u001b[39;00m(\u001b[38;5;167;01mException\u001b[39;00m):\n\u001b[1;32m      2\u001b[0m     \u001b[38;5;28;01mpass\u001b[39;00m\n\u001b[0;32m----> 3\u001b[0m \u001b[38;5;28;01mraise\u001b[39;00m OopsException()\n\u001b[1;32m      4\u001b[0m \u001b[38;5;28;01mtry\u001b[39;00m:\n\u001b[1;32m      5\u001b[0m     \u001b[38;5;28;01mraise\u001b[39;00m OopsException\n",
      "\u001b[0;31mOopsException\u001b[0m: "
     ]
    }
   ],
   "source": [
    "class OopsException(Exception):\n",
    "    pass\n",
    "raise OopsException()\n",
    "try:\n",
    "    raise OopsException\n",
    "except OopsException:\n",
    "    print(\"Caught an oops\")"
   ]
  },
  {
   "cell_type": "markdown",
   "id": "2a2478fc-dede-4b19-b180-9b80ee9692a2",
   "metadata": {},
   "source": [
    "11. Use zip() to make a dictionary called movies that pairs these lists: titles = [\"Creature of Habit\",\n",
    "\"Crewel Fate\"] and plots = [\"A nun turns into a monster\", \"A haunted yarn shop\"]."
   ]
  },
  {
   "cell_type": "code",
   "execution_count": null,
   "id": "655d0602-0297-4b5c-917b-b447b70afa1c",
   "metadata": {},
   "outputs": [],
   "source": [
    "titles = [\"Creature of Habit\", \"Crewel Fate\"]\n",
    "plots = [\"A nun turns into a monster\", \"A haunted yarn shop\"]\n",
    "movies=dict(zip(titles,plots))\n",
    "movies"
   ]
  },
  {
   "cell_type": "code",
   "execution_count": null,
   "id": "23511b14-07c6-4ee6-9765-5dbb7c7cba85",
   "metadata": {},
   "outputs": [],
   "source": []
  },
  {
   "cell_type": "code",
   "execution_count": null,
   "id": "be1104d8-29d9-4959-b62a-ca2f8873dc7f",
   "metadata": {},
   "outputs": [],
   "source": []
  },
  {
   "cell_type": "code",
   "execution_count": null,
   "id": "e9d516d6-0718-4b5a-a266-aa17dc0a8017",
   "metadata": {},
   "outputs": [],
   "source": []
  },
  {
   "cell_type": "code",
   "execution_count": null,
   "id": "7cb834a1-683e-409f-a241-cc57af735482",
   "metadata": {},
   "outputs": [],
   "source": []
  },
  {
   "cell_type": "code",
   "execution_count": null,
   "id": "9e4b4acc-7cba-4bab-bed3-f5006950e707",
   "metadata": {},
   "outputs": [],
   "source": []
  },
  {
   "cell_type": "code",
   "execution_count": null,
   "id": "35cbf9c7-b767-41f0-b1cc-f802ad3f119d",
   "metadata": {},
   "outputs": [],
   "source": []
  }
 ],
 "metadata": {
  "kernelspec": {
   "display_name": "Python 3 (ipykernel)",
   "language": "python",
   "name": "python3"
  },
  "language_info": {
   "codemirror_mode": {
    "name": "ipython",
    "version": 3
   },
   "file_extension": ".py",
   "mimetype": "text/x-python",
   "name": "python",
   "nbconvert_exporter": "python",
   "pygments_lexer": "ipython3",
   "version": "3.9.12"
  }
 },
 "nbformat": 4,
 "nbformat_minor": 5
}
