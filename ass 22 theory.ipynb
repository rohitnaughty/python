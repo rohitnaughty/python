{
 "cells": [
  {
   "cell_type": "code",
   "execution_count": null,
   "id": "a88d32bb-e4aa-4382-9554-bdd693fd23b4",
   "metadata": {},
   "outputs": [],
   "source": [
    "1. What is the result of the code, and explain?\n",
    "\n",
    ">>> X = \"iNeuron\"\n",
    ">>> def func():\n",
    "print(X)\n",
    "\n",
    ">>> func()\n",
    "\n"
   ]
  },
  {
   "cell_type": "code",
   "execution_count": 1,
   "id": "37058e19-5b74-4579-a3fd-504d087e5a1c",
   "metadata": {},
   "outputs": [
    {
     "name": "stdout",
     "output_type": "stream",
     "text": [
      "iNeuron\n"
     ]
    }
   ],
   "source": [
    "X = \"iNeuron\"\n",
    "def func():\n",
    "    print(X)\n",
    "func()"
   ]
  },
  {
   "cell_type": "raw",
   "id": "c0ee0be4-d873-485d-9d63-dd99baf1aab5",
   "metadata": {},
   "source": [
    "The global variables are accessible inside the fuctions in python .But can not access function  variable outside function.\n",
    "Since x is global variable we are able to print it in side the function\n",
    "Solution:\"ineuron\""
   ]
  },
  {
   "cell_type": "code",
   "execution_count": null,
   "id": "4d0ade00-68c0-4f33-b17e-2a83d3acfca6",
   "metadata": {},
   "outputs": [],
   "source": [
    "2. What is the result of the code, and explain?\n",
    "\n",
    ">>> X = \"iNeuron\"\n",
    ">>> def func():\n",
    "X = \"NI!\"\n",
    "\n",
    ">>> func()\n",
    ">>> print(X)"
   ]
  },
  {
   "cell_type": "code",
   "execution_count": 2,
   "id": "c8db8922-0885-4f21-9557-e05c405abf53",
   "metadata": {},
   "outputs": [
    {
     "name": "stdout",
     "output_type": "stream",
     "text": [
      "iNeuron\n"
     ]
    }
   ],
   "source": [
    "X = \"iNeuron\"\n",
    "def func():\n",
    "    X = \"NI!\"\n",
    "func()\n",
    "print(X)"
   ]
  },
  {
   "cell_type": "raw",
   "id": "2285c70d-8cab-4b29-b652-7ae6e041288b",
   "metadata": {},
   "source": [
    "The global variables are access in side the functions in python.But we can not access function variable outside function.\n",
    "Since x is g;obal variable  we are able to print it outside of the function\n",
    "Solution=\"iNeuron\""
   ]
  },
  {
   "cell_type": "code",
   "execution_count": null,
   "id": "f855570b-d6af-482e-a85e-56f4ffbccb8f",
   "metadata": {},
   "outputs": [],
   "source": [
    "3. What does this code print, and why?\n",
    "\n",
    ">>> X = \"iNeuron\"\n",
    ">>> def func():\n",
    "X = \"NI\"\n",
    "print(X)\n",
    "\n",
    ">>> func()\n",
    ">>> print(X)\n",
    "\n"
   ]
  },
  {
   "cell_type": "code",
   "execution_count": 3,
   "id": "793a5cd9-5ddc-446e-b67e-6e7f973041bd",
   "metadata": {},
   "outputs": [
    {
     "name": "stdout",
     "output_type": "stream",
     "text": [
      "NI\n",
      "iNeuron\n"
     ]
    }
   ],
   "source": [
    "X = \"iNeuron\"\n",
    "def func():\n",
    "    X = \"NI\"\n",
    "    print(X)\n",
    "\n",
    "func()\n",
    "print(X)"
   ]
  },
  {
   "cell_type": "raw",
   "id": "95db6218-9ff5-4cf6-a091-45b5f354b5a3",
   "metadata": {},
   "source": [
    "The global variables are access in side the functions in python.But we can access function variable out side\n",
    "function .X is updated with \"NI\" which is local to function and its immutable. its name space is with in the function \n",
    "Solution =\"NI!\",\"iNeuron\""
   ]
  },
  {
   "cell_type": "code",
   "execution_count": null,
   "id": "1a0c107a-c8cf-4289-a963-39864e4a56ac",
   "metadata": {},
   "outputs": [],
   "source": [
    "4. What output does this code produce? Why?\n",
    "\n",
    ">>> X = \"iNeuron\"\n",
    ">>> def func():\n",
    "global X\n",
    "X = \"NI\"\n",
    "\n",
    ">>> func()\n",
    ">>> print(X)\n",
    "\n"
   ]
  },
  {
   "cell_type": "code",
   "execution_count": 13,
   "id": "45c0f5c5-e6ea-4c69-8bce-bc6b3de02119",
   "metadata": {},
   "outputs": [
    {
     "name": "stdout",
     "output_type": "stream",
     "text": [
      "NI!\n"
     ]
    }
   ],
   "source": [
    "X = \"iNeuron\"\n",
    "def func():\n",
    "    global X\n",
    "    X = \"NI!\"\n",
    "\n",
    "func()\n",
    "print(X)\n",
    "\n"
   ]
  },
  {
   "cell_type": "raw",
   "id": "dca2c9b0-320e-4ad4-9586-4372b3ba7e2b",
   "metadata": {},
   "source": [
    "Since the X in side function is made Global, it will be assesible out side of the function too.\n",
    "now Xwill have new value.\n",
    "Solution:\"NI!\""
   ]
  },
  {
   "cell_type": "code",
   "execution_count": null,
   "id": "1b44244b-dae1-459f-b84d-e119475fcc4f",
   "metadata": {},
   "outputs": [],
   "source": [
    "5. What about this code—what’s the output, and why?\n",
    ">>> X = \"iNeuron\"\n",
    ">>> def func():\n",
    "X =\"NI\"\n",
    "def nested():\n",
    "print(X)\n",
    "nested()\n",
    "\n",
    ">>> func()\n",
    ">>> X"
   ]
  },
  {
   "cell_type": "code",
   "execution_count": 6,
   "id": "b22c34d8-04b4-48c7-a683-e27ae5875a25",
   "metadata": {},
   "outputs": [
    {
     "data": {
      "text/plain": [
       "'iNeuron'"
      ]
     },
     "execution_count": 6,
     "metadata": {},
     "output_type": "execute_result"
    }
   ],
   "source": [
    "X = \"iNeuron\"\n",
    "def func():\n",
    "    X =\"NI\"\n",
    "def nested():\n",
    "    print(X)\n",
    "    nested()\n",
    "\n",
    "func()\n",
    "X"
   ]
  },
  {
   "cell_type": "raw",
   "id": "cb0ee2b0-53d8-4e5e-8989-48ccff8ecbcf",
   "metadata": {},
   "source": [
    "The nested() function will print \"iNeuron\",Then func() does not display anything, and x=\"NI\" is not accessible out side the function.\n",
    "Solution:\"iNeuron\""
   ]
  },
  {
   "cell_type": "code",
   "execution_count": null,
   "id": "7dffd1e3-cdd7-4764-b62f-5a3f02242251",
   "metadata": {},
   "outputs": [],
   "source": []
  },
  {
   "cell_type": "code",
   "execution_count": null,
   "id": "8bab9f6b-92e7-4d9f-bc16-5cbf02a256d2",
   "metadata": {},
   "outputs": [],
   "source": [
    "6. How about this code: what is its output in Python 3, and explain?\n",
    "\n",
    ">>> def func():\n",
    "X =\"NI\"\n",
    "def nested():\n",
    "nonlocal X\n",
    "X = \"Spam\"\n",
    "nested()\n",
    "print(X)\n",
    "\n",
    ">>>func()"
   ]
  },
  {
   "cell_type": "code",
   "execution_count": 11,
   "id": "579cd2d9-6edc-4575-892f-9c001000bbae",
   "metadata": {},
   "outputs": [
    {
     "name": "stdout",
     "output_type": "stream",
     "text": [
      "Spam\n"
     ]
    }
   ],
   "source": [
    "def func():\n",
    "    X =\"NI\"\n",
    "    def nested():\n",
    "        nonlocal X\n",
    "        X = \"Spam\"\n",
    "    nested()\n",
    "    print(X)\n",
    "\n",
    "func()"
   ]
  },
  {
   "cell_type": "raw",
   "id": "9c4a2b56-c646-414d-89b3-77db63f7c1ce",
   "metadata": {},
   "source": [
    "Nonlocal variables are used in nested functions whose local scope is not defined.\n",
    "This means that the variable can be neither in the local non the global scope. It print the updated value from nested function \n",
    "Solution :\"spam\""
   ]
  }
 ],
 "metadata": {
  "kernelspec": {
   "display_name": "Python 3 (ipykernel)",
   "language": "python",
   "name": "python3"
  },
  "language_info": {
   "codemirror_mode": {
    "name": "ipython",
    "version": 3
   },
   "file_extension": ".py",
   "mimetype": "text/x-python",
   "name": "python",
   "nbconvert_exporter": "python",
   "pygments_lexer": "ipython3",
   "version": "3.9.12"
  }
 },
 "nbformat": 4,
 "nbformat_minor": 5
}
