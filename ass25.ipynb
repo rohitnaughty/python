{
 "cells": [
  {
   "cell_type": "raw",
   "id": "d1e666ad-1c05-4458-9625-03e9dc967724",
   "metadata": {},
   "source": [
    "Question1\n",
    "Create a function that takes three integer arguments (a, b, c) and returns the amount of\n",
    "integers which are of equal value.\n",
    "Examples\n",
    "equal(3, 4, 3) ➞ 2\n",
    "equal(1, 1, 1) ➞ 3\n",
    "equal(3, 4, 1) ➞ 0\n",
    "Notes\n",
    "Your function must return 0, 2 or 3.\n"
   ]
  },
  {
   "cell_type": "code",
   "execution_count": 2,
   "id": "7021c870-b17d-4e11-924b-d4538ef484a6",
   "metadata": {},
   "outputs": [],
   "source": [
    "\n",
    "def equal(a,b,c): \n",
    "    try: \n",
    "        if type(a)==int and type(b)==int and type(c)==int:\n",
    "            if a==b and b==c:\n",
    "                return 3\n",
    "            elif a==b or a==c:\n",
    "                return 2\n",
    "            else:\n",
    "                return 0\n",
    "        else :return \"invalid input\"\n",
    "    except ValueError:\n",
    "        print(\"please input integer\")\n",
    "        "
   ]
  },
  {
   "cell_type": "code",
   "execution_count": 3,
   "id": "b8839db5-05e4-4045-9641-4e63895149df",
   "metadata": {},
   "outputs": [
    {
     "data": {
      "text/plain": [
       "0"
      ]
     },
     "execution_count": 3,
     "metadata": {},
     "output_type": "execute_result"
    }
   ],
   "source": [
    "equal(2,32,12)"
   ]
  },
  {
   "cell_type": "raw",
   "id": "dc0859ba-7144-4b3f-a822-fa7e012fb610",
   "metadata": {},
   "source": [
    "Question2\n",
    "Write a function that converts a dictionary into a list of keys-values tuples.\n",
    "Examples\n",
    "dict_to_list({\n",
    "\"D\": 1,\n",
    "\"B\": 2,\n",
    "\"C\": 3\n",
    "}) ➞ [(\"B\", 2), (\"C\", 3), (\"D\", 1)]\n",
    "dict_to_list({\n",
    "\"likes\": 2,\n",
    "\"dislikes\": 3,\n",
    "\"followers\": 10\n",
    "}) ➞ [(\"dislikes\", 3), (\"followers\", 10), (\"likes\", 2)]\n",
    "Notes\n",
    "Return the elements in the list in alphabetical order."
   ]
  },
  {
   "cell_type": "code",
   "execution_count": 9,
   "id": "de9bf9c6-ac9a-4742-82f0-65a388547f14",
   "metadata": {},
   "outputs": [
    {
     "data": {
      "text/plain": [
       "[('B', 2), ('C', 3), ('D', 1)]"
      ]
     },
     "execution_count": 9,
     "metadata": {},
     "output_type": "execute_result"
    }
   ],
   "source": [
    "from collections import OrderedDict\n",
    "def dict_to_list(d):\n",
    "    \"\"\"  function that converts a dictionary into a list of keys-values tuples.\"\"\"\n",
    "    sorted_dict=OrderedDict(sorted(d.items()))\n",
    "    output=list(sorted_dict.items())\n",
    "    return output\n",
    "dict_to_list({\n",
    "\"D\": 1,\n",
    "\"B\": 2,\n",
    "\"C\": 3\n",
    "})"
   ]
  },
  {
   "cell_type": "raw",
   "id": "4f396668-4de0-445b-aa43-5219f2ae47c4",
   "metadata": {},
   "source": [
    "Question3\n",
    "Write a function that creates a dictionary with each (key, value) pair being the (lower case,\n",
    "upper case) versions of a letter, respectively.\n",
    "Examples\n",
    "mapping([\"p\", \"s\"]) ➞ { \"p\": \"P\", \"s\": \"S\" }\n",
    "mapping([\"\"a\", \"b\", \"c\"]) ➞ { \"a\": \"A\", \"b\": \"B\", \"c\": \"C\" }\n",
    "mapping([\"a\", \"v\", \"y\", \"z\"]) ➞ { \"a\": \"A\", \"v\": \"V\", \"y\": \"Y\", \"z\": \"Z\" }\n",
    "Notes\n",
    "All of the letters in the input list will always be lowercase."
   ]
  },
  {
   "cell_type": "code",
   "execution_count": 15,
   "id": "8a5d4b5e-3bcb-4d18-813a-17a1417997f9",
   "metadata": {},
   "outputs": [
    {
     "data": {
      "text/plain": [
       "{'a': 'A', 'v': 'V', 'y': 'Y', 'z': 'Z'}"
      ]
     },
     "execution_count": 15,
     "metadata": {},
     "output_type": "execute_result"
    }
   ],
   "source": [
    "def mapping(l):\n",
    "    \"\"\" function that creates a dictionary with each (key, value) pair being the (lower case,\n",
    "upper case) versions of a letter, respectively.\"\"\"\n",
    "    l2=[]\n",
    "    for i in l:\n",
    "        l2.append(i.upper())\n",
    "    return dict(zip(l,l2))\n",
    "mapping([\"a\", \"v\", \"y\", \"z\"])"
   ]
  },
  {
   "cell_type": "raw",
   "id": "c3810484-cba5-4420-9e6b-8a6f1fbc868e",
   "metadata": {},
   "source": [
    "Question4\n",
    "Write a function, that replaces all vowels in a string with a specified vowel.\n",
    "Examples\n",
    "vow_replace(\"apples and bananas\", \"u\") ➞ \"upplus und bununus\"\n",
    "vow_replace(\"cheese casserole\",\"o\") ➞ \"chooso cossorolo\"\n",
    "vow_replace(\"stuffed jalapeno poppers, \"e\") ➞ \"steffed jelepene peppers\"\n",
    "Notes\n",
    "All words will be lowercase. Y is not considered a vowel."
   ]
  },
  {
   "cell_type": "code",
   "execution_count": 19,
   "id": "04079835-d84a-4d77-aeef-d9e341b946f6",
   "metadata": {},
   "outputs": [
    {
     "data": {
      "text/plain": [
       "'upplus und bununus'"
      ]
     },
     "execution_count": 19,
     "metadata": {},
     "output_type": "execute_result"
    }
   ],
   "source": [
    "def vow_replace(string,a):\n",
    "    \"\"\" a function, that replaces all vowels in a string with a specified vowel. \"\"\"\n",
    "    k=[]\n",
    "    l=[\"a\",\"e\",\"i\",\"o\",\"u\"]\n",
    "    for i in string:\n",
    "        if i==\"a\" or i==\"e\" or i==\"i\" or i==\"o\" or i==\"u\":\n",
    "            k.append(a)\n",
    "        else:\n",
    "            k.append(i)\n",
    "    return \"\".join(k)\n",
    "vow_replace(\"apples and bananas\", \"u\")\n",
    "            \n",
    "        \n",
    "    "
   ]
  },
  {
   "cell_type": "raw",
   "id": "63925a3a-84d8-46c3-b1c3-970aeec40ad1",
   "metadata": {},
   "source": [
    "Question5\n",
    "Create a function that takes a string as input and capitalizes a letter if its ASCII code is even\n",
    "and returns its lower case version if its ASCII code is odd.\n",
    "Examples\n",
    "ascii_capitalize(\"to be or not to be!\") ➞ \"To Be oR NoT To Be!\"\n",
    "ascii_capitalize(\"THE LITTLE MERMAID\") ➞ \"THe LiTTLe meRmaiD\"\n",
    "ascii_capitalize(\"Oh what a beautiful morning.\") ➞ \"oH wHaT a BeauTiFuL moRNiNg.\""
   ]
  },
  {
   "cell_type": "code",
   "execution_count": 24,
   "id": "4666af14-c93d-497c-aafe-f433f62f1284",
   "metadata": {},
   "outputs": [
    {
     "data": {
      "text/plain": [
       "'THe LiTTLe meRmaiD'"
      ]
     },
     "execution_count": 24,
     "metadata": {},
     "output_type": "execute_result"
    }
   ],
   "source": [
    "def ascii_capitalize(string):\n",
    "    final=\"\"\n",
    "    for i in string:\n",
    "        k=ord(i)\n",
    "        if k%2==0:\n",
    "            final+=i.upper()\n",
    "        else:\n",
    "            final+=i.lower()\n",
    "    return final\n",
    "ascii_capitalize(\"THE LITTLE MERMAID\")\n",
    "            "
   ]
  },
  {
   "cell_type": "code",
   "execution_count": 22,
   "id": "43799cc9-4d23-4d8d-a4ce-7d57ecb37ffc",
   "metadata": {},
   "outputs": [
    {
     "data": {
      "text/plain": [
       "65"
      ]
     },
     "execution_count": 22,
     "metadata": {},
     "output_type": "execute_result"
    }
   ],
   "source": [
    "ord(\"A\")"
   ]
  },
  {
   "cell_type": "code",
   "execution_count": null,
   "id": "1e8ccecd-641e-4aba-9467-2fa2322f4af8",
   "metadata": {},
   "outputs": [],
   "source": []
  }
 ],
 "metadata": {
  "kernelspec": {
   "display_name": "Python 3 (ipykernel)",
   "language": "python",
   "name": "python3"
  },
  "language_info": {
   "codemirror_mode": {
    "name": "ipython",
    "version": 3
   },
   "file_extension": ".py",
   "mimetype": "text/x-python",
   "name": "python",
   "nbconvert_exporter": "python",
   "pygments_lexer": "ipython3",
   "version": "3.9.12"
  }
 },
 "nbformat": 4,
 "nbformat_minor": 5
}
