{
 "cells": [
  {
   "cell_type": "markdown",
   "id": "c744b451-91c8-4ba1-af64-ec0499f379a2",
   "metadata": {},
   "source": [
    "1.What are the two values of the Boolean data type? How do you write them?"
   ]
  },
  {
   "cell_type": "markdown",
   "id": "ec795260-9c6c-45b4-be1d-7dcc2e893927",
   "metadata": {},
   "source": [
    "true and false are two values of boolean data type. we write them True ,False"
   ]
  },
  {
   "cell_type": "markdown",
   "id": "9b33d344-83de-49a1-a6eb-cb4a74b82a7e",
   "metadata": {},
   "source": [
    "2. What are the three different types of Boolean operators?"
   ]
  },
  {
   "cell_type": "markdown",
   "id": "e541ab78-c0ba-44e9-aaa1-2556d66300c2",
   "metadata": {},
   "source": [
    "AND,OR and NOT are 3 types of bollean operators"
   ]
  },
  {
   "cell_type": "raw",
   "id": "976bd0bf-b91e-4aa6-be27-da7a2349b9c4",
   "metadata": {},
   "source": [
    "3. Make a list of each Boolean operators truth tables (i.e. every possible combination of Boolean values for the operator and what it evaluate )."
   ]
  },
  {
   "cell_type": "code",
   "execution_count": 3,
   "id": "ec812786-e8e4-4bf3-a891-455cadab08ce",
   "metadata": {},
   "outputs": [
    {
     "data": {
      "text/plain": [
       "False"
      ]
     },
     "execution_count": 3,
     "metadata": {},
     "output_type": "execute_result"
    }
   ],
   "source": [
    "True or True is True\n",
    "True or False is True\n",
    "True and True  is True\n",
    "True and False is False\n",
    "False and True is False\n",
    "False and False is False\n",
    "False or True is True\n",
    "False or False is False\n",
    "not False is True\n",
    "not True is False"
   ]
  },
  {
   "cell_type": "raw",
   "id": "5977e7c0-7918-4f1d-bfc6-9a1c1be2be65",
   "metadata": {},
   "source": [
    "4. What are the values of the following expressions?\n",
    "(5>4) and (3 == 5) \n",
    "not (5>4)\n",
    "(5>4) or (3 == 5)\n",
    "not ((5>4) or (3 == 5))\n",
    "(True and True) and (True == False)\n",
    "(not False) or (not True)"
   ]
  },
  {
   "cell_type": "code",
   "execution_count": 2,
   "id": "fe9f2aa0-0860-4425-8908-206ba185e755",
   "metadata": {},
   "outputs": [
    {
     "name": "stdout",
     "output_type": "stream",
     "text": [
      "False\n",
      "False\n",
      "True\n"
     ]
    }
   ],
   "source": [
    "False\n",
    "False\n",
    "True\n",
    "False\n",
    "False\n",
    "True"
   ]
  },
  {
   "cell_type": "raw",
   "id": "eaa0a709-072d-479a-aad7-32fa99d76d0d",
   "metadata": {},
   "source": [
    "5. What are the six comparison operators?"
   ]
  },
  {
   "cell_type": "markdown",
   "id": "745a9c8b-2793-4169-8386-7bfa605ad504",
   "metadata": {},
   "source": [
    "[==,!=,<,>,<=,>=]"
   ]
  },
  {
   "cell_type": "markdown",
   "id": "e65154f0-c5e2-40e0-b3c8-e92e50ce4c4a",
   "metadata": {},
   "source": [
    "6. How do you tell the difference between the equal to and assignment operators?Describe a\n",
    "condition and when you would use one."
   ]
  },
  {
   "cell_type": "raw",
   "id": "1ace5f4b-2f5b-4b52-9189-cac9e2436d29",
   "metadata": {},
   "source": [
    "The equal to is use to assign the value on  the value on the right to the variable on the left.\n",
    "The \"==\" operator checks whether  the two given operands are equal or not."
   ]
  },
  {
   "cell_type": "markdown",
   "id": "721b7b0c-0189-4a2c-881f-4222cb03c00b",
   "metadata": {},
   "source": [
    "7. Identify the three blocks in this code:\n",
    "spam = 0\n",
    "if spam == 10:\n",
    "print(&#39;eggs&#39;)\n",
    "if spam &gt; 5:\n",
    "print(&#39;bacon&#39;)\n",
    "else:\n",
    "print(&#39;ham&#39;)\n",
    "print(&#39;spam&#39;)\n",
    "print(&#39;spam&#39;)"
   ]
  },
  {
   "cell_type": "code",
   "execution_count": null,
   "id": "e9ed93b0-7f98-4d69-9c1c-e4e67e0d9309",
   "metadata": {},
   "outputs": [],
   "source": [
    "The Three blocks are everything inside the if statement and the lines \n",
    "print(\"eggs\")\n",
    "  if spam > 5:\n",
    "        print(\"bacon\")\n",
    "    else:\n",
    "        print(\"ham\")\n",
    "        print(\"spam\")\n",
    "        print(\"spam\")"
   ]
  },
  {
   "cell_type": "markdown",
   "id": "f1377478-dc10-476f-836b-eb167790bc4f",
   "metadata": {},
   "source": [
    "8. Write code that prints Hello if 1 is stored in spam, prints Howdy if 2 is stored in spam, and prints\n",
    "Greetings! if anything else is stored in spam."
   ]
  },
  {
   "cell_type": "code",
   "execution_count": 1,
   "id": "150b2117-908c-453f-bc38-57c1de8b52d1",
   "metadata": {},
   "outputs": [
    {
     "name": "stdout",
     "output_type": "stream",
     "text": [
      "Greeting!\n"
     ]
    }
   ],
   "source": [
    "spam=56\n",
    "if spam==1:\n",
    "    print(\"Hello\")\n",
    "elif spam==2:\n",
    "    print(\"Howdy\")\n",
    "else:\n",
    "    print(\"Greeting!\")"
   ]
  },
  {
   "cell_type": "code",
   "execution_count": null,
   "id": "17250994-af4d-49ae-8fee-edf76a4b72e6",
   "metadata": {},
   "outputs": [],
   "source": []
  }
 ],
 "metadata": {
  "kernelspec": {
   "display_name": "Python 3 (ipykernel)",
   "language": "python",
   "name": "python3"
  },
  "language_info": {
   "codemirror_mode": {
    "name": "ipython",
    "version": 3
   },
   "file_extension": ".py",
   "mimetype": "text/x-python",
   "name": "python",
   "nbconvert_exporter": "python",
   "pygments_lexer": "ipython3",
   "version": "3.9.12"
  }
 },
 "nbformat": 4,
 "nbformat_minor": 5
}
