{
 "cells": [
  {
   "cell_type": "markdown",
   "id": "6d68ba1f-430e-4570-8c87-ea36e195ef95",
   "metadata": {},
   "source": [
    "Write a Python Program for cube sum of first n natural numbers?"
   ]
  },
  {
   "cell_type": "code",
   "execution_count": 17,
   "id": "bd23d752-f0bd-4813-a636-27ff0fe2249a",
   "metadata": {},
   "outputs": [
    {
     "name": "stdin",
     "output_type": "stream",
     "text": [
      "enter no  10\n"
     ]
    },
    {
     "name": "stdout",
     "output_type": "stream",
     "text": [
      "3025\n"
     ]
    }
   ],
   "source": [
    "n=int(input(\"enter no \"))\n",
    "if n>0:\n",
    "    Sum=0\n",
    "    \n",
    "    for i in range(1,n+1):\n",
    "        Sum=Sum+i**3\n",
    "print(Sum)\n",
    "\n",
    "\n"
   ]
  },
  {
   "cell_type": "markdown",
   "id": "51744129-de83-4c34-8fb2-a002fcb9293f",
   "metadata": {},
   "source": [
    "4. Write a Python Program to calculate the natural logarithm of any number?"
   ]
  },
  {
   "cell_type": "code",
   "execution_count": 8,
   "id": "95578f9e-66dd-4b4d-82c1-ad39f0fb8992",
   "metadata": {},
   "outputs": [
    {
     "name": "stdin",
     "output_type": "stream",
     "text": [
      "enter a no 10\n"
     ]
    },
    {
     "name": "stdout",
     "output_type": "stream",
     "text": [
      "1.0\n"
     ]
    }
   ],
   "source": [
    "import math\n",
    "n=float(input(\"enter a no\"))\n",
    "print(math.log(n,10))"
   ]
  },
  {
   "cell_type": "markdown",
   "id": "7ea8d1dd-5d59-4066-b33e-dfd34a3b3ad2",
   "metadata": {},
   "source": [
    "3. Write a Python Program to calculate your Body Mass Index?"
   ]
  },
  {
   "cell_type": "code",
   "execution_count": 10,
   "id": "86131856-d859-4a2c-befc-ab558de88356",
   "metadata": {},
   "outputs": [
    {
     "name": "stdin",
     "output_type": "stream",
     "text": [
      "enter a height in feet  10\n",
      "enter a weight in kg  55\n"
     ]
    },
    {
     "name": "stdout",
     "output_type": "stream",
     "text": [
      "body mass index is  0.1\n"
     ]
    }
   ],
   "source": [
    "height=float(input(\"enter a height in feet \"))\n",
    "weight=float(input(\"enter a weight in kg \"))\n",
    "print(\"body mass index is \",round(weight/(height*weight),2))"
   ]
  },
  {
   "cell_type": "markdown",
   "id": "33c13b51-daeb-4836-b754-98012e9b4578",
   "metadata": {},
   "source": [
    "1. Write a Python Program to Display Fibonacci Sequence Using Recursion?"
   ]
  },
  {
   "cell_type": "code",
   "execution_count": 4,
   "id": "f635c759-89d7-4ae6-9d73-a5c436ad6797",
   "metadata": {},
   "outputs": [],
   "source": [
    "def fibo(n):\n",
    "    \"\"\"Display Fibonacci Sequence Using Recursion\"\"\"\n",
    "    f=[0,1]\n",
    "    for i in range(2,n+1):\n",
    "        f.append(f[i-1]+f[i-2])\n",
    "    return f\n",
    "        \n",
    "        \n",
    "    "
   ]
  },
  {
   "cell_type": "code",
   "execution_count": 5,
   "id": "aa73a33f-06e8-4487-926b-717d02330102",
   "metadata": {},
   "outputs": [
    {
     "data": {
      "text/plain": [
       "[0, 1, 1, 2, 3, 5, 8, 13]"
      ]
     },
     "execution_count": 5,
     "metadata": {},
     "output_type": "execute_result"
    }
   ],
   "source": [
    "fibo(7)"
   ]
  },
  {
   "cell_type": "markdown",
   "id": "a143928e-a73a-44d6-af49-60970fb6ef6c",
   "metadata": {},
   "source": [
    "2. Write a Python Program to Find Factorial of Number Using Recursion?"
   ]
  },
  {
   "cell_type": "code",
   "execution_count": 7,
   "id": "5d6b395e-d850-4cd1-bb96-fe92cbb4acf5",
   "metadata": {},
   "outputs": [
    {
     "name": "stdin",
     "output_type": "stream",
     "text": [
      "enter a no  3\n"
     ]
    },
    {
     "name": "stdout",
     "output_type": "stream",
     "text": [
      "factorial of no is  6\n"
     ]
    }
   ],
   "source": [
    "def factorial(n):\n",
    "    if n==0 and n==1:\n",
    "        print (\"factoral is 1 \")\n",
    "    elif n<0:\n",
    "        print(\"enter a positive no\")\n",
    "    else :\n",
    "        i=1\n",
    "        fac=1\n",
    "        for i in range(1,n+1):\n",
    "            fac=fac*i\n",
    "            i+=1  \n",
    "        return fac\n",
    "n=int(input(\"enter a no \"))\n",
    "print(\"factorial of no is \",factorial(n))\n",
    "\n",
    "            "
   ]
  },
  {
   "cell_type": "code",
   "execution_count": null,
   "id": "48da6f0d-a769-48e5-a84f-78504caa9505",
   "metadata": {},
   "outputs": [],
   "source": []
  },
  {
   "cell_type": "code",
   "execution_count": null,
   "id": "01fe688b-3005-4cda-91ac-3a4aa80f077e",
   "metadata": {},
   "outputs": [],
   "source": []
  }
 ],
 "metadata": {
  "kernelspec": {
   "display_name": "Python 3 (ipykernel)",
   "language": "python",
   "name": "python3"
  },
  "language_info": {
   "codemirror_mode": {
    "name": "ipython",
    "version": 3
   },
   "file_extension": ".py",
   "mimetype": "text/x-python",
   "name": "python",
   "nbconvert_exporter": "python",
   "pygments_lexer": "ipython3",
   "version": "3.9.12"
  }
 },
 "nbformat": 4,
 "nbformat_minor": 5
}
