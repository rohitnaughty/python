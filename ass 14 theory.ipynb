{
 "cells": [
  {
   "cell_type": "markdown",
   "id": "7538b8ea-19a7-49ce-875b-3274157f9726",
   "metadata": {},
   "source": [
    "1. What does RGBA stand for?\n"
   ]
  },
  {
   "cell_type": "raw",
   "id": "a5a94e76-b1c0-414a-a945-67eb7a0a3604",
   "metadata": {},
   "source": [
    "RGBA stands for red,green,blue and alpha(transparncy) in the color\n",
    "An RGBA value is a tuple of 4 integers, each ranging from 0 to 255. The four integers correspond to amount of red ,green,blue,and alpha(transparency) in the colour"
   ]
  },
  {
   "cell_type": "markdown",
   "id": "29d50d44-b534-452d-b95e-52fd31c179a0",
   "metadata": {},
   "source": [
    "2. From the Pillow module, how do you get the RGBA value of any images?\n"
   ]
  },
  {
   "cell_type": "code",
   "execution_count": 1,
   "id": "de11e569-6d74-422a-b4b1-cf150120226d",
   "metadata": {},
   "outputs": [
    {
     "data": {
      "text/plain": [
       "(0, 128, 0, 255)"
      ]
     },
     "execution_count": 1,
     "metadata": {},
     "output_type": "execute_result"
    }
   ],
   "source": [
    "from PIL import ImageColor\n",
    "ImageColor.getcolor('red','RGBA')\n",
    "ImageColor.getcolor(\"green\",\"RGBA\")                    "
   ]
  },
  {
   "cell_type": "markdown",
   "id": "eb484353-a61b-4dab-8daf-133133a96c87",
   "metadata": {},
   "source": [
    "3. What is a box tuple, and how does it work?\n"
   ]
  },
  {
   "cell_type": "raw",
   "id": "687201b0-5e2f-4d3b-986c-23b4c3bb1878",
   "metadata": {},
   "source": [
    "A box tuple is a tuple value of four integers: the left edge x-cordinate,  the top edge y- coordianate, the width, and the height, respectively "
   ]
  },
  {
   "cell_type": "markdown",
   "id": "3bdc72cd-9262-43f6-bbd6-0cff96779a2f",
   "metadata": {},
   "source": [
    "4. Use your image and load in notebook then, How can you find out the width and height of an\n",
    "Image object?\n"
   ]
  },
  {
   "cell_type": "code",
   "execution_count": 3,
   "id": "417ec6c2-3015-4c52-a484-86e0d1a77e8e",
   "metadata": {},
   "outputs": [
    {
     "data": {
      "text/plain": [
       "(867, 1156)"
      ]
     },
     "execution_count": 3,
     "metadata": {},
     "output_type": "execute_result"
    }
   ],
   "source": [
    "from PIL import Image\n",
    "myImg=Image.open(\"rohit.jpg\")\n",
    "w,h=myImg.size\n",
    "w,h"
   ]
  },
  {
   "cell_type": "markdown",
   "id": "6790cd75-6eb1-4025-81be-f84548ded25d",
   "metadata": {},
   "source": [
    "5. What method would you call to get Image object for a 100×100 image, excluding the lower-left\n",
    "quarter of it?\n"
   ]
  },
  {
   "cell_type": "raw",
   "id": "69342cfd-9fa9-4ad8-b662-d99866a600df",
   "metadata": {},
   "source": [
    "imageObj.crop((0,50,50,50)).Notice that you are passing a box tuple to crop(),not four separated integer arguments."
   ]
  },
  {
   "cell_type": "markdown",
   "id": "3d990e15-095e-4733-8d92-ce63aecd1366",
   "metadata": {},
   "source": [
    "6. After making changes to an Image object, how could you save it as an image file?\n"
   ]
  },
  {
   "cell_type": "raw",
   "id": "6b3401e5-6146-41b2-8b3e-aeb1f407a896",
   "metadata": {},
   "source": [
    "By Calling the imageObj.save(\"new_filename.png\") method of the Image object"
   ]
  },
  {
   "cell_type": "markdown",
   "id": "d407b4a3-9509-46e5-baa4-689954323167",
   "metadata": {},
   "source": [
    "7. What module contains Pillow’s shape-drawing code?\n"
   ]
  },
  {
   "cell_type": "raw",
   "id": "d8883ce8-bed6-496b-8a60-581050cc9d7e",
   "metadata": {},
   "source": [
    "The ImageDraw module contains code to draw on images"
   ]
  },
  {
   "cell_type": "markdown",
   "id": "2f40b48a-8137-44d6-bf00-bc0f161dd40a",
   "metadata": {},
   "source": [
    "8. Image objects do not have drawing methods. What kind of object does? How do you get this kind\n",
    "of object?"
   ]
  },
  {
   "cell_type": "raw",
   "id": "2bc6b1a2-9a92-471e-acfb-a504e4273f54",
   "metadata": {},
   "source": [
    "ImageDraw objects have shape-drawing methods such as point(), line(), or rectangle(). They are returned by passing the Image object to the ImageDraw.Draw() function"
   ]
  },
  {
   "cell_type": "code",
   "execution_count": null,
   "id": "09b3ed31-174d-4877-b47e-366f6aff0271",
   "metadata": {},
   "outputs": [],
   "source": []
  },
  {
   "cell_type": "code",
   "execution_count": null,
   "id": "b5ec14ef-0276-4e1d-be0e-6a94c89e9b32",
   "metadata": {},
   "outputs": [],
   "source": []
  }
 ],
 "metadata": {
  "kernelspec": {
   "display_name": "Python 3 (ipykernel)",
   "language": "python",
   "name": "python3"
  },
  "language_info": {
   "codemirror_mode": {
    "name": "ipython",
    "version": 3
   },
   "file_extension": ".py",
   "mimetype": "text/x-python",
   "name": "python",
   "nbconvert_exporter": "python",
   "pygments_lexer": "ipython3",
   "version": "3.9.12"
  }
 },
 "nbformat": 4,
 "nbformat_minor": 5
}
