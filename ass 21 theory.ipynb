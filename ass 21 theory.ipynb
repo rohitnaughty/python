{
 "cells": [
  {
   "cell_type": "markdown",
   "id": "e9a574c6-ec67-46a7-bbb4-5c3279190301",
   "metadata": {},
   "source": [
    "1. Add the current date to the text file today.txt as a string.\n"
   ]
  },
  {
   "cell_type": "code",
   "execution_count": 2,
   "id": "3fbcafc3-a4c3-4acd-ad66-0865c727d027",
   "metadata": {},
   "outputs": [
    {
     "data": {
      "text/plain": [
       "'2022-10-17'"
      ]
     },
     "execution_count": 2,
     "metadata": {},
     "output_type": "execute_result"
    }
   ],
   "source": [
    "import datetime\n",
    "from datetime import date\n",
    "now=date.today()\n",
    "cur_date=now.isoformat()\n",
    "cur_date\n",
    "\n"
   ]
  },
  {
   "cell_type": "code",
   "execution_count": 3,
   "id": "35615205-cc58-46f2-9985-41531234c3bb",
   "metadata": {},
   "outputs": [],
   "source": [
    "with open(\"today.txt\",\"w\") as file:\n",
    "    file.write(cur_date)"
   ]
  },
  {
   "cell_type": "markdown",
   "id": "ccaa4403-2963-4587-ae45-2a71a133e2af",
   "metadata": {},
   "source": [
    "2. Read the text file today.txt into the string today_string\n"
   ]
  },
  {
   "cell_type": "code",
   "execution_count": 9,
   "id": "a98eb9e8-72bf-4d06-9301-85107b9567f8",
   "metadata": {},
   "outputs": [
    {
     "data": {
      "text/plain": [
       "'2022-10-14'"
      ]
     },
     "execution_count": 9,
     "metadata": {},
     "output_type": "execute_result"
    }
   ],
   "source": [
    "with open(\"today.txt\",\"r\")as file:\n",
    "    today_string=file.read()\n",
    "today_string"
   ]
  },
  {
   "cell_type": "markdown",
   "id": "89ff10c3-0f31-4c71-bc0e-007f215b35d3",
   "metadata": {},
   "source": [
    "3. Parse the date from today_string.\n"
   ]
  },
  {
   "cell_type": "code",
   "execution_count": 10,
   "id": "ce5326c8-8299-4dc5-a1fb-2eacdf3b3d99",
   "metadata": {},
   "outputs": [
    {
     "data": {
      "text/plain": [
       "datetime.datetime(2022, 10, 14, 0, 0)"
      ]
     },
     "execution_count": 10,
     "metadata": {},
     "output_type": "execute_result"
    }
   ],
   "source": [
    "from datetime import datetime\n",
    "format = \"%Y-%m-%d\"\n",
    "datetime.strptime(today_string,format)"
   ]
  },
  {
   "cell_type": "markdown",
   "id": "c1b79b4b-d7c4-441e-a2ee-129e30afbf12",
   "metadata": {},
   "source": [
    "4. List the files in your current directory\n"
   ]
  },
  {
   "cell_type": "code",
   "execution_count": 11,
   "id": "185af6b1-cc0b-4eba-bc3b-068c01e94b16",
   "metadata": {},
   "outputs": [
    {
     "data": {
      "text/plain": [
       "['ass 17 theory.ipynb',\n",
       " 'test.txt',\n",
       " 'ass 24 theory.ipynb',\n",
       " 'example.tsv',\n",
       " 'ass 18 theory.ipynb',\n",
       " 'completed',\n",
       " 'output.csv',\n",
       " 'ass 16 theory.ipynb',\n",
       " 'ass 25 theory.ipynb',\n",
       " 'ass 22 theory.ipynb',\n",
       " 'books.db',\n",
       " 'ass 13 theory.ipynb',\n",
       " 'Untitled1.ipynb',\n",
       " 'books.csv',\n",
       " 'today.txt',\n",
       " 'ass 14 theory.ipynb',\n",
       " 'Untitled.ipynb',\n",
       " 'ass 15 theory.ipynb',\n",
       " 'ass 12 theory.ipynb',\n",
       " 'ass 20 theory.ipynb',\n",
       " 'ass 19  theory.ipynb',\n",
       " 'programLog.txt',\n",
       " 'ass 21 theory.ipynb',\n",
       " '.ipynb_checkpoints']"
      ]
     },
     "execution_count": 11,
     "metadata": {},
     "output_type": "execute_result"
    }
   ],
   "source": [
    "import os \n",
    "os.listdir(\".\")"
   ]
  },
  {
   "cell_type": "markdown",
   "id": "8ad14b84-e243-450f-85d8-b0175cc0eade",
   "metadata": {},
   "source": [
    "5. Create a list of all of the files in your parent directory (minimum five files should be available).\n"
   ]
  },
  {
   "cell_type": "code",
   "execution_count": 12,
   "id": "a6ab1588-b5c7-4020-91de-c303c2d36fc1",
   "metadata": {},
   "outputs": [
    {
     "data": {
      "text/plain": [
       "['.ipython',\n",
       " '.local',\n",
       " '.jupyter',\n",
       " 'assignment python',\n",
       " 'rohit.txt',\n",
       " 'course python',\n",
       " 'ass theory python basic ',\n",
       " '.bash_logout',\n",
       " '.profile',\n",
       " 'rohit,txt',\n",
       " '.cache',\n",
       " '.bashrc',\n",
       " '.ipynb_checkpoints']"
      ]
     },
     "execution_count": 12,
     "metadata": {},
     "output_type": "execute_result"
    }
   ],
   "source": [
    "os.listdir(\"..\")"
   ]
  },
  {
   "cell_type": "markdown",
   "id": "52303bbc-1fcf-4b20-a786-370abf1bcc02",
   "metadata": {},
   "source": [
    "6. Use multiprocessing to create three separate processes. Make each one wait a random number of\n",
    "seconds between one and five, print the current time, and then exit.\n"
   ]
  },
  {
   "cell_type": "code",
   "execution_count": 13,
   "id": "df639423-0b06-4955-9e14-bd23e857b4f1",
   "metadata": {},
   "outputs": [],
   "source": [
    "import multiprocessing\n",
    "def printsec(seconds):\n",
    "    from datetime import datetime\n",
    "    from time import sleep\n",
    "    sleep(seconds)\n",
    "    print(\"wait\",seconds,\"seconds,time is\",datetime.utcnow())\n",
    "    \n",
    "    if __name__==\"__main__\":\n",
    "        import random\n",
    "        for n in range(3):\n",
    "            seconds=random.random()\n",
    "            proc=multiprocessing.Process(target=printsec,args=(seconds,))\n",
    "            proc.start()\n",
    "            "
   ]
  },
  {
   "cell_type": "code",
   "execution_count": 14,
   "id": "13ad667a-d32f-4432-ad9c-c307c0472c2a",
   "metadata": {},
   "outputs": [
    {
     "name": "stdout",
     "output_type": "stream",
     "text": [
      "python: can't open file '/home/rohitnauti72ine/ass theory python basic /multi.py': [Errno 2] No such file or directory\n"
     ]
    }
   ],
   "source": [
    "!python multi.py"
   ]
  },
  {
   "cell_type": "markdown",
   "id": "0a728c82-353b-404b-a17d-1ff1d1db1be8",
   "metadata": {},
   "source": [
    "7. Create a date object of your day of birth.\n"
   ]
  },
  {
   "cell_type": "code",
   "execution_count": 15,
   "id": "8420d54f-2218-498f-bac7-4e1638990c53",
   "metadata": {},
   "outputs": [
    {
     "data": {
      "text/plain": [
       "datetime.date(1982, 9, 25)"
      ]
     },
     "execution_count": 15,
     "metadata": {},
     "output_type": "execute_result"
    }
   ],
   "source": [
    "my_date= date(1982,9,25)\n",
    "my_date"
   ]
  },
  {
   "cell_type": "markdown",
   "id": "877f83b8-e1e7-4103-bee8-63e0ffa4f53e",
   "metadata": {},
   "source": [
    "8. What day of the week was your day of birth?\n"
   ]
  },
  {
   "cell_type": "code",
   "execution_count": 19,
   "id": "58a30a7a-65d6-4c0f-8aa2-a707bb00a6a8",
   "metadata": {},
   "outputs": [
    {
     "data": {
      "text/plain": [
       "5"
      ]
     },
     "execution_count": 19,
     "metadata": {},
     "output_type": "execute_result"
    }
   ],
   "source": [
    "my_date.weekday()"
   ]
  },
  {
   "cell_type": "markdown",
   "id": "08c1effa-db72-4b03-a28f-769b8634f120",
   "metadata": {},
   "source": [
    "9. When will you be (or when were you) 10,000 days old?"
   ]
  },
  {
   "cell_type": "code",
   "execution_count": 18,
   "id": "871f9f03-4677-4730-b100-3b53bb60471d",
   "metadata": {},
   "outputs": [
    {
     "data": {
      "text/plain": [
       "datetime.date(2010, 2, 10)"
      ]
     },
     "execution_count": 18,
     "metadata": {},
     "output_type": "execute_result"
    }
   ],
   "source": [
    "from datetime import timedelta\n",
    "day10000=my_date+timedelta(days=10000)\n",
    "day10000"
   ]
  },
  {
   "cell_type": "code",
   "execution_count": null,
   "id": "314e95e7-cea4-49a6-8bab-6fdf41f6cedf",
   "metadata": {},
   "outputs": [],
   "source": []
  },
  {
   "cell_type": "code",
   "execution_count": null,
   "id": "79378e59-10f3-457b-ab3b-3f7bcb129fbe",
   "metadata": {},
   "outputs": [],
   "source": []
  }
 ],
 "metadata": {
  "kernelspec": {
   "display_name": "Python 3 (ipykernel)",
   "language": "python",
   "name": "python3"
  },
  "language_info": {
   "codemirror_mode": {
    "name": "ipython",
    "version": 3
   },
   "file_extension": ".py",
   "mimetype": "text/x-python",
   "name": "python",
   "nbconvert_exporter": "python",
   "pygments_lexer": "ipython3",
   "version": "3.9.12"
  }
 },
 "nbformat": 4,
 "nbformat_minor": 5
}
