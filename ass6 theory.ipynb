{
 "cells": [
  {
   "cell_type": "raw",
   "id": "236544f5-9548-4f67-9dac-564bca8dee2f",
   "metadata": {},
   "source": [
    "1. What are escape characters, and how do you use them?"
   ]
  },
  {
   "cell_type": "raw",
   "id": "9cfa18d2-b433-4138-a214-6874077434ad",
   "metadata": {},
   "source": [
    "To insert characters that are illegal in a  string, use an escape character. An escape character is a backlash \\ followed  by the character you want to insert"
   ]
  },
  {
   "cell_type": "raw",
   "id": "7ff78136-f1c4-4622-ad56-c815e34723cf",
   "metadata": {},
   "source": [
    "2. What do the escape characters n and t stand for?"
   ]
  },
  {
   "cell_type": "raw",
   "id": "c59e4e41-e399-4adf-9e4f-25ad3419aef4",
   "metadata": {},
   "source": [
    "It is used in representing certain whilespace characters: \"\\t\" is a tab,\"\\n\" is a newline."
   ]
  },
  {
   "cell_type": "raw",
   "id": "b1598f54-6561-4910-96b8-ed09631145d8",
   "metadata": {},
   "source": [
    "3. What is the way to include backslash characters in a string?"
   ]
  },
  {
   "cell_type": "code",
   "execution_count": 7,
   "id": "394bc6e0-c810-4f95-ba0c-41f085f7935f",
   "metadata": {},
   "outputs": [
    {
     "name": "stdout",
     "output_type": "stream",
     "text": [
      "\\\n"
     ]
    }
   ],
   "source": [
    "print(\"\\\\\")"
   ]
  },
  {
   "cell_type": "raw",
   "id": "3532bd12-d4d3-49aa-b30c-03975b0cf9d4",
   "metadata": {},
   "source": [
    "Using double back slash we can print backslash"
   ]
  },
  {
   "cell_type": "raw",
   "id": "52c06692-bd46-4f1b-99a7-1837f0cb5922",
   "metadata": {},
   "source": [
    "4. The string \"Howl\"s Moving Castle\" is a correct value. Why isn\"t the single quote character in the\n",
    "word Howl\"s not escaped a problem?"
   ]
  },
  {
   "cell_type": "raw",
   "id": "63fce572-8d16-494d-8313-744f6ae63a4e",
   "metadata": {},
   "source": [
    "The single quote in howl's is fine because we've used double quotes to mark the beginning and end of the string. "
   ]
  },
  {
   "cell_type": "raw",
   "id": "44274ba7-32e7-4a18-8008-502dead29c41",
   "metadata": {},
   "source": [
    "5. How do you write a string of newlines if you don\"t want to use the n character?"
   ]
  },
  {
   "cell_type": "code",
   "execution_count": null,
   "id": "75d8b5fa-24ef-4ccf-831b-987408466e4d",
   "metadata": {},
   "outputs": [],
   "source": [
    "By using new print statement \n"
   ]
  },
  {
   "cell_type": "code",
   "execution_count": 8,
   "id": "3ef68930-ebe1-4179-b11d-276cea5bf118",
   "metadata": {},
   "outputs": [
    {
     "name": "stdout",
     "output_type": "stream",
     "text": [
      "my name is rohit\n",
      "my surname is nautiyal\n"
     ]
    }
   ],
   "source": [
    "print(\"my name is rohit\")\n",
    "print(\"my surname is nautiyal\")"
   ]
  },
  {
   "cell_type": "raw",
   "id": "864c872f-1f1f-4c9c-8642-d915261cae13",
   "metadata": {},
   "source": [
    "6. What are the values of the given expressions?\n",
    "\"Hello, world!\"[1]\n",
    "\"Hello, world!\"[0:5]\n",
    "\"Hello, world!\"[:5]\n",
    "\"Hello, world!\"[3:]\n"
   ]
  },
  {
   "cell_type": "code",
   "execution_count": 11,
   "id": "6bae8439-b8d8-47a8-9e2f-b2ec24f26663",
   "metadata": {},
   "outputs": [
    {
     "data": {
      "text/plain": [
       "'Hello'"
      ]
     },
     "execution_count": 11,
     "metadata": {},
     "output_type": "execute_result"
    }
   ],
   "source": [
    "statement=\"Hello, world!\"\n",
    "statement[0:5]\n"
   ]
  },
  {
   "cell_type": "code",
   "execution_count": 14,
   "id": "31924b7e-a8e7-4e27-a959-3ea49f69bf90",
   "metadata": {},
   "outputs": [
    {
     "data": {
      "text/plain": [
       "'e'"
      ]
     },
     "execution_count": 14,
     "metadata": {},
     "output_type": "execute_result"
    }
   ],
   "source": [
    "statement[1]"
   ]
  },
  {
   "cell_type": "code",
   "execution_count": 12,
   "id": "d6e8cfc2-bd0f-4e0f-bec4-a5f166451eb7",
   "metadata": {},
   "outputs": [
    {
     "data": {
      "text/plain": [
       "'Hello'"
      ]
     },
     "execution_count": 12,
     "metadata": {},
     "output_type": "execute_result"
    }
   ],
   "source": [
    "statement[:5]\n"
   ]
  },
  {
   "cell_type": "code",
   "execution_count": 13,
   "id": "6d4d38a4-daf1-4bbb-a62b-f265c041427b",
   "metadata": {},
   "outputs": [
    {
     "data": {
      "text/plain": [
       "'lo, world!'"
      ]
     },
     "execution_count": 13,
     "metadata": {},
     "output_type": "execute_result"
    }
   ],
   "source": [
    "statement[3:]"
   ]
  },
  {
   "cell_type": "raw",
   "id": "a74a4f2a-7dfb-4dc4-bc6c-0ad7736d89de",
   "metadata": {},
   "source": [
    "7. What are the values of the following expressions?\n",
    "\"Hello\".upper()\n",
    "\"Hello\".upper().isupper()\n",
    "\"Hello\".upper().lower()"
   ]
  },
  {
   "cell_type": "code",
   "execution_count": 15,
   "id": "5e4a5737-09ee-4a3a-99ba-1a01431da81d",
   "metadata": {},
   "outputs": [
    {
     "data": {
      "text/plain": [
       "'HELLO'"
      ]
     },
     "execution_count": 15,
     "metadata": {},
     "output_type": "execute_result"
    }
   ],
   "source": [
    "\"Hello\".upper()"
   ]
  },
  {
   "cell_type": "code",
   "execution_count": 16,
   "id": "17cd9b51-162d-424c-bcc5-1acea7854414",
   "metadata": {},
   "outputs": [
    {
     "data": {
      "text/plain": [
       "True"
      ]
     },
     "execution_count": 16,
     "metadata": {},
     "output_type": "execute_result"
    }
   ],
   "source": [
    "\"Hello\".upper().isupper()"
   ]
  },
  {
   "cell_type": "code",
   "execution_count": 17,
   "id": "ed6c70a1-78b6-4af8-99e6-9077e8d8e9ef",
   "metadata": {},
   "outputs": [
    {
     "data": {
      "text/plain": [
       "'hello'"
      ]
     },
     "execution_count": 17,
     "metadata": {},
     "output_type": "execute_result"
    }
   ],
   "source": [
    "\"Hello\".upper().lower()"
   ]
  },
  {
   "cell_type": "raw",
   "id": "c130dbc3-e023-477e-abae-053cabb90981",
   "metadata": {},
   "source": [
    "8. What are the values of the following expressions?\n",
    "\"Remember, remember, the fifth of July.\".split()\n",
    "\"-\".join(\"There can only one.\".split())"
   ]
  },
  {
   "cell_type": "code",
   "execution_count": 18,
   "id": "417c8617-2687-4a03-8438-496db8a3cd7c",
   "metadata": {},
   "outputs": [
    {
     "data": {
      "text/plain": [
       "['Remember,', 'remember,', 'the', 'fifth', 'of', 'July.']"
      ]
     },
     "execution_count": 18,
     "metadata": {},
     "output_type": "execute_result"
    }
   ],
   "source": [
    "\"Remember, remember, the fifth of July.\".split()"
   ]
  },
  {
   "cell_type": "code",
   "execution_count": 19,
   "id": "5444058f-5008-49eb-9eec-ee372e9397ae",
   "metadata": {},
   "outputs": [
    {
     "data": {
      "text/plain": [
       "'There-can-only-one.'"
      ]
     },
     "execution_count": 19,
     "metadata": {},
     "output_type": "execute_result"
    }
   ],
   "source": [
    "\"-\".join(\"There can only one.\".split())"
   ]
  },
  {
   "cell_type": "raw",
   "id": "43bb9016-10a7-4188-8263-d50ff72e2635",
   "metadata": {},
   "source": [
    "9. What are the methods for right-justifying, left-justifying, and centering a string?"
   ]
  },
  {
   "cell_type": "raw",
   "id": "c4cafbc3-fdb0-48e0-bd51-b8c5b0e42747",
   "metadata": {},
   "source": [
    "str.ljust(len,fillchar)\n",
    "str.rjust(len,fillchar)\n",
    "str.center(len,fillchar)\n",
    "These functions respectively left-justify,right-justify and centre a string in a given width.And these spaces can be fill with character (fillchar)\n"
   ]
  },
  {
   "cell_type": "raw",
   "id": "93d8a6e4-1499-4e0e-95d6-7e9d0815f97b",
   "metadata": {},
   "source": [
    "10. What is the best way to remove whitespace characters from the start or end?"
   ]
  },
  {
   "cell_type": "code",
   "execution_count": 31,
   "id": "0860051c-45c1-42d3-a09a-a92e607bcf2c",
   "metadata": {},
   "outputs": [
    {
     "data": {
      "text/plain": [
       "'ohit'"
      ]
     },
     "execution_count": 31,
     "metadata": {},
     "output_type": "execute_result"
    }
   ],
   "source": [
    "l=\"rohit\"\n",
    "l.lstrip(\"r\")"
   ]
  },
  {
   "cell_type": "raw",
   "id": "5813222e-64e8-4c08-be88-da50b276f914",
   "metadata": {},
   "source": [
    "Using strip() function we cam remove whitespace characters from the start or end."
   ]
  },
  {
   "cell_type": "code",
   "execution_count": null,
   "id": "d3517eca-815c-43f1-9d95-9ad230e01262",
   "metadata": {},
   "outputs": [],
   "source": []
  }
 ],
 "metadata": {
  "kernelspec": {
   "display_name": "Python 3 (ipykernel)",
   "language": "python",
   "name": "python3"
  },
  "language_info": {
   "codemirror_mode": {
    "name": "ipython",
    "version": 3
   },
   "file_extension": ".py",
   "mimetype": "text/x-python",
   "name": "python",
   "nbconvert_exporter": "python",
   "pygments_lexer": "ipython3",
   "version": "3.9.12"
  }
 },
 "nbformat": 4,
 "nbformat_minor": 5
}
