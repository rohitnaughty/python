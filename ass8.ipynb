{
 "cells": [
  {
   "cell_type": "markdown",
   "id": "f47df307-db43-4cee-bd7e-d1222b704c69",
   "metadata": {},
   "source": [
    "1. Write a Python Program to Add Two Matrices?\n"
   ]
  },
  {
   "cell_type": "code",
   "execution_count": 17,
   "id": "0fda5f55-0470-46e4-8229-3d4214886e19",
   "metadata": {},
   "outputs": [
    {
     "name": "stdout",
     "output_type": "stream",
     "text": [
      "[2, 3, 4]\n",
      "[8, 9, 10]\n",
      "[7, 6, 5]\n"
     ]
    }
   ],
   "source": [
    "a=[[1,2,3],\n",
    "  [7,8,9],\n",
    "  [6,5,4]]\n",
    "b=[[1,1,1],\n",
    "   [1,1,1],\n",
    "   [1,1,1]]\n",
    "c=[[0,0,0],\n",
    "   [0,0,0],\n",
    "   [0,0,0]]                                  \n",
    "for i in range(len(a)):\n",
    "    for j in range(len(a[0])):\n",
    "        c[i][j]=a[i][j]+b[i][j]\n",
    "for r in c:\n",
    "    print(r)\n",
    "        \n",
    "    "
   ]
  },
  {
   "cell_type": "code",
   "execution_count": null,
   "id": "f326e809-3315-469c-a085-bb9da94f3de1",
   "metadata": {},
   "outputs": [],
   "source": []
  },
  {
   "cell_type": "markdown",
   "id": "97c27290-707f-480d-8ee6-0f27653a753a",
   "metadata": {},
   "source": [
    "2. Write a Python Program to Multiply Two Matrices?\n"
   ]
  },
  {
   "cell_type": "code",
   "execution_count": 23,
   "id": "a2b55bd4-b771-410b-bfe5-549806750599",
   "metadata": {},
   "outputs": [
    {
     "name": "stdout",
     "output_type": "stream",
     "text": [
      "[6, 6, 6]\n",
      "[24, 24, 24]\n",
      "[15, 15, 15]\n"
     ]
    }
   ],
   "source": [
    "a=[[1,2,3],\n",
    "  [7,8,9],\n",
    "  [6,5,4]]\n",
    "b=[[1,1,1],\n",
    "   [1,1,1],\n",
    "   [1,1,1]]\n",
    "c=[[0,0,0],\n",
    "   [0,0,0],\n",
    "   [0,0,0]]     \n",
    "for i in range(len(a)):\n",
    "    for j in range(len(a[0])):\n",
    "        for r in range(len(b)):\n",
    "            c[i][j]+=a[i][r]*b[r][j]\n",
    "for res in c:\n",
    "    print(res)\n",
    "\n"
   ]
  },
  {
   "cell_type": "code",
   "execution_count": null,
   "id": "51d658cb-6819-424f-9808-f066629304d6",
   "metadata": {},
   "outputs": [],
   "source": []
  },
  {
   "cell_type": "code",
   "execution_count": null,
   "id": "2ef1b9d7-ce2b-4dad-b709-a077faa26c2d",
   "metadata": {},
   "outputs": [],
   "source": [
    " \n",
    "3. Write a Python Program to Transpose a Matrix?\n"
   ]
  },
  {
   "cell_type": "code",
   "execution_count": 31,
   "id": "1f9f3ba5-5faf-4550-b020-304f1e3966d0",
   "metadata": {},
   "outputs": [
    {
     "name": "stdout",
     "output_type": "stream",
     "text": [
      "[1, 7, 6]\n",
      "[2, 8, 5]\n",
      "[3, 9, 4]\n"
     ]
    }
   ],
   "source": [
    "a=[[1,2,3],\n",
    "  [7,8,9],\n",
    "  [6,5,4]]\n",
    "\n",
    "c=[[0,0,0],[0,0,0],[0,0,0]]\n",
    "for i in range(len(a)):\n",
    "    for j in range(len(a[0])):\n",
    "        c[i][j]=a[j][i]\n",
    "for r in c:\n",
    "    print(r)\n",
    "\n"
   ]
  },
  {
   "cell_type": "code",
   "execution_count": null,
   "id": "8164ed34-7f86-4f2b-8d24-c747d66850c8",
   "metadata": {},
   "outputs": [],
   "source": [
    "4. Write a Python Program to Sort Words in Alphabetic Order?\n"
   ]
  },
  {
   "cell_type": "code",
   "execution_count": 10,
   "id": "96ba68be-1d7e-4fed-96f8-7d3d2ebb5105",
   "metadata": {},
   "outputs": [
    {
     "name": "stdout",
     "output_type": "stream",
     "text": [
      "the sorted words are :\n",
      "is\n",
      "my\n",
      "name\n",
      "nautiyal\n",
      "rohit\n"
     ]
    }
   ],
   "source": [
    "string=\"my name is rohit nautiyal\"\n",
    "word=[word.lower() for word in string.split()]\n",
    "word.sort()\n",
    "print(\"the sorted words are :\")\n",
    "for i in word:\n",
    "    print(i)\n"
   ]
  },
  {
   "cell_type": "raw",
   "id": "10a5529d-691d-4b97-bfcc-0a8135cf8ce2",
   "metadata": {},
   "source": [
    "5. Write a Python Program to Remove Punctuation From a String?"
   ]
  },
  {
   "cell_type": "code",
   "execution_count": 7,
   "id": "dcca8929-6026-4dca-8971-69a40a863649",
   "metadata": {},
   "outputs": [
    {
     "name": "stdin",
     "output_type": "stream",
     "text": [
      "enter a string  \"fdfghb;\"\n"
     ]
    },
    {
     "name": "stdout",
     "output_type": "stream",
     "text": [
      "filter string=  fdfghb\n"
     ]
    }
   ],
   "source": [
    "pun='''!()-[]{};:'\"\\,<>./?@#$%^&*_~'''\n",
    "no_pun=\"\"\n",
    "string= str(input(\"enter a string \"))\n",
    "for i in string:\n",
    "    if i not in pun:\n",
    "        no_pun+=i\n",
    "print(\"filter string= \",no_pun)"
   ]
  },
  {
   "cell_type": "code",
   "execution_count": null,
   "id": "be2404aa-4940-4961-b988-5c69e5d5b6cd",
   "metadata": {},
   "outputs": [],
   "source": []
  },
  {
   "cell_type": "code",
   "execution_count": null,
   "id": "0474c5b6-984d-4a8f-9138-d71ab49c372b",
   "metadata": {},
   "outputs": [],
   "source": []
  }
 ],
 "metadata": {
  "kernelspec": {
   "display_name": "Python 3 (ipykernel)",
   "language": "python",
   "name": "python3"
  },
  "language_info": {
   "codemirror_mode": {
    "name": "ipython",
    "version": 3
   },
   "file_extension": ".py",
   "mimetype": "text/x-python",
   "name": "python",
   "nbconvert_exporter": "python",
   "pygments_lexer": "ipython3",
   "version": "3.9.12"
  }
 },
 "nbformat": 4,
 "nbformat_minor": 5
}
