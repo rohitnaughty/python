{
 "cells": [
  {
   "cell_type": "markdown",
   "id": "193e3535-5a17-45b0-aba6-ac6080dae448",
   "metadata": {},
   "source": [
    "1-Write a Python program to print \"Hello Python\"?"
   ]
  },
  {
   "cell_type": "code",
   "execution_count": 2,
   "id": "d8906884-0ce3-42df-8097-789faf87c57d",
   "metadata": {},
   "outputs": [
    {
     "name": "stdout",
     "output_type": "stream",
     "text": [
      "hello python\n"
     ]
    }
   ],
   "source": [
    "print(\"hello python\")"
   ]
  },
  {
   "cell_type": "markdown",
   "id": "265f9e08-3673-438d-ae57-3dcc93f401fb",
   "metadata": {},
   "source": [
    "2-write a python program to do  arithmetical operations addition and division.?"
   ]
  },
  {
   "cell_type": "code",
   "execution_count": 20,
   "id": "58beef13-e89f-4c44-b307-4fe8ef89dcc9",
   "metadata": {},
   "outputs": [
    {
     "name": "stdin",
     "output_type": "stream",
     "text": [
      "enter operation + or / /\n",
      "input 1st value 55\n",
      "input 2nd value 5\n"
     ]
    },
    {
     "name": "stdout",
     "output_type": "stream",
     "text": [
      "division of 2 no is  11.0\n"
     ]
    }
   ],
   "source": [
    " operation=input(\"enter operation + or /\")\n",
    "if operation==\"+\":\n",
    "    a=int(input(\"input 1st value\"))\n",
    "    b=int(input(\"input 2nd value\"))\n",
    "    c=(a+b)\n",
    "    print(\"addition of 2 no is \",c)\n",
    "elif operation==\"/\":\n",
    "    a=int(input(\"input 1st value\"))\n",
    "    b=int(input(\"input 2nd value\"))\n",
    "    c=a/b\n",
    "    print (\"division of 2 no is \",c)\n",
    "else:print(\"operator not avilable\")       \n"
   ]
  },
  {
   "cell_type": "markdown",
   "id": "df1b1415-32f2-41c9-b640-094ef7e130d6",
   "metadata": {},
   "source": [
    "3-Write a Python program to find the area of a triangle?"
   ]
  },
  {
   "cell_type": "code",
   "execution_count": 30,
   "id": "76824de4-3080-4373-9ebc-8db5464835f7",
   "metadata": {},
   "outputs": [
    {
     "name": "stdin",
     "output_type": "stream",
     "text": [
      "input measure of 1st side of triangle 8\n",
      "input measure of 2nd side of triangle 6\n",
      "input measure of 3rd side of triangle 10\n"
     ]
    },
    {
     "name": "stdout",
     "output_type": "stream",
     "text": [
      "area of triangle is  24.0\n"
     ]
    }
   ],
   "source": [
    "a=float(input(\"input measure of 1st side of triangle\"))\n",
    "b=float(input(\"input measure of 2nd side of triangle\"))\n",
    "c=float(input(\"input measure of 3rd side of triangle\"))\n",
    "s=(a+b+c)/2\n",
    "area=(s*((s-a)*(s-b)*(s-c)))**.5\n",
    "print(\"area of triangle is \",area)"
   ]
  },
  {
   "cell_type": "markdown",
   "id": "a9abfe37-150c-476e-b577-eae77799a2e7",
   "metadata": {},
   "source": [
    "4-Write a Python program to swap two variables?"
   ]
  },
  {
   "cell_type": "code",
   "execution_count": 40,
   "id": "b87fe230-1056-4b69-895c-6612810ecebf",
   "metadata": {},
   "outputs": [
    {
     "name": "stdin",
     "output_type": "stream",
     "text": [
      "input 1st no 5451145\n",
      "input 2nd no 56656565\n"
     ]
    },
    {
     "name": "stdout",
     "output_type": "stream",
     "text": [
      "56656565 5451145 respectively\n"
     ]
    }
   ],
   "source": [
    "a=int(input(\"input 1st no\"))\n",
    "b=int(input(\"input 2nd no\"))\n",
    "X=a+b\n",
    "Y=X-b\n",
    "m=X-Y\n",
    "print( m,Y, \"respectively\")"
   ]
  },
  {
   "cell_type": "markdown",
   "id": "3b435863-536d-419f-be8e-8beb03ef14c0",
   "metadata": {},
   "source": [
    "5-Write a Python program to generate a random number?"
   ]
  },
  {
   "cell_type": "code",
   "execution_count": 42,
   "id": "6a86fc00-2c63-4041-8c21-dbc42417e3a2",
   "metadata": {},
   "outputs": [
    {
     "name": "stdout",
     "output_type": "stream",
     "text": [
      "80\n"
     ]
    }
   ],
   "source": [
    "import random\n",
    "number=random.randint(0,100)\n",
    "print(number)"
   ]
  },
  {
   "cell_type": "code",
   "execution_count": null,
   "id": "b009ce48-af21-4de3-99d7-4c08d6d4b537",
   "metadata": {},
   "outputs": [],
   "source": []
  },
  {
   "cell_type": "code",
   "execution_count": null,
   "id": "a354cdaa-d060-4d04-b903-9868d96d36a8",
   "metadata": {},
   "outputs": [],
   "source": []
  }
 ],
 "metadata": {
  "kernelspec": {
   "display_name": "Python 3 (ipykernel)",
   "language": "python",
   "name": "python3"
  },
  "language_info": {
   "codemirror_mode": {
    "name": "ipython",
    "version": 3
   },
   "file_extension": ".py",
   "mimetype": "text/x-python",
   "name": "python",
   "nbconvert_exporter": "python",
   "pygments_lexer": "ipython3",
   "version": "3.9.12"
  }
 },
 "nbformat": 4,
 "nbformat_minor": 5
}
