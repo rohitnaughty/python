{
 "cells": [
  {
   "cell_type": "markdown",
   "id": "bf080219-1424-4e16-89c3-c725dda3eb6e",
   "metadata": {},
   "source": [
    "1. Create a list called years_list, starting with the year of your birth, and each year thereafter until\n",
    "the year of your fifth birthday. For example, if you were born in 1980. the list would be years_list =\n",
    "[1980, 1981, 1982, 1983, 1984, 1985].\n"
   ]
  },
  {
   "cell_type": "code",
   "execution_count": 1,
   "id": "422bc228-329a-4f79-8e31-0978bb43923f",
   "metadata": {},
   "outputs": [
    {
     "data": {
      "text/plain": [
       "[1980, 1981, 1982, 1983, 1984, 1985]"
      ]
     },
     "execution_count": 1,
     "metadata": {},
     "output_type": "execute_result"
    }
   ],
   "source": [
    "year_list=[1980,1981,1982,1983,1984,1985]\n",
    "year_list"
   ]
  },
  {
   "cell_type": "markdown",
   "id": "622968c0-9af6-4af0-8fc4-dacc8e1da1f7",
   "metadata": {},
   "source": [
    "2. In which year in years_list was your third birthday? Remember, you were 0 years of age for your\n",
    "first year.\n"
   ]
  },
  {
   "cell_type": "code",
   "execution_count": 2,
   "id": "efbaf692-dc26-4f57-82a3-49a555392eaf",
   "metadata": {},
   "outputs": [
    {
     "data": {
      "text/plain": [
       "1983"
      ]
     },
     "execution_count": 2,
     "metadata": {},
     "output_type": "execute_result"
    }
   ],
   "source": [
    "year_list[3]"
   ]
  },
  {
   "cell_type": "markdown",
   "id": "18647387-d3b0-4af3-9cad-426343265bd5",
   "metadata": {},
   "source": [
    "3.In the years list, which year were you the oldest?\n"
   ]
  },
  {
   "cell_type": "code",
   "execution_count": 3,
   "id": "a5873712-6607-4d90-ba38-171437e0dd53",
   "metadata": {},
   "outputs": [
    {
     "data": {
      "text/plain": [
       "1985"
      ]
     },
     "execution_count": 3,
     "metadata": {},
     "output_type": "execute_result"
    }
   ],
   "source": [
    "year_list[-1]"
   ]
  },
  {
   "cell_type": "markdown",
   "id": "aec56483-4a05-47c9-9123-8095b877f55b",
   "metadata": {},
   "source": [
    "4. Make a list called things with these three strings as elements: \"mozzarella\", \"cinderella\",\n",
    "\"salmonella\".\n"
   ]
  },
  {
   "cell_type": "code",
   "execution_count": 4,
   "id": "85192a0f-3427-408a-b037-eefcf3637725",
   "metadata": {},
   "outputs": [],
   "source": [
    "things=[\"mozzarella\",\"cinderella\",\"salmonella\"]"
   ]
  },
  {
   "cell_type": "markdown",
   "id": "16428203-b5d2-4167-b389-9ab3e670b7d5",
   "metadata": {},
   "source": [
    "5. Capitalize the element in things that refers to a person and then print the list. Did it change the\n",
    "element in the list?\n"
   ]
  },
  {
   "cell_type": "code",
   "execution_count": 5,
   "id": "e3605dda-386d-4e57-869a-4c61875f4eaf",
   "metadata": {},
   "outputs": [
    {
     "data": {
      "text/plain": [
       "'Cinderella'"
      ]
     },
     "execution_count": 5,
     "metadata": {},
     "output_type": "execute_result"
    }
   ],
   "source": [
    "things[1].capitalize()"
   ]
  },
  {
   "cell_type": "markdown",
   "id": "f10477bb-39b1-4750-a344-7a383f274e2d",
   "metadata": {},
   "source": [
    "6. Make a surprise list with the elements &quot;Groucho,&quot; &quot;Chico,&quot; and &quot;Harpo.&quot;\n"
   ]
  },
  {
   "cell_type": "code",
   "execution_count": 6,
   "id": "343d8ff8-e08a-4955-bf2d-0ede64aaba8b",
   "metadata": {},
   "outputs": [
    {
     "data": {
      "text/plain": [
       "['Groucho', 'Chico', 'Harpo']"
      ]
     },
     "execution_count": 6,
     "metadata": {},
     "output_type": "execute_result"
    }
   ],
   "source": [
    "surprise=[\"Groucho\",\"Chico\",\"Harpo\"]\n",
    "surprise"
   ]
  },
  {
   "cell_type": "markdown",
   "id": "69993227-c9c9-43ff-9610-15b5e6bc53e2",
   "metadata": {},
   "source": [
    "7. Lowercase the last element of the surprise list, reverse it, and then capitalize it.\n"
   ]
  },
  {
   "cell_type": "code",
   "execution_count": 7,
   "id": "8fb71146-fcd9-4b4d-b94c-b3fe39505343",
   "metadata": {},
   "outputs": [
    {
     "data": {
      "text/plain": [
       "'Oprah'"
      ]
     },
     "execution_count": 7,
     "metadata": {},
     "output_type": "execute_result"
    }
   ],
   "source": [
    "surprise[-1]=surprise[-1].lower()\n",
    "surprise[-1]=surprise[-1][::-1]\n",
    "surprise[-1].capitalize()"
   ]
  },
  {
   "cell_type": "markdown",
   "id": "9c02c0e3-be2c-4265-ba70-701378d3ff1f",
   "metadata": {},
   "source": [
    "8. Make an English-to-French dictionary called e2f and print it. Here are your starter words: dog is\n",
    "chien, cat is chat, and walrus is morse.\n"
   ]
  },
  {
   "cell_type": "code",
   "execution_count": 8,
   "id": "163a3a36-33b6-4f64-a0ae-47def2f379a9",
   "metadata": {},
   "outputs": [
    {
     "data": {
      "text/plain": [
       "{'dog': 'chien', 'cat': 'chat', 'walrus': 'morse'}"
      ]
     },
     "execution_count": 8,
     "metadata": {},
     "output_type": "execute_result"
    }
   ],
   "source": [
    "e2f={\"dog\":\"chien\",\"cat\":\"chat\",\"walrus\":\"morse\"}\n",
    "e2f"
   ]
  },
  {
   "cell_type": "markdown",
   "id": "3a4beb85-0fc5-470d-98ee-a13296c42213",
   "metadata": {},
   "source": [
    "9. Write the French word for walrus in your three-word dictionary e2f.\n"
   ]
  },
  {
   "cell_type": "code",
   "execution_count": 9,
   "id": "7078de3a-85df-419b-9792-1b112d7c9747",
   "metadata": {},
   "outputs": [
    {
     "data": {
      "text/plain": [
       "'morse'"
      ]
     },
     "execution_count": 9,
     "metadata": {},
     "output_type": "execute_result"
    }
   ],
   "source": [
    "e2f[\"walrus\"]"
   ]
  },
  {
   "cell_type": "markdown",
   "id": "279667f7-74f2-4f70-8256-f0a0e4b19abb",
   "metadata": {},
   "source": [
    "10. Make a French-to-English dictionary called f2e from e2f. Use the items method.\n"
   ]
  },
  {
   "cell_type": "code",
   "execution_count": 10,
   "id": "5f849be2-afe7-4a86-b463-47f0f8597b11",
   "metadata": {},
   "outputs": [
    {
     "data": {
      "text/plain": [
       "{'chien': 'dog', 'chat': 'cat', 'morse': 'walrus'}"
      ]
     },
     "execution_count": 10,
     "metadata": {},
     "output_type": "execute_result"
    }
   ],
   "source": [
    "f2e={}\n",
    "for english,french in e2f.items():\n",
    "    f2e[french]=english\n",
    "f2e"
   ]
  },
  {
   "cell_type": "markdown",
   "id": "48401522-39c5-4e0c-847e-b42d1d465f5d",
   "metadata": {},
   "source": [
    "11. Print the English version of the French word chien using f2e.\n"
   ]
  },
  {
   "cell_type": "code",
   "execution_count": 11,
   "id": "9f5457a5-b204-4603-939a-833bf4d932b1",
   "metadata": {},
   "outputs": [
    {
     "data": {
      "text/plain": [
       "'dog'"
      ]
     },
     "execution_count": 11,
     "metadata": {},
     "output_type": "execute_result"
    }
   ],
   "source": [
    "f2e[\"chien\"]"
   ]
  },
  {
   "cell_type": "markdown",
   "id": "45a4bc93-4623-4b1a-a349-81951b28616c",
   "metadata": {},
   "source": [
    "12. Make and print a set of English words from the keys in e2f.\n"
   ]
  },
  {
   "cell_type": "code",
   "execution_count": 12,
   "id": "f928ec69-cd94-43ff-9665-f5bfbdcffe2c",
   "metadata": {},
   "outputs": [
    {
     "data": {
      "text/plain": [
       "{'cat', 'dog', 'walrus'}"
      ]
     },
     "execution_count": 12,
     "metadata": {},
     "output_type": "execute_result"
    }
   ],
   "source": [
    "set(e2f.keys())"
   ]
  },
  {
   "cell_type": "markdown",
   "id": "a28a6323-28d9-4b7d-bf39-369b05778389",
   "metadata": {},
   "source": [
    "13. Make a multilevel dictionary called life. Use these strings for the topmost keys: \"animals\", \"plants\",\n",
    "and \"other\". Make the \"animals\" key refer to another dictionary with the keys \"cats\",\"octopi\", and\n",
    "\"emus\". Make the\"cats\" key refer to a list of strings with the values \"Henri\", \"Grumpy\", and \"Lucy\".\n",
    "Make all the other keys refer to empty dictionaries.\n"
   ]
  },
  {
   "cell_type": "code",
   "execution_count": 13,
   "id": "80b8e993-e2c4-48b0-b9a8-2d488b10c5f2",
   "metadata": {},
   "outputs": [
    {
     "data": {
      "text/plain": [
       "{'animal': {'cats': ['Henri', 'Grumpy', 'Lucy'], 'octopi': {}, 'enus': {}},\n",
       " 'plants': {},\n",
       " 'other': {}}"
      ]
     },
     "execution_count": 13,
     "metadata": {},
     "output_type": "execute_result"
    }
   ],
   "source": [
    "life={\n",
    "    \"animal\":{\n",
    "        \"cats\":[\n",
    "        \"Henri\",\"Grumpy\",\"Lucy\"\n",
    "        ],\n",
    "        \"octopi\":{},\n",
    "        \"enus\":{}\n",
    "        \n",
    "    },\n",
    "    \"plants\":{},\n",
    "    \"other\":{}\n",
    " \n",
    "    }\n",
    "life"
   ]
  },
  {
   "cell_type": "markdown",
   "id": "efea079d-2f28-4aaa-9966-8c87840b3fa6",
   "metadata": {},
   "source": [
    "14. Print the top-level keys of life.\n"
   ]
  },
  {
   "cell_type": "code",
   "execution_count": 14,
   "id": "691cd12e-f11d-4cb6-a8e5-c5bf7b86c6a5",
   "metadata": {},
   "outputs": [
    {
     "name": "stdout",
     "output_type": "stream",
     "text": [
      "dict_keys(['animal', 'plants', 'other'])\n",
      "['animal', 'plants', 'other']\n"
     ]
    }
   ],
   "source": [
    "print(life.keys())\n",
    "print(list(life.keys()))"
   ]
  },
  {
   "cell_type": "markdown",
   "id": "1f27c124-f18e-4de5-8244-f1fdee3e1965",
   "metadata": {},
   "source": [
    "15. Print the keys for life[\"animals\"].\n"
   ]
  },
  {
   "cell_type": "code",
   "execution_count": 15,
   "id": "5e2e9ea4-e350-4b6c-aeb0-c2b7f1d6d964",
   "metadata": {},
   "outputs": [
    {
     "name": "stdout",
     "output_type": "stream",
     "text": [
      "dict_keys(['cats', 'octopi', 'enus'])\n"
     ]
    }
   ],
   "source": [
    "print(life[\"animal\"].keys())"
   ]
  },
  {
   "cell_type": "markdown",
   "id": "b91a1cea-9ba4-4e53-a052-32186537c0d7",
   "metadata": {},
   "source": [
    "16. Print the values for life[\"animals\"][\"cats\"]"
   ]
  },
  {
   "cell_type": "code",
   "execution_count": 16,
   "id": "d7452da3-24d4-49c0-8c47-9f95e43d778b",
   "metadata": {},
   "outputs": [
    {
     "name": "stdout",
     "output_type": "stream",
     "text": [
      "['Henri', 'Grumpy', 'Lucy']\n"
     ]
    }
   ],
   "source": [
    "print(life['animal']['cats'])"
   ]
  },
  {
   "cell_type": "code",
   "execution_count": null,
   "id": "8c3da176-c70e-4cf3-8230-13c6b7ba5102",
   "metadata": {},
   "outputs": [],
   "source": []
  },
  {
   "cell_type": "code",
   "execution_count": null,
   "id": "92b4fd91-484b-4fa2-9d56-272ce4f9a9e6",
   "metadata": {},
   "outputs": [],
   "source": []
  },
  {
   "cell_type": "code",
   "execution_count": null,
   "id": "5235cc4a-0db7-492c-8a5a-c7d7be9f97c9",
   "metadata": {},
   "outputs": [],
   "source": []
  }
 ],
 "metadata": {
  "kernelspec": {
   "display_name": "Python 3 (ipykernel)",
   "language": "python",
   "name": "python3"
  },
  "language_info": {
   "codemirror_mode": {
    "name": "ipython",
    "version": 3
   },
   "file_extension": ".py",
   "mimetype": "text/x-python",
   "name": "python",
   "nbconvert_exporter": "python",
   "pygments_lexer": "ipython3",
   "version": "3.9.12"
  }
 },
 "nbformat": 4,
 "nbformat_minor": 5
}
